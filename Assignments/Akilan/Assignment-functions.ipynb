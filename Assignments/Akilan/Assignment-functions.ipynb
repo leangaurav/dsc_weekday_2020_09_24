{
 "cells": [
  {
   "cell_type": "code",
   "execution_count": 2,
   "metadata": {},
   "outputs": [
    {
     "name": "stdout",
     "output_type": "stream",
     "text": [
      "Enter a String :\tAki\n",
      "Enter a String :\tRag\n",
      "Rag\n",
      "Aki\n"
     ]
    }
   ],
   "source": [
    "#1. Swap two Strings\n",
    "s1=input('Enter a String :\\t')\n",
    "s2=input('Enter a String :\\t')\n",
    "s1,s2=s2,s1\n",
    "print(s1)\n",
    "print(s2)"
   ]
  },
  {
   "cell_type": "code",
   "execution_count": 11,
   "metadata": {},
   "outputs": [
    {
     "name": "stdout",
     "output_type": "stream",
     "text": [
      "[1, 11, 4, 21]\n",
      "9.25\n"
     ]
    }
   ],
   "source": [
    "#2. Average of 4 random numbers in 0 to 26\n",
    "import random\n",
    "s1=random.sample(range(0,27),4)\n",
    "print(s1)\n",
    "print(sum(s1)/4)"
   ]
  },
  {
   "cell_type": "code",
   "execution_count": 16,
   "metadata": {},
   "outputs": [
    {
     "name": "stdout",
     "output_type": "stream",
     "text": [
      "M\n",
      "['__add__', '__class__', '__contains__', '__delattr__', '__dir__', '__doc__', '__eq__', '__format__', '__ge__', '__getattribute__', '__getitem__', '__getnewargs__', '__gt__', '__hash__', '__init__', '__init_subclass__', '__iter__', '__le__', '__len__', '__lt__', '__mod__', '__mul__', '__ne__', '__new__', '__reduce__', '__reduce_ex__', '__repr__', '__rmod__', '__rmul__', '__setattr__', '__sizeof__', '__str__', '__subclasshook__', 'capitalize', 'casefold', 'center', 'count', 'encode', 'endswith', 'expandtabs', 'find', 'format', 'format_map', 'index', 'isalnum', 'isalpha', 'isascii', 'isdecimal', 'isdigit', 'isidentifier', 'islower', 'isnumeric', 'isprintable', 'isspace', 'istitle', 'isupper', 'join', 'ljust', 'lower', 'lstrip', 'maketrans', 'partition', 'replace', 'rfind', 'rindex', 'rjust', 'rpartition', 'rsplit', 'rstrip', 'split', 'splitlines', 'startswith', 'strip', 'swapcase', 'title', 'translate', 'upper', 'zfill']\n"
     ]
    }
   ],
   "source": [
    "#3. String Random value and module string\n",
    "a='ABCDEFGHIJKLMNOPQRSTUVWXYZabcdefghijklmnopqrstuvwxyz'\n",
    "s=random.sample(a,1)\n",
    "print(s[0])\n",
    "print(dir(str))"
   ]
  },
  {
   "cell_type": "code",
   "execution_count": 18,
   "metadata": {},
   "outputs": [
    {
     "name": "stdout",
     "output_type": "stream",
     "text": [
      "Enter a Principal Amount :\t1000\n",
      "Enter a Rate of Interest :\t2.5\n",
      "Enter a year :\t2\n",
      "Simple Interest : 50.0\n"
     ]
    }
   ],
   "source": [
    "#4. SI function\n",
    "def getsi(p,r,t):\n",
    "    return (p*r*t)/100\n",
    "\n",
    "p=float(input('Enter a Principal Amount :\\t'))\n",
    "r=float(input('Enter a Rate of Interest :\\t'))\n",
    "t=float(input('Enter a year :\\t'))\n",
    "print('Simple Interest :',getsi(p,r,t))"
   ]
  },
  {
   "cell_type": "code",
   "execution_count": 20,
   "metadata": {},
   "outputs": [
    {
     "name": "stdout",
     "output_type": "stream",
     "text": [
      "Enter a Principal Amount :\t1000\n",
      "Enter a Rate of Interest :\t2\n",
      "Enter a year :\t2\n",
      "Total Amouny : 2040.0\n"
     ]
    }
   ],
   "source": [
    "#5. Get Amount for SI\n",
    "def get_amount():\n",
    "    return (p*t)+getsi(p,r,t)\n",
    "\n",
    "p=float(input('Enter a Principal Amount :\\t'))\n",
    "r=float(input('Enter a Rate of Interest :\\t'))\n",
    "t=float(input('Enter a year :\\t'))\n",
    "print('Total Amouny :',get_amount())"
   ]
  },
  {
   "cell_type": "code",
   "execution_count": 22,
   "metadata": {},
   "outputs": [
    {
     "name": "stdout",
     "output_type": "stream",
     "text": [
      "Enter a Principal Amount :\t1000\n",
      "Enter a Rate of Interest :\t2.5\n",
      "Enter a year :\t2\n",
      "Compund Interest : 122.5\n"
     ]
    }
   ],
   "source": [
    "#6. Compund Interest\n",
    "def get_ci(p,r,t):\n",
    "    return (p*((1+r)**t))/100\n",
    "\n",
    "p=float(input('Enter a Principal Amount :\\t'))\n",
    "r=float(input('Enter a Rate of Interest :\\t'))\n",
    "t=float(input('Enter a year :\\t'))\n",
    "print('Compund Interest :',get_ci(p,r,t))\n"
   ]
  },
  {
   "cell_type": "code",
   "execution_count": 26,
   "metadata": {},
   "outputs": [
    {
     "name": "stdout",
     "output_type": "stream",
     "text": [
      "Enter a Numerator : \t6\n",
      "Enter a Numerator : \t4\n",
      "(1, 2) <class 'tuple'>\n"
     ]
    }
   ],
   "source": [
    "#7. Quotient and Remainder as Tuple\n",
    "def get_q_r(x,y):\n",
    "    return (x//y,x%y)\n",
    "\n",
    "x=int(input('Enter a Numerator : \\t'))\n",
    "y=int(input('Enter a Numerator : \\t'))\n",
    "print(get_q_r(x,y),type(get_q_r(x,y)))"
   ]
  },
  {
   "cell_type": "code",
   "execution_count": 28,
   "metadata": {},
   "outputs": [
    {
     "name": "stdout",
     "output_type": "stream",
     "text": [
      "Enter  Base of triangle :\t3\n",
      "Enter  Height of triangle :\t4\n",
      "Hypotenese of Side : 5.0\n"
     ]
    }
   ],
   "source": [
    "#8. hypotenese of right angle triangle\n",
    "import math\n",
    "b=int(input('Enter  Base of triangle :\\t'))\n",
    "h=int(input('Enter  Height of triangle :\\t'))\n",
    "print('Hypotenese of Side :',math.sqrt(pow(b,2)+pow(h,2)))"
   ]
  },
  {
   "cell_type": "code",
   "execution_count": 55,
   "metadata": {},
   "outputs": [
    {
     "name": "stdout",
     "output_type": "stream",
     "text": [
      "Enter a Number :\t82400\n",
      "0 day 22 hour 53 minute 20 second\n"
     ]
    }
   ],
   "source": [
    "#9. Input Seconds\n",
    "n=int(input('Enter a Number :\\t'))\n",
    "d,r=n//(24*60*60),n%(24*60*60)\n",
    "h,r=r//(60*60),r%(60*60)\n",
    "m,r=r//60,r%60\n",
    "print(d,'day',h,'hour',m,'minute',r,'second')\n"
   ]
  },
  {
   "cell_type": "code",
   "execution_count": 56,
   "metadata": {},
   "outputs": [
    {
     "name": "stdout",
     "output_type": "stream",
     "text": [
      "2 -2\n"
     ]
    }
   ],
   "source": [
    "X=2\n",
    "X *=3\n",
    "X=X%4\n",
    "Y=-X\n",
    "print(X,Y) # 2 -2"
   ]
  },
  {
   "cell_type": "code",
   "execution_count": 57,
   "metadata": {},
   "outputs": [
    {
     "name": "stdout",
     "output_type": "stream",
     "text": [
      "None\n"
     ]
    }
   ],
   "source": [
    "def funct():\n",
    "    pass\n",
    "print(funct()) #None\n"
   ]
  },
  {
   "cell_type": "code",
   "execution_count": 1,
   "metadata": {},
   "outputs": [
    {
     "name": "stdout",
     "output_type": "stream",
     "text": [
      "Enter a string :aa\n",
      "Enter a string :aa\n",
      "Enter a string :bb\n",
      "Enter a string :\n"
     ]
    }
   ],
   "source": [
    "f=open(\"inputs.txt\",\"w\")\n",
    "s=input('Enter a string :')\n",
    "while s != '':\n",
    "    f.write(s)\n",
    "    f.write(\"\\n\")\n",
    "    s=input('Enter a string :')\n",
    "f.close()"
   ]
  },
  {
   "cell_type": "code",
   "execution_count": null,
   "metadata": {},
   "outputs": [],
   "source": []
  }
 ],
 "metadata": {
  "kernelspec": {
   "display_name": "Python 3",
   "language": "python",
   "name": "python3"
  },
  "language_info": {
   "codemirror_mode": {
    "name": "ipython",
    "version": 3
   },
   "file_extension": ".py",
   "mimetype": "text/x-python",
   "name": "python",
   "nbconvert_exporter": "python",
   "pygments_lexer": "ipython3",
   "version": "3.8.3"
  }
 },
 "nbformat": 4,
 "nbformat_minor": 4
}

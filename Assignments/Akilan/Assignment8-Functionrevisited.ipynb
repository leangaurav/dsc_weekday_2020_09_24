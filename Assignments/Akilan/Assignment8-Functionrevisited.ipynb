{
 "cells": [
  {
   "cell_type": "code",
   "execution_count": 4,
   "metadata": {},
   "outputs": [
    {
     "name": "stdout",
     "output_type": "stream",
     "text": [
      "Enter a Number :\t5\n",
      "5 25\n",
      "5 0.2\n",
      "5 -5\n"
     ]
    }
   ],
   "source": [
    "n=int(input('Enter a Number :\\t'))\n",
    "print(n, (lambda x:x**2)(n))\n",
    "print(n, (lambda x:(1/x))(n))\n",
    "print(n, (lambda x:(-x))(n))"
   ]
  },
  {
   "cell_type": "code",
   "execution_count": 7,
   "metadata": {},
   "outputs": [
    {
     "name": "stdout",
     "output_type": "stream",
     "text": [
      "21\n",
      "[1, 21, 3, 4, 5, 10, 6]\n"
     ]
    }
   ],
   "source": [
    "import functools\n",
    "l=[1,21,3,4,5,10,6]\n",
    "print(functools.reduce(lambda a,b : a if a>b else b,l))\n",
    "print(l)"
   ]
  },
  {
   "cell_type": "code",
   "execution_count": 23,
   "metadata": {},
   "outputs": [
    {
     "name": "stdout",
     "output_type": "stream",
     "text": [
      "[1, 4, 16]\n",
      "[1.0, 0.25, 0.0625]\n",
      "[-1.0, -0.25, -0.0625]\n"
     ]
    }
   ],
   "source": [
    "l=[1,2,4]\n",
    "d = [(lambda x: x**2),(lambda x: (1/pow(x,2))),(lambda x: (-1/pow(x,2)))]\n",
    "\n",
    "def map_mul(f,s):\n",
    "    l1=list()\n",
    "    for j in range(len(s)):\n",
    "        l1.append(f(s[j]))\n",
    "    return l1\n",
    "for i in range(len(d)):\n",
    "    l2=map_mul(d[i],l)\n",
    "    print(l2)\n",
    " "
   ]
  },
  {
   "cell_type": "code",
   "execution_count": 24,
   "metadata": {},
   "outputs": [
    {
     "name": "stdout",
     "output_type": "stream",
     "text": [
      "[1.0, 0.5, 0.25, 0.125]\n"
     ]
    }
   ],
   "source": [
    "functs=[lambda x:x**0.5, lambda x:1/x]\n",
    "l=[1,4,16,64]\n",
    "ans=[]\n",
    "for num in l:\n",
    "    res=num\n",
    "    for func in functs:\n",
    "        res= func(res)\n",
    "    ans.append(res)\n",
    "print(ans)"
   ]
  },
  {
   "cell_type": "code",
   "execution_count": 33,
   "metadata": {},
   "outputs": [
    {
     "data": {
      "text/plain": [
       "[1, 2, 3]"
      ]
     },
     "execution_count": 33,
     "metadata": {},
     "output_type": "execute_result"
    }
   ],
   "source": [
    "l=[1,2,'a','b','abc',3]\n",
    "f = list(filter(lambda x: isinstance(x, (int, float)), l))\n",
    "f\n",
    "\n"
   ]
  },
  {
   "cell_type": "code",
   "execution_count": 53,
   "metadata": {},
   "outputs": [
    {
     "data": {
      "text/plain": [
       "[1.778, 1.524, 1.8288]"
      ]
     },
     "execution_count": 53,
     "metadata": {},
     "output_type": "execute_result"
    }
   ],
   "source": [
    "h=[\"5ft10in\",\"5ft\",\"5ft12in\"]\n",
    "h1=[]\n",
    "for i in range(len(h)):\n",
    "    a=str(h[i].replace(\"ft\",\".\").replace(\"in\",\"\"))\n",
    "    b=(a.split('.'))\n",
    "    c=0\n",
    "    for j in range(len(b)):\n",
    "        if b[j] != '':\n",
    "            c+= int(b[j]) * 12 if j== 0 else int(b[j]) \n",
    "    h1.append(c*2.54/100)\n",
    "        \n",
    "h1"
   ]
  },
  {
   "cell_type": "code",
   "execution_count": null,
   "metadata": {},
   "outputs": [],
   "source": [
    "a=\"a.b\"\n"
   ]
  }
 ],
 "metadata": {
  "kernelspec": {
   "display_name": "Python 3",
   "language": "python",
   "name": "python3"
  },
  "language_info": {
   "codemirror_mode": {
    "name": "ipython",
    "version": 3
   },
   "file_extension": ".py",
   "mimetype": "text/x-python",
   "name": "python",
   "nbconvert_exporter": "python",
   "pygments_lexer": "ipython3",
   "version": "3.8.3"
  }
 },
 "nbformat": 4,
 "nbformat_minor": 4
}

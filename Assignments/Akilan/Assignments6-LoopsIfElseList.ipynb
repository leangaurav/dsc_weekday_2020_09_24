{
 "cells": [
  {
   "cell_type": "code",
   "execution_count": 4,
   "metadata": {},
   "outputs": [
    {
     "name": "stdout",
     "output_type": "stream",
     "text": [
      "Enter a string :\tAkilan R\n",
      "A\n",
      "k\n",
      "i\n",
      "l\n",
      "a\n",
      "n\n",
      " \n",
      "R\n"
     ]
    }
   ],
   "source": [
    "#1 print individual character of a string\n",
    "s=input('Enter a string :\\t')\n",
    "for n in s:\n",
    "    print(n)"
   ]
  },
  {
   "cell_type": "code",
   "execution_count": 5,
   "metadata": {},
   "outputs": [
    {
     "name": "stdout",
     "output_type": "stream",
     "text": [
      "Enter a string :\tAkilan R\n",
      "Ascii of A : 65\n",
      "Ascii of k : 107\n",
      "Ascii of i : 105\n",
      "Ascii of l : 108\n",
      "Ascii of a : 97\n",
      "Ascii of n : 110\n",
      "Ascii of   : 32\n",
      "Ascii of R : 82\n"
     ]
    }
   ],
   "source": [
    "#2 print ascii value of character in a string\n",
    "s=input('Enter a string :\\t')\n",
    "for n in s:\n",
    "    print('Ascii of',n,':',ord(n))"
   ]
  },
  {
   "cell_type": "code",
   "execution_count": 10,
   "metadata": {},
   "outputs": [
    {
     "name": "stdout",
     "output_type": "stream",
     "text": [
      "Enter a Value :\t12\n",
      "Enter a Value :\t13\n",
      "Enter a Value :\t14\n",
      "Enter a Value :\t15\n",
      "Enter a Value :\t16\n",
      "Enter a Value :\t17\n",
      "Enter a Value :\t19\n",
      "Enter a Value :\t\n",
      "64\n"
     ]
    }
   ],
   "source": [
    "#3 list of numbers from user as argument\n",
    "a=0\n",
    "b=1\n",
    "while True:\n",
    "    s=(input('Enter a Value :\\t'))\n",
    "    if (s) == '':\n",
    "        break\n",
    "    if int(s)%2 != 0:\n",
    "        a+=int(s)\n",
    "print(a)\n",
    "    \n",
    "    \n",
    "    "
   ]
  },
  {
   "cell_type": "markdown",
   "metadata": {},
   "source": [
    "print(dir([]))"
   ]
  },
  {
   "cell_type": "code",
   "execution_count": 12,
   "metadata": {},
   "outputs": [
    {
     "name": "stdout",
     "output_type": "stream",
     "text": [
      "Enter a Number :\t12\n",
      "Enter a Number :\t13\n",
      "Enter a Number :\t14\n",
      "Enter a Number :\t15\n",
      "Enter a Number :\t16\n",
      "Enter a Number :\t17\n",
      "Enter a Number :\t18\n",
      "Enter a Number :\t\n",
      "Enter to find a number :\t15\n",
      "3\n"
     ]
    }
   ],
   "source": [
    "#4. Index of value in tuple\n",
    "l=[]\n",
    "while True:\n",
    "    s=input('Enter a Number :\\t')\n",
    "    if s == '':\n",
    "        break\n",
    "    l.append(int(s))\n",
    "t=tuple(l)\n",
    "n=int(input('Enter to find a number :\\t'))\n",
    "print(t.index(n))"
   ]
  },
  {
   "cell_type": "code",
   "execution_count": 23,
   "metadata": {},
   "outputs": [
    {
     "name": "stdout",
     "output_type": "stream",
     "text": [
      "[52, 24, 89, 27, 78, 5, 93, 17, 38, 64]\n",
      "52\t89\t78\t93\t38\t\n",
      "Sum of 10 randoms : 487\n",
      "Average of 10 randoms : 48.7\n"
     ]
    }
   ],
   "source": [
    "#5. Create 10 random number, sum of even index\n",
    "import random\n",
    "\n",
    "r= (random.sample(range(1,101),10))\n",
    "print(r)\n",
    "a=0\n",
    "for n in range(0,10):\n",
    "    a+=r[n]\n",
    "    if n%2 == 0:\n",
    "        print(r[n],end= '\\t')\n",
    "print()\n",
    "print('Sum of 10 randoms :',a)\n",
    "print('Average of 10 randoms :',a/10)\n",
    "\n"
   ]
  },
  {
   "cell_type": "code",
   "execution_count": 3,
   "metadata": {},
   "outputs": [
    {
     "name": "stdout",
     "output_type": "stream",
     "text": [
      "Enter a Number :\t1\n",
      "Enter a Number :\t2\n",
      "Enter a Number :\t3\n",
      "Enter a Number :\t4\n",
      "Enter a Number :\t5\n",
      "Enter a Number :\t6\n",
      "Enter a Number :\t7\n",
      "Enter a Number :\t8\n",
      "Enter a Number :\t9\n",
      "Enter a Number :\t10\n",
      "[1, 2, 3, 4, 5, 6, 7, 8, 9, 10] <class 'list'>\n",
      "55\n"
     ]
    }
   ],
   "source": [
    "#6\n",
    "r=[]\n",
    "a=0\n",
    "for i in range(10):\n",
    "    n= int(input('Enter a Number :\\t'))\n",
    "    r.append(n)\n",
    "    a=a+r[i]\n",
    "print(r,type(r))\n",
    "print(a)\n"
   ]
  },
  {
   "cell_type": "code",
   "execution_count": 4,
   "metadata": {},
   "outputs": [
    {
     "name": "stdout",
     "output_type": "stream",
     "text": [
      "Enter a Number :\t9\n",
      "9 X 0 = 0\n",
      "9 X 1 = 9\n",
      "9 X 2 = 18\n",
      "9 X 3 = 27\n",
      "9 X 4 = 36\n",
      "9 X 5 = 45\n",
      "9 X 6 = 54\n",
      "9 X 7 = 63\n",
      "9 X 8 = 72\n",
      "9 X 9 = 81\n"
     ]
    }
   ],
   "source": [
    "#7\n",
    "n=int(input('Enter a Number :\\t'))\n",
    "for i in range(10):\n",
    "    print(n,'X',i,'=',n*i)\n"
   ]
  },
  {
   "cell_type": "code",
   "execution_count": 3,
   "metadata": {},
   "outputs": [
    {
     "name": "stdout",
     "output_type": "stream",
     "text": [
      "Enter a String :\t\n",
      "0\n"
     ]
    }
   ],
   "source": [
    "#8\n",
    "s=input('Enter a String :\\t')\n",
    "a=0\n",
    "for i in range(len(s)):\n",
    "    if s[i]==' ':\n",
    "        a+=1\n",
    "print(a)"
   ]
  },
  {
   "cell_type": "code",
   "execution_count": 8,
   "metadata": {},
   "outputs": [
    {
     "name": "stdout",
     "output_type": "stream",
     "text": [
      "Enter a String :\tAkilan\n",
      "AKILAN\n",
      "3\n"
     ]
    }
   ],
   "source": [
    "#9\n",
    "s=input('Enter a String :\\t')\n",
    "s=s.upper()\n",
    "print(s)\n",
    "a=0\n",
    "for i in range(len(s)):\n",
    "    if s[i] in ['A', 'E', 'I', 'O', 'U']:\n",
    "        a+=1\n",
    "print(a)"
   ]
  },
  {
   "cell_type": "code",
   "execution_count": 29,
   "metadata": {},
   "outputs": [
    {
     "name": "stdout",
     "output_type": "stream",
     "text": [
      "Enter a String :\tAkilan Ragavan\n",
      "_k_l_n R_g_v_n\n"
     ]
    }
   ],
   "source": [
    "#10\n",
    "s=input('Enter a String :\\t')\n",
    "a=''\n",
    "for i in range(len(s)):\n",
    "    if s[i] in ['A', 'E', 'I', 'O', 'U','a','e','i','o','u']:\n",
    "        a+='_'\n",
    "    else:\n",
    "        a+=s[i]\n",
    "print(a)"
   ]
  },
  {
   "cell_type": "code",
   "execution_count": 30,
   "metadata": {},
   "outputs": [
    {
     "name": "stdout",
     "output_type": "stream",
     "text": [
      "0\n"
     ]
    }
   ],
   "source": [
    "for num in range(10):\n",
    "    print(num)\n",
    "    if num % 4 ==0:\n",
    "        break"
   ]
  },
  {
   "cell_type": "code",
   "execution_count": 31,
   "metadata": {},
   "outputs": [
    {
     "name": "stdout",
     "output_type": "stream",
     "text": [
      "0\n"
     ]
    },
    {
     "ename": "SystemExit",
     "evalue": "",
     "output_type": "error",
     "traceback": [
      "An exception has occurred, use %tb to see the full traceback.\n",
      "\u001b[1;31mSystemExit\u001b[0m\n"
     ]
    },
    {
     "name": "stderr",
     "output_type": "stream",
     "text": [
      "C:\\Users\\Akilan\\anaconda3\\lib\\site-packages\\IPython\\core\\interactiveshell.py:3351: UserWarning: To exit: use 'exit', 'quit', or Ctrl-D.\n",
      "  warn(\"To exit: use 'exit', 'quit', or Ctrl-D.\", stacklevel=1)\n"
     ]
    }
   ],
   "source": [
    "import sys\n",
    "for num in range(10):\n",
    "    print(num)\n",
    "    if num % 4 ==0:\n",
    "        sys.exit()"
   ]
  },
  {
   "cell_type": "code",
   "execution_count": null,
   "metadata": {},
   "outputs": [],
   "source": []
  },
  {
   "cell_type": "code",
   "execution_count": null,
   "metadata": {},
   "outputs": [],
   "source": []
  }
 ],
 "metadata": {
  "kernelspec": {
   "display_name": "Python 3",
   "language": "python",
   "name": "python3"
  }
 },
 "nbformat": 4,
 "nbformat_minor": 4
}

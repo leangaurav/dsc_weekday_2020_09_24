{
 "cells": [
  {
   "cell_type": "code",
   "execution_count": 2,
   "metadata": {},
   "outputs": [
    {
     "name": "stdout",
     "output_type": "stream",
     "text": [
      "Enter first number: 3\n",
      "Enter second number: 2\n",
      "False\n"
     ]
    }
   ],
   "source": [
    "#WAP to input 2 numbers and check whether the first is divisible by the second and print true or\n",
    "#false depending on the divisibility. \n",
    "\n",
    "x = input('Enter first number: ')\n",
    "y = input('Enter second number: ')\n",
    "\n",
    "if x.isdigit() and y.isdigit():\n",
    "    if int(x)%int(y)==0:\n",
    "        print('True')\n",
    "    else:\n",
    "        print('False')\n",
    "else:\n",
    "    print('Check the numbers')"
   ]
  },
  {
   "cell_type": "code",
   "execution_count": 5,
   "metadata": {},
   "outputs": [
    {
     "name": "stdout",
     "output_type": "stream",
     "text": [
      "Enter a string to check case insensitive: Naman\n",
      "The entered string Naman is palindrome.\n"
     ]
    }
   ],
   "source": [
    "#In the palindrome example, make the code case insensitive.\n",
    "\n",
    "x=input('Enter a string to check case insensitive: ')\n",
    "if len(x)>0:\n",
    "    y=x.lower()\n",
    "    if y[::]==y[::-1]:\n",
    "        print(f'The entered string {x} is palindrome.')\n",
    "    else:\n",
    "        print(f'The entered string {x} is not palindrome.')\n",
    "else:\n",
    "    print('Check the string')"
   ]
  },
  {
   "cell_type": "code",
   "execution_count": 11,
   "metadata": {},
   "outputs": [
    {
     "name": "stdout",
     "output_type": "stream",
     "text": [
      "Enter first side of a triangle: 4\n",
      "Enter second side of a triangle: 5\n",
      "Enter third side of a triangle: 4\n",
      "The triangle is isoceles.\n"
     ]
    }
   ],
   "source": [
    "#WAP to input the sides of a triangle and print whether equilateral(all sides equal), isosceles (2\n",
    "#sides equal), or scalene (no sides equal). \n",
    "\n",
    "x = input('Enter first side of a triangle: ')\n",
    "y = input('Enter second side of a triangle: ')\n",
    "z = input('Enter third side of a triangle: ')\n",
    "\n",
    "if x.isdigit() and y.isdigit() and z.isdigit():\n",
    "    if int(x)==int(y):\n",
    "        if int(x)==int(z):\n",
    "            print('The triangle is equilateral.')\n",
    "        else:\n",
    "            print('The triangle is isoceles.')\n",
    "    elif int(x)==int(z):\n",
    "        if int(x)==int(y):\n",
    "            print('The triangle is equilateral.')\n",
    "        else:\n",
    "            print('The triangle is isoceles.')\n",
    "    elif int(y)==int(z):\n",
    "        if int(x)==int(y):\n",
    "            print('The triangle is equilateral.')\n",
    "        else:\n",
    "            print('The triangle is isoceles.')\n",
    "    else:\n",
    "        print('The triangle is scalene.')\n",
    "else:\n",
    "    print('Check the numbers')"
   ]
  },
  {
   "cell_type": "code",
   "execution_count": 15,
   "metadata": {},
   "outputs": [
    {
     "name": "stdout",
     "output_type": "stream",
     "text": [
      "Enter a number: 3\n",
      "The entered number 3 is odd.\n"
     ]
    }
   ],
   "source": [
    "#WAP to input a number and print if it is even or odd.\n",
    "x = input('Enter a number: ')\n",
    "\n",
    "if x.isdigit():\n",
    "    if int(x)%2==0:\n",
    "        print(f'The entered number {x} is even.')\n",
    "    else:\n",
    "         print(f'The entered number {x} is odd.')\n",
    "else:\n",
    "    print('Check the number')"
   ]
  },
  {
   "cell_type": "code",
   "execution_count": 19,
   "metadata": {},
   "outputs": [
    {
     "name": "stdout",
     "output_type": "stream",
     "text": [
      "Enter a number: 101\n",
      "The entered age 101 falls in the category of Contratulations.\n"
     ]
    }
   ],
   "source": [
    "#WAP to input age and print the respective text\n",
    "#depending on the age ranges as present in the table.\n",
    "\n",
    "age = input('Enter a number: ')\n",
    "\n",
    "if age.isdigit():\n",
    "    if int(age)>=0 and int(age)<=12:\n",
    "        print(f'The entered age {age} falls in the category of Child.')\n",
    "    elif int(age)>=13 and int(age)<=17:\n",
    "        print(f'The entered age {age} falls in the category of Teen.')\n",
    "    elif int(age)>=18 and int(age)<=50:\n",
    "        print(f'The entered age {age} falls in the category of Adult.')\n",
    "    elif int(age)>=51 and int(age)<=100:\n",
    "        print(f'The entered age {age} falls in the category of Senior Citizen.')\n",
    "    else:\n",
    "        print(f'The entered age {age} falls in the category of Contratulations.')\n",
    "else:\n",
    "    print('Check the number')"
   ]
  },
  {
   "cell_type": "code",
   "execution_count": 26,
   "metadata": {},
   "outputs": [
    {
     "name": "stdout",
     "output_type": "stream",
     "text": [
      "Enter a year to check leap year: 2000\n",
      "The entered year 2000 is leap year.\n"
     ]
    }
   ],
   "source": [
    "# WAP to input year (check if user enters valid year. Should be 4-digit number and should not be\n",
    "# negative) and print whether leap year or not. (If really interested in why you also have to check\n",
    "# the divisibility by 400 just google the exact time it takes for the earth to revolve around the sub)\n",
    "\n",
    "x = input('Enter a year to check leap year: ')\n",
    "\n",
    "if x.isdigit() and len(x)==4:\n",
    "    if int(x)%4==0 and (int(x) % 100 != 0 or int(x) % 400 == 0):\n",
    "        print(f'The entered year {x} is leap year.')\n",
    "    else:\n",
    "         print(f'The entered year {x} is n0t a leap year.')\n",
    "else:\n",
    "    print('Check the year and it should be of 4 digit')"
   ]
  },
  {
   "cell_type": "code",
   "execution_count": 28,
   "metadata": {},
   "outputs": [
    {
     "name": "stdout",
     "output_type": "stream",
     "text": [
      "Enter a string: four\n",
      "The converted string of four is four.\n"
     ]
    }
   ],
   "source": [
    "#WAP to input a string and convert it to Upper Case if number of characters is odd and convert to lower case otherwise.\n",
    "\n",
    "x=input('Enter a string: ')\n",
    "if len(x)>0:\n",
    "    if len(x)%2==0:\n",
    "        print(f'The converted string of {x} is {x.lower()}.')\n",
    "    else:\n",
    "        print(f'The converted string of {x} is {x.upper()}.')\n",
    "else:\n",
    "    print('Check the string')"
   ]
  },
  {
   "cell_type": "code",
   "execution_count": 32,
   "metadata": {},
   "outputs": [
    {
     "name": "stdout",
     "output_type": "stream",
     "text": [
      "Enter a string: big egg\n",
      "Non-Veg\n"
     ]
    }
   ],
   "source": [
    "# WAP to input a string and print Veg if the string doesn’t contain the word egg. Otherwise print\n",
    "# Non-Veg. As usual eggs can be both big and small.\n",
    "\n",
    "x=input('Enter a string: ')\n",
    "if len(x)>0:\n",
    "    if 'egg' in x.lower():\n",
    "        print('Non-Veg')\n",
    "    else:\n",
    "        print('Veg')\n",
    "else:\n",
    "    print('Check the string')"
   ]
  },
  {
   "cell_type": "code",
   "execution_count": 34,
   "metadata": {},
   "outputs": [
    {
     "name": "stdout",
     "output_type": "stream",
     "text": [
      "True\n"
     ]
    }
   ],
   "source": [
    "if not 1:\n",
    "    print('False')\n",
    "else:\n",
    "    print('True')"
   ]
  },
  {
   "cell_type": "code",
   "execution_count": 35,
   "metadata": {},
   "outputs": [
    {
     "name": "stdout",
     "output_type": "stream",
     "text": [
      "True\n"
     ]
    }
   ],
   "source": [
    "if 1:\n",
    "    print('True')\n",
    "else:\n",
    "    print('False')"
   ]
  },
  {
   "cell_type": "code",
   "execution_count": 36,
   "metadata": {},
   "outputs": [
    {
     "name": "stdout",
     "output_type": "stream",
     "text": [
      "Weird!!\n"
     ]
    }
   ],
   "source": [
    "if 'a' > 'A':\n",
    "    print('Weird!!')\n",
    "else:\n",
    "    print('Makes Sense')"
   ]
  },
  {
   "cell_type": "code",
   "execution_count": 38,
   "metadata": {},
   "outputs": [
    {
     "name": "stdout",
     "output_type": "stream",
     "text": [
      "[4, 3, 2, 1]\n"
     ]
    }
   ],
   "source": [
    "a=[1,2,3,4]\n",
    "if 1>1:\n",
    "    a=a[::-1]\n",
    "else:\n",
    "    a=a[-1::-1]\n",
    "print(a)"
   ]
  },
  {
   "cell_type": "code",
   "execution_count": 44,
   "metadata": {},
   "outputs": [
    {
     "name": "stdout",
     "output_type": "stream",
     "text": [
      "Enter mark for 1st subject: 50\n",
      "Enter mark for 2nd subject: 70\n",
      "Enter mark for 3rd subject: 60\n",
      "Enter mark for 4th subject: 80\n",
      "Enter mark for 5th subject: 65\n",
      "65.0\n",
      "The grade obtained is Grade-C.\n"
     ]
    }
   ],
   "source": [
    "# WAP to input marks in 5 subjects and print the grade as per following logic:\n",
    "# % between 90-100 Grade-A\n",
    "# % between 80 - 89 Grade-B\n",
    "# % between 60 - 69 Grade-C\n",
    "# % < 60 Grade-F \n",
    "\n",
    "sub1 = input('Enter mark for 1st subject: ')\n",
    "sub2 = input('Enter mark for 2nd subject: ')\n",
    "sub3 = input('Enter mark for 3rd subject: ')\n",
    "sub4 = input('Enter mark for 4th subject: ')\n",
    "sub5 = input('Enter mark for 5th subject: ')\n",
    "avg=0\n",
    "if sub1.isdigit() and sub2.isdigit() and sub3.isdigit() and sub4.isdigit() and sub5.isdigit():\n",
    "    avg=(int(sub1)+int(sub2)+int(sub3)+int(sub4)+int(sub5))/5\n",
    "    print(avg)\n",
    "    if avg>=90 and avg<=100:\n",
    "        print(f'The grade obtained is Grade-A.')\n",
    "    elif avg>=80 and avg<=89:\n",
    "        print(f'The grade obtained is Grade-B.')\n",
    "    elif avg>=60 and avg<=69:\n",
    "        print(f'The grade obtained is Grade-C.')\n",
    "    elif avg<60:\n",
    "        print(f'The grade obtained is Grade-F.')\n",
    "else:\n",
    "    print('Check the marks')"
   ]
  },
  {
   "cell_type": "code",
   "execution_count": 45,
   "metadata": {},
   "outputs": [
    {
     "name": "stdout",
     "output_type": "stream",
     "text": [
      "Enter age: 55\n",
      "Enter Salary: 12000000\n",
      "Calculated tax is 1800000.0\n"
     ]
    }
   ],
   "source": [
    "#WAP to input age and salary and calculate Tax as per tax rates if following table: \n",
    "\n",
    "age = int(input('Enter age: '))\n",
    "sal = float(input('Enter Salary: '))\n",
    "tax=0\n",
    "if sal>=1000001:\n",
    "    if age>=60:\n",
    "        tax=sal*12/100\n",
    "    else:\n",
    "        tax=sal*15/100      \n",
    "elif sal>=500001 and sal<=1000000:\n",
    "    if age>=60:\n",
    "        tax=sal*8/100\n",
    "    else:\n",
    "        tax=sal*10/100\n",
    "elif sal>=250001 and sal<=500000:\n",
    "    if age>=60:\n",
    "        tax=sal*3/100\n",
    "    else:\n",
    "        tax=sal*5/100\n",
    "print(f'Calculated tax is {tax}')\n"
   ]
  },
  {
   "cell_type": "code",
   "execution_count": 46,
   "metadata": {},
   "outputs": [
    {
     "name": "stdout",
     "output_type": "stream",
     "text": [
      "10\n",
      "10\n",
      "10\n",
      "OMG\n"
     ]
    }
   ],
   "source": [
    "print(20 if not 1==1 else 10)\n",
    "print(30 if not 1==1 else 20 if 'a'<'A' else 10)\n",
    "print(40 if not 1==1 else 30 if 'a'<'A' else 20 if '' else 10)\n",
    "print('No' if not 1==1 else ('No' if 'a' <'A' else ('OMG' if 'oh' else 'No')))\n"
   ]
  },
  {
   "cell_type": "code",
   "execution_count": 52,
   "metadata": {},
   "outputs": [
    {
     "name": "stdout",
     "output_type": "stream",
     "text": [
      "Enter weight in kg: 55\n",
      "Enter height in cm: 177\n",
      "20.01935164054956\n",
      "BMI index of the input values is normal\n"
     ]
    }
   ],
   "source": [
    "# WAF: bmi() that takes the weight in kg and height in cm of a person, calculates and returns the BMI.\n",
    "# Write code that calls this function after taking height and weight as inputs and then prints\n",
    "# underweight, normal, overweight or obese depending on the value of BMI.\n",
    "# Refer this link for the ranges: https://en.wikipedia.org/wiki/Body_mass_index \n",
    "\n",
    "w = float(input('Enter weight in kg: '))\n",
    "h = float(input('Enter height in cm: '))/100\n",
    "bmi=w/h**h\n",
    "print(bmi)\n",
    "if bmi>=16 and bmi<=18.5:\n",
    "    print('BMI index of the input values is underweight')      \n",
    "elif bmi>=18.5 and bmi<=25:\n",
    "    print('BMI index of the input values is normal')\n",
    "elif bmi>=25 and bmi<=30:\n",
    "    print('BMI index of the input values is overweight')\n",
    "elif bmi>=30:\n",
    "    print('BMI index of the input values is obese')"
   ]
  },
  {
   "cell_type": "code",
   "execution_count": 55,
   "metadata": {},
   "outputs": [
    {
     "name": "stdout",
     "output_type": "stream",
     "text": [
      "Enter age of first person: 6\n",
      "Enter age of second person: 4\n",
      "Enter age of third person: 3\n",
      "The 1st person is the oldest person.\n"
     ]
    }
   ],
   "source": [
    "#Take input of age of 3 people by user and determine oldest and youngest among them.\n",
    "\n",
    "x = input('Enter age of first person: ')\n",
    "y = input('Enter age of second person: ')\n",
    "z = input('Enter age of third person: ')\n",
    "\n",
    "if x.isdigit() and y.isdigit() and z.isdigit():\n",
    "    if int(x)>int(y):\n",
    "        if int(x)>int(z):\n",
    "            print('The 1st person is the oldest person.')\n",
    "        else:\n",
    "            print('The 3rd person is oldest person.')\n",
    "    else:\n",
    "        if int(y)>int(z):\n",
    "            print('The 2nd person is oldest person.')\n",
    "        else:\n",
    "            print('The 3rd person is oldest person.')\n",
    "else:\n",
    "    print('Check the inputs')"
   ]
  },
  {
   "cell_type": "code",
   "execution_count": 57,
   "metadata": {},
   "outputs": [
    {
     "name": "stdout",
     "output_type": "stream",
     "text": [
      "Enter a number: 30\n",
      "The entered number 30 is not divisible by both 5 and 7.\n"
     ]
    }
   ],
   "source": [
    "#WAP to input a number and check if number is divisible by both 5 and 7. \n",
    "x = input('Enter a number: ')\n",
    "\n",
    "if x.isdigit():\n",
    "    if int(x)%5==0 and int(x)%7==0:\n",
    "        print(f'The entered number {x} is divisible by both 5 and 7.')\n",
    "    else:\n",
    "         print(f'The entered number {x} is not divisible by both 5 and 7.')\n",
    "else:\n",
    "    print('Check the number')"
   ]
  }
 ],
 "metadata": {
  "kernelspec": {
   "display_name": "Python 3",
   "language": "python",
   "name": "python3"
  },
  "language_info": {
   "codemirror_mode": {
    "name": "ipython",
    "version": 3
   },
   "file_extension": ".py",
   "mimetype": "text/x-python",
   "name": "python",
   "nbconvert_exporter": "python",
   "pygments_lexer": "ipython3",
   "version": "3.8.3"
  }
 },
 "nbformat": 4,
 "nbformat_minor": 4
}

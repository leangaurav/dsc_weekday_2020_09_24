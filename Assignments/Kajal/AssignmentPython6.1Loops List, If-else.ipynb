{
 "cells": [
  {
   "cell_type": "code",
   "execution_count": 1,
   "metadata": {},
   "outputs": [
    {
     "name": "stdout",
     "output_type": "stream",
     "text": [
      "Enter a string: Kajal\n",
      "K\n",
      "a\n",
      "j\n",
      "a\n",
      "l\n"
     ]
    }
   ],
   "source": [
    "#WAP to input a string and print individual characters in the string using for loop. \n",
    "x=input('Enter a string: ')\n",
    "if len(x)>0:\n",
    "    l=0\n",
    "    while l<len(x):\n",
    "        print(x[l])\n",
    "        l+=1\n",
    "else:\n",
    "    print('Enter a valid string')"
   ]
  },
  {
   "cell_type": "code",
   "execution_count": 5,
   "metadata": {},
   "outputs": [
    {
     "name": "stdout",
     "output_type": "stream",
     "text": [
      "Enter a string: Kajal\n",
      "75\n",
      "97\n",
      "106\n",
      "97\n",
      "108\n"
     ]
    }
   ],
   "source": [
    "# WAP to input a string and print the ASCII value of each character in the string. \n",
    "x=input('Enter a string: ')\n",
    "if len(x)>0:\n",
    "    l=0\n",
    "    while l<len(x):\n",
    "        print(ord(x[l]))\n",
    "        l+=1\n",
    "else:\n",
    "    print('Enter a valid string')\n"
   ]
  },
  {
   "cell_type": "code",
   "execution_count": 13,
   "metadata": {},
   "outputs": [
    {
     "name": "stdout",
     "output_type": "stream",
     "text": [
      "Please enter the Total Number of List Elements: 5\n",
      "Please enter the Value of 1 Element : 1\n",
      "Please enter the Value of 2 Element : 2\n",
      "Please enter the Value of 3 Element : 3\n",
      "Please enter the Value of 4 Element : 4\n",
      "Please enter the Value of 5 Element : 5\n",
      "The Sum of Odd Numbers in this List =   9\n"
     ]
    }
   ],
   "source": [
    "# Write a function that takes a list of numbers from user as argument and returns the sum of only\n",
    "# odd numbers (Use only for loop. No need to use if statement). \n",
    "\n",
    "NumList = []\n",
    "Odd_Sum = 0\n",
    "j = 0\n",
    "\n",
    "Number = int(input(\"Please enter the Total Number of List Elements: \"))\n",
    "for i in range(1, Number + 1):\n",
    "    value = int(input(\"Please enter the Value of %d Element : \" %i))\n",
    "    NumList.append(value)\n",
    "\n",
    "for j  in range(0, Number,2):\n",
    "    Odd_Sum = Odd_Sum + NumList[j]\n",
    "    j = j+ 1\n",
    "\n",
    "print(\"The Sum of Odd Numbers in this List =  \", Odd_Sum)\n",
    "\n"
   ]
  },
  {
   "cell_type": "code",
   "execution_count": 8,
   "metadata": {},
   "outputs": [
    {
     "name": "stdout",
     "output_type": "stream",
     "text": [
      "Please enter the Total Number of Tuple Elements: 5\n",
      "Please enter the Value of 1 Element : 10\n",
      "Please enter the Value of 2 Element : 20\n",
      "Please enter the Value of 3 Element : 30\n",
      "Please enter the Value of 4 Element : 40\n",
      "Please enter the Value of 5 Element : 50\n",
      "Please enter a Number of Tuple Elements: 50\n",
      "The index of 50 in the tuple is: 4\n"
     ]
    }
   ],
   "source": [
    "## WAP to input a list of numbers and store in a tuple. Now input another number and print the\n",
    "# index of this number in the tuple. [Use index function] \n",
    "NumList=[]\n",
    "j = 0\n",
    "\n",
    "Number = int(input(\"Please enter the Total Number of Tuple Elements: \"))\n",
    "for i in range(1, Number + 1):\n",
    "    value = int(input(\"Please enter the Value of %d Element : \" %i))\n",
    "    NumList.append(value)\n",
    "NumTuple=tuple(NumList)\n",
    "myElement = int(input(\"Please enter a Number of Tuple Elements: \"))\n",
    "    \n",
    "for t in NumTuple:\n",
    "    if t == myElement:\n",
    "        j=NumTuple.index(t)\n",
    "        print(f\"The index of {myElement} in the tuple is: {j}\")\n",
    "if j==0:\n",
    "    print(f\"The index of {myElement} is not found in the tuple \")"
   ]
  },
  {
   "cell_type": "code",
   "execution_count": 21,
   "metadata": {},
   "outputs": [
    {
     "name": "stdout",
     "output_type": "stream",
     "text": [
      "The random list is [22, 60, 77, 38, 95, 99, 9, 93, 18, 93]\n",
      "The sum of items in the list is: 604\n",
      "The average of items in the list is: 60.4\n",
      "The elements at only even indexes in the list are:\n",
      "60\n",
      "38\n",
      "99\n",
      "93\n",
      "93\n"
     ]
    }
   ],
   "source": [
    "# Create a list of 10 random numbers and then print the list, sum of all numbers and average. Use\n",
    "# a for loop. Also print elements at only even indexes in the list. \n",
    "import random\n",
    "lst=[random.randint(0, 100) for x in range(0, 10)]\n",
    "\n",
    "sumint=0\n",
    "avg=0\n",
    "for j  in range(0, 10):\n",
    "    sumint = sumint + lst[j]\n",
    "    j = j+ 1\n",
    "print(f'The random list is {lst}')\n",
    "print(f'The sum of items in the list is: {sumint}')\n",
    "print(f'The average of items in the list is: {sumint/10}')\n",
    "print(f'The elements at only even indexes in the list are:')\n",
    "for j  in range(1, 10,2):\n",
    "    print(lst[j])\n",
    "    j = j+ 1"
   ]
  },
  {
   "cell_type": "code",
   "execution_count": 22,
   "metadata": {},
   "outputs": [
    {
     "name": "stdout",
     "output_type": "stream",
     "text": [
      "The random list is [7, 43, 65, 21, 58, 48, 57, 59, 41, 27]\n",
      "The sum of items in the list is: 426\n"
     ]
    }
   ],
   "source": [
    "# WAP to input 10 numbers repeatedly (using range based for loop) and store them in a list. Print\n",
    "# the list and sum of numbers in the list. \n",
    "\n",
    "import random\n",
    "lst=[]\n",
    "for i  in range(0, 10):\n",
    "    lst.append(random.randint(0, 100))\n",
    "    i = i+ 1\n",
    "\n",
    "sumint=0\n",
    "for j  in range(0, 10):\n",
    "    sumint = sumint + lst[j]\n",
    "    j = j+ 1\n",
    "print(f'The random list is {lst}')\n",
    "print(f'The sum of items in the list is: {sumint}')"
   ]
  },
  {
   "cell_type": "code",
   "execution_count": 24,
   "metadata": {},
   "outputs": [
    {
     "name": "stdout",
     "output_type": "stream",
     "text": [
      "Please enter a Number to print its table: 7\n",
      "7 X 1 = 7\n",
      "7 X 2 = 14\n",
      "7 X 3 = 21\n",
      "7 X 4 = 28\n",
      "7 X 5 = 35\n",
      "7 X 6 = 42\n",
      "7 X 7 = 49\n",
      "7 X 8 = 56\n",
      "7 X 9 = 63\n",
      "7 X 10 = 70\n"
     ]
    }
   ],
   "source": [
    "# WAP to input a number and print its table. \n",
    "\n",
    "myElement = int(input(\"Please enter a Number to print its table: \"))\n",
    "for j  in range(1, 11):\n",
    "    print(f'{myElement} X {j} = {myElement*j}')\n",
    "    j = j+ 1"
   ]
  },
  {
   "cell_type": "code",
   "execution_count": 26,
   "metadata": {},
   "outputs": [
    {
     "name": "stdout",
     "output_type": "stream",
     "text": [
      "Enter a string: Kajal Kumar Ghosh\n",
      "Total number of spaces in the string Kajal Kumar Ghosh is: 2\n"
     ]
    }
   ],
   "source": [
    "# WAP to print total number of spaces in a string (Use for loop to iterate over the string. Don’t use\n",
    "# count function).\n",
    "\n",
    "x=input('Enter a string: ')\n",
    "if len(x)>0:\n",
    "    cnt=0\n",
    "    for j  in range(0, len(x)):       \n",
    "        if x[j].isspace():\n",
    "            cnt+=1\n",
    "        j+=1\n",
    "    print(f'Total number of spaces in the string {x} is: {cnt}')\n",
    "else:\n",
    "    print('Enter a valid string')"
   ]
  },
  {
   "cell_type": "code",
   "execution_count": 28,
   "metadata": {},
   "outputs": [
    {
     "name": "stdout",
     "output_type": "stream",
     "text": [
      "Enter a string: Numero Uno\n",
      "Total number of vowels in the string Numero Uno is: 5\n"
     ]
    }
   ],
   "source": [
    "# WAP to input a string and count number of vowels in the string. [Note: it should work for both\n",
    "# capital and small alphabets]\n",
    "\n",
    "x=input('Enter a string: ')\n",
    "if len(x)>0:\n",
    "    cnt=0\n",
    "    for j  in range(0, len(x)):       \n",
    "        if x[j] == 'a' or x[j] == 'e' or x[j] == 'i' or x[j] == 'o' or x[j] == 'u' or x[j] == 'A' or x[j] == 'E' or x[j] == 'I' or x[j] == 'O' or x[j] == 'U':\n",
    "            cnt+=1\n",
    "        j+=1\n",
    "    print(f'Total number of vowels in the string {x} is: {cnt}')\n",
    "else:\n",
    "    print('Enter a valid string')"
   ]
  },
  {
   "cell_type": "code",
   "execution_count": 33,
   "metadata": {},
   "outputs": [
    {
     "name": "stdout",
     "output_type": "stream",
     "text": [
      "Enter a string: Numero Uno\n",
      "['N', 'u', 'm', 'e', 'r', 'o', ' ', 'U', 'n', 'o']\n",
      "Modified list is: N_m_r_ _n_\n"
     ]
    }
   ],
   "source": [
    "#WAP to input a string and replace all vowels with ‘_’\n",
    "x=input('Enter a string: ')\n",
    "if len(x)>0:\n",
    "    lst=list(x)\n",
    "    print(lst)\n",
    "    for j  in range(0, len(x)):       \n",
    "        if lst[j] == 'a' or lst[j] == 'e' or lst[j] == 'i' or lst[j] == 'o' or lst[j] == 'u' or lst[j] == 'A' or lst[j] == 'E' or lst[j] == 'I' or lst[j] == 'O' or lst[j] == 'U':\n",
    "            lst[j]=\"_\"\n",
    "        j+=1\n",
    "    constr=''.join(lst)\n",
    "    print(f'Modified list is: {constr}')\n",
    "else:\n",
    "    print('Enter a valid string')"
   ]
  },
  {
   "cell_type": "code",
   "execution_count": 34,
   "metadata": {},
   "outputs": [
    {
     "name": "stdout",
     "output_type": "stream",
     "text": [
      "Num :  0\n",
      "Loops Ends\n"
     ]
    }
   ],
   "source": [
    "#Find Output:\n",
    "for num in range(10):\n",
    "    print(\"Num : \", num)\n",
    "    if num%4==0:\n",
    "        break\n",
    "print(\"Loops Ends\")"
   ]
  },
  {
   "cell_type": "code",
   "execution_count": 35,
   "metadata": {},
   "outputs": [
    {
     "name": "stdout",
     "output_type": "stream",
     "text": [
      "Num :  0\n",
      "Loops Ends\n"
     ]
    }
   ],
   "source": [
    "# Find output:\n",
    "import sys\n",
    "for num in range(10):\n",
    "    print(\"Num : \", num)\n",
    "    if num%4==0:\n",
    "        break\n",
    "print(\"Loops Ends\")"
   ]
  },
  {
   "cell_type": "code",
   "execution_count": 39,
   "metadata": {},
   "outputs": [
    {
     "name": "stdout",
     "output_type": "stream",
     "text": [
      "*****\n",
      "*****\n",
      "*****\n",
      "*****\n",
      "*****\n"
     ]
    }
   ],
   "source": [
    "# Find output:\n",
    "for i1 in range(1,6):\n",
    "    for i2 in range(5):\n",
    "        print('*',end='')\n",
    "    print()"
   ]
  },
  {
   "cell_type": "code",
   "execution_count": 38,
   "metadata": {},
   "outputs": [
    {
     "name": "stdout",
     "output_type": "stream",
     "text": [
      "1\n",
      "22\n",
      "333\n",
      "4444\n",
      "55555\n"
     ]
    }
   ],
   "source": [
    "# Find output:\n",
    "for i1 in range(1,6):\n",
    "    print(str(i1)*i1)\n"
   ]
  },
  {
   "cell_type": "code",
   "execution_count": 40,
   "metadata": {},
   "outputs": [
    {
     "name": "stdout",
     "output_type": "stream",
     "text": [
      "1\n",
      "22\n",
      "333\n",
      "4444\n",
      "55555\n"
     ]
    }
   ],
   "source": [
    "# Find output:\n",
    "for i1 in range(1,6):\n",
    "    for i2 in range(i1):\n",
    "        print(i1, end='')\n",
    "    print()"
   ]
  },
  {
   "cell_type": "code",
   "execution_count": 42,
   "metadata": {},
   "outputs": [
    {
     "name": "stdout",
     "output_type": "stream",
     "text": [
      "**\n",
      "***\n",
      "****\n",
      "*****\n",
      "******\n"
     ]
    }
   ],
   "source": [
    "# Find output:\n",
    "for i1 in range(1,6):\n",
    "    for i2 in range(i1+1):\n",
    "        print('*',end='')\n",
    "    print()"
   ]
  }
 ],
 "metadata": {
  "kernelspec": {
   "display_name": "Python 3",
   "language": "python",
   "name": "python3"
  },
  "language_info": {
   "codemirror_mode": {
    "name": "ipython",
    "version": 3
   },
   "file_extension": ".py",
   "mimetype": "text/x-python",
   "name": "python",
   "nbconvert_exporter": "python",
   "pygments_lexer": "ipython3",
   "version": "3.8.3"
  }
 },
 "nbformat": 4,
 "nbformat_minor": 4
}

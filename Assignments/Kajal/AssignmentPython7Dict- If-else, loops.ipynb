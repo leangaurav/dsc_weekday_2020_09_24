{
 "cells": [
  {
   "cell_type": "code",
   "execution_count": 4,
   "metadata": {},
   "outputs": [
    {
     "name": "stdout",
     "output_type": "stream",
     "text": [
      "\n",
      "Dictionary =  {1: -1, 2: -2, 3: -3, 4: -4, 5: -5}\n",
      "\n",
      "Dictionary =  {1: -1, 2: -2, 3: -3, 4: -4, 5: -5}\n"
     ]
    }
   ],
   "source": [
    "# WAP to create a dictionary of numbers mapped to their negative value for numbers from 1-5.\n",
    "# The dictionary should contain something like this:\n",
    "# Do with both with and without range based for loop.\n",
    "\n",
    "myDict = {}\n",
    "myDict1={1: -1, 2: -2, 3: -3, 4: -4, 5: -5}\n",
    "for x in range(1, 6):\n",
    "    myDict[x] = -x\n",
    "    \n",
    "print(\"\\nDictionary = \", myDict)\n",
    "print(\"\\nDictionary = \", myDict1)"
   ]
  },
  {
   "cell_type": "code",
   "execution_count": 14,
   "metadata": {},
   "outputs": [
    {
     "ename": "NameError",
     "evalue": "name 'c' is not defined",
     "output_type": "error",
     "traceback": [
      "\u001b[1;31m---------------------------------------------------------------------------\u001b[0m",
      "\u001b[1;31mNameError\u001b[0m                                 Traceback (most recent call last)",
      "\u001b[1;32m<ipython-input-14-da49a35333b8>\u001b[0m in \u001b[0;36m<module>\u001b[1;34m\u001b[0m\n\u001b[0;32m      4\u001b[0m \u001b[1;31m#d={1,2; 2,3}\u001b[0m\u001b[1;33m\u001b[0m\u001b[1;33m\u001b[0m\u001b[1;33m\u001b[0m\u001b[0m\n\u001b[0;32m      5\u001b[0m \u001b[0md\u001b[0m\u001b[1;33m=\u001b[0m\u001b[1;33m{\u001b[0m\u001b[1;33m(\u001b[0m\u001b[1;36m1\u001b[0m\u001b[1;33m,\u001b[0m\u001b[1;36m2\u001b[0m\u001b[1;33m)\u001b[0m\u001b[1;33m,\u001b[0m \u001b[1;33m(\u001b[0m\u001b[1;36m2\u001b[0m\u001b[1;33m,\u001b[0m\u001b[1;36m3\u001b[0m\u001b[1;33m)\u001b[0m\u001b[1;33m}\u001b[0m\u001b[1;33m\u001b[0m\u001b[1;33m\u001b[0m\u001b[0m\n\u001b[1;32m----> 6\u001b[1;33m \u001b[0md\u001b[0m\u001b[1;33m=\u001b[0m\u001b[1;33m{\u001b[0m\u001b[1;34m'a'\u001b[0m\u001b[1;33m:\u001b[0m\u001b[1;34m'A'\u001b[0m\u001b[1;33m,\u001b[0m\u001b[1;34m'b'\u001b[0m\u001b[1;33m:\u001b[0m\u001b[1;36m1\u001b[0m\u001b[1;33m,\u001b[0m\u001b[0mc\u001b[0m\u001b[1;33m:\u001b[0m\u001b[1;33m[\u001b[0m\u001b[1;36m1234\u001b[0m\u001b[1;33m]\u001b[0m\u001b[1;33m}\u001b[0m\u001b[1;33m\u001b[0m\u001b[1;33m\u001b[0m\u001b[0m\n\u001b[0m\u001b[0;32m      7\u001b[0m \u001b[0md\u001b[0m\u001b[1;33m=\u001b[0m\u001b[1;33m{\u001b[0m\u001b[1;34m'a'\u001b[0m\u001b[1;33m:\u001b[0m\u001b[1;34m'A'\u001b[0m\u001b[1;33m,\u001b[0m\u001b[1;34m'b'\u001b[0m\u001b[1;33m:\u001b[0m\u001b[1;36m1\u001b[0m\u001b[1;33m,\u001b[0m\u001b[1;34m'c'\u001b[0m\u001b[1;33m:\u001b[0m\u001b[1;33m[\u001b[0m\u001b[1;36m1234\u001b[0m\u001b[1;33m]\u001b[0m\u001b[1;33m}\u001b[0m\u001b[1;33m\u001b[0m\u001b[1;33m\u001b[0m\u001b[0m\n\u001b[0;32m      8\u001b[0m \u001b[0md\u001b[0m\u001b[1;33m=\u001b[0m\u001b[0mdict\u001b[0m\u001b[1;33m(\u001b[0m\u001b[1;33m[\u001b[0m\u001b[1;33m(\u001b[0m\u001b[1;36m1\u001b[0m\u001b[1;33m,\u001b[0m\u001b[1;36m2\u001b[0m\u001b[1;33m)\u001b[0m\u001b[1;33m,\u001b[0m \u001b[1;33m(\u001b[0m\u001b[1;36m2\u001b[0m\u001b[1;33m,\u001b[0m\u001b[1;36m3\u001b[0m\u001b[1;33m)\u001b[0m\u001b[1;33m]\u001b[0m\u001b[1;33m)\u001b[0m\u001b[1;33m\u001b[0m\u001b[1;33m\u001b[0m\u001b[0m\n",
      "\u001b[1;31mNameError\u001b[0m: name 'c' is not defined"
     ]
    }
   ],
   "source": [
    "#Check which of the following declarations will work\n",
    "#d={1=2, 2=3}\n",
    "d={1:2, 2:3}\n",
    "#d={1,2; 2,3}\n",
    "d={(1,2), (2,3)}\n",
    "#d={'a':'A','b':1,c:[1234]}\n",
    "d={'a':'A','b':1,'c':[1234]}\n",
    "d=dict([(1,2), (2,3)])\n",
    "d=dict(((1,2), (2,3)))\n",
    "#d=dict((1,2), (2,3)])\n",
    "d=dict(x=2, y=3)\n",
    "#d=dict('x'=2, 'y'=3)\n",
    "#d=dict(1=2, 2=3)"
   ]
  },
  {
   "cell_type": "code",
   "execution_count": 16,
   "metadata": {},
   "outputs": [
    {
     "name": "stdout",
     "output_type": "stream",
     "text": [
      "{1: 10, 2: 20, 3: 30, 4: 40}\n"
     ]
    }
   ],
   "source": [
    "# Read help for zip and write a program that has two lists\n",
    "# l1 = [1,2,3,4]\n",
    "# l2 = [10,20,30,40]\n",
    "# And converts them to a dictionary d containing { 1:10,2:20 …….}\n",
    "\n",
    "l1 = [1,2,3,4]\n",
    "l2 = [10,20,30,40]\n",
    "d=dict(zip(l1,l2))\n",
    "print(d)"
   ]
  },
  {
   "cell_type": "code",
   "execution_count": 23,
   "metadata": {},
   "outputs": [
    {
     "name": "stdout",
     "output_type": "stream",
     "text": [
      "{'A': 65, 'B': 66, 'C': 67, 'D': 68, 'E': 69, 'F': 70, 'G': 71, 'H': 72, 'I': 73, 'J': 74, 'K': 75, 'L': 76, 'M': 77, 'N': 78, 'O': 79, 'P': 80, 'Q': 81, 'R': 82, 'S': 83, 'T': 84, 'U': 85, 'V': 86, 'W': 87, 'X': 88, 'Y': 89, 'Z': 90}\n"
     ]
    }
   ],
   "source": [
    "# Use range based for loop to store all upper case alphabets and their corresponding ASCII\n",
    "# values in the dictionary d.\n",
    "# The result should be d = {‘A’: 65, ‘B’:66,…..}\n",
    "\n",
    "myDict = {}\n",
    "for x in range(65, 91):\n",
    "    myDict[chr(x)] = x\n",
    "print(myDict)"
   ]
  },
  {
   "cell_type": "code",
   "execution_count": 30,
   "metadata": {},
   "outputs": [
    {
     "name": "stdout",
     "output_type": "stream",
     "text": [
      "Enter a number between 0-9: 7\n",
      "The corresponding word format is: seven\n",
      "dict_keys([0, 1, 2, 3, 4, 5, 6, 7, 8, 9])\n",
      "dict_values(['zero', 'one', 'two', 'three', 'four', 'five', 'six', 'seven', 'eight', 'nine'])\n",
      "{0: 'zero', 1: 'one', 2: 'two', 3: 'three', 4: 'four', 5: 'five', 6: 'six', 7: 'seven', 8: 'eight', 9: 'nine'}\n"
     ]
    }
   ],
   "source": [
    "# Create a mapping of number to word from 0-9. (0:’zero’……)\n",
    "# • Ask user for a single digit number and print the corresponding word format.\n",
    "# • Print all keys of above dictionary\n",
    "# • Print all Values of a dictionary\n",
    "# • Print all Key and Value pairs of above dictionary\n",
    "\n",
    "l1 = [0,1,2,3,4,5,6,7,8,9]\n",
    "l2 = ['zero','one','two', 'three','four','five','six','seven','eight','nine']\n",
    "d=dict(zip(l1,l2))\n",
    "x=int(input('Enter a number between 0-9: '))\n",
    "print(f'The corresponding word format is: {d[x]}')\n",
    "print(d.keys())\n",
    "print(d.values())\n",
    "print(d)\n"
   ]
  },
  {
   "cell_type": "code",
   "execution_count": 31,
   "metadata": {},
   "outputs": [
    {
     "name": "stdout",
     "output_type": "stream",
     "text": [
      "{'A': 'Apple', 'B': 'Ball', 'C': 'Cat', 'D': 'Dog'}\n",
      "{'A': 'Apple', 'C': 'Cat'}\n"
     ]
    }
   ],
   "source": [
    "l1 = ['A','B','C','D']\n",
    "l2 = ['Apple','Ball','Cat', 'Dog']\n",
    "d1=dict(zip(l1,l2))\n",
    "print(d1)\n",
    "d2 = dict(list(d1.items())[::2])\n",
    "print(d2)"
   ]
  },
  {
   "cell_type": "code",
   "execution_count": 34,
   "metadata": {},
   "outputs": [
    {
     "name": "stdout",
     "output_type": "stream",
     "text": [
      "Enter a string: Beautiful Day\n",
      "{'a': 2, 'e': 1, 'i': 1, 'o': 0, 'u': 2}\n"
     ]
    }
   ],
   "source": [
    "# WAP to input a string and count occurrence of each vowel in a string.\n",
    "# Ex: if user enters:   “Beautiful Day”\n",
    "# Output should Be:\n",
    "#  a:2\n",
    "#  e:1\n",
    "#  I :1\n",
    "#  o:0\n",
    "#  u:2\n",
    "#  [Hint: Use a list of a dictionary (preferably dictionary)] \n",
    "\n",
    "def Check_Vow(string, vowels): \n",
    "      \n",
    "    # casefold has been used to ignore cases \n",
    "    string = string.casefold() \n",
    "      \n",
    "    # Forms a dictionary with key as a vowel \n",
    "    # and the value as 0 \n",
    "    count = {}.fromkeys(vowels, 0) \n",
    "      \n",
    "    # To count the vowels \n",
    "    for character in string: \n",
    "        if character in count: \n",
    "            count[character] += 1    \n",
    "    return count \n",
    "      \n",
    "# Driver Code \n",
    "vowels = 'aeiou'\n",
    "st = input('Enter a string: ')\n",
    "if len(st)>0:\n",
    "    print (Check_Vow(st, vowels)) "
   ]
  },
  {
   "cell_type": "code",
   "execution_count": 35,
   "metadata": {},
   "outputs": [
    {
     "name": "stdout",
     "output_type": "stream",
     "text": [
      "Enter a string: Beautiful Day\n",
      "{'a': 2, 'b': 1, 'c': 0, 'd': 1, 'e': 1, 'f': 1, 'g': 0, 'h': 0, 'i': 1, 'j': 0, 'k': 0, 'l': 1, 'm': 0, 'n': 0, 'o': 0, 'p': 0, 'q': 0, 'r': 0, 's': 0, 't': 1, 'u': 2, 'v': 0, 'w': 0, 'x': 0, 'y': 1, 'z': 0}\n"
     ]
    }
   ],
   "source": [
    "#Update above program to print frequency of each alphabet present in string. \n",
    "def Check_alpha(string, alphas): \n",
    "      \n",
    "    # casefold has been used to ignore cases \n",
    "    string = string.casefold() \n",
    "      \n",
    "    # Forms a dictionary with key as a vowel \n",
    "    # and the value as 0 \n",
    "    count = {}.fromkeys(alphas, 0) \n",
    "      \n",
    "    # To count the vowels \n",
    "    for character in string: \n",
    "        if character in count: \n",
    "            count[character] += 1    \n",
    "    return count \n",
    "      \n",
    "# Driver Code \n",
    "alpha = 'abcdefghijklmnopqrstuvwxyz'\n",
    "st = input('Enter a string: ')\n",
    "if len(st)>0:\n",
    "    print (Check_alpha(st, alpha)) "
   ]
  },
  {
   "cell_type": "code",
   "execution_count": 37,
   "metadata": {},
   "outputs": [
    {
     "name": "stdout",
     "output_type": "stream",
     "text": [
      "Enter a sentence: count the words in the sentence in\n",
      "Frequency of  count : 1 \n",
      "Frequency of  the : 2 \n",
      "Frequency of  words : 1 \n",
      "Frequency of  in : 2 \n",
      "Frequency of  sentence : 1 \n"
     ]
    }
   ],
   "source": [
    "# WAP that takes a string as input and prints frequency of each word.\n",
    "# Ex: if input is “count the words in the sentence in”\n",
    "# Output:\n",
    "# count: 1\n",
    "# the: 2\n",
    "# words: 1\n",
    "# in: 2\n",
    "# sentence: 1 \n",
    "\n",
    "\n",
    "# Find frequency of each word in a string in Python \n",
    "# using dictionary. \n",
    "   \n",
    "def count(elements): \n",
    "    # check if each word has '.' at its last. If so then ignore '.' \n",
    "    if elements[-1] == '.': \n",
    "        elements = elements[0:len(elements) - 1] \n",
    "   \n",
    "    # if there exists a key as \"elements\" then simply \n",
    "    # increase its value. \n",
    "    if elements in dictionary: \n",
    "        dictionary[elements] += 1\n",
    "   \n",
    "    # if the dictionary does not have the key as \"elements\"  \n",
    "    # then create a key \"elements\" and assign its value to 1. \n",
    "    else: \n",
    "        dictionary.update({elements: 1}) \n",
    "   \n",
    "   \n",
    "# driver input to check the program. \n",
    "   \n",
    "Sentence = input('Enter a sentence: ')\n",
    "   \n",
    "# Declare a dictionary \n",
    "dictionary = {} \n",
    "   \n",
    "# split all the word of the string. \n",
    "lst = Sentence.split() \n",
    "   \n",
    "# take each word from lst and pass it to the method count. \n",
    "for elements in lst: \n",
    "    count(elements) \n",
    "   \n",
    "# print the keys and its corresponding values. \n",
    "for allKeys in dictionary: \n",
    "    print (\"Frequency of \", allKeys, end = \" \") \n",
    "    print (\":\", end = \" \") \n",
    "    print (dictionary[allKeys], end = \" \") \n",
    "    print() "
   ]
  }
 ],
 "metadata": {
  "kernelspec": {
   "display_name": "Python 3",
   "language": "python",
   "name": "python3"
  },
  "language_info": {
   "codemirror_mode": {
    "name": "ipython",
    "version": 3
   },
   "file_extension": ".py",
   "mimetype": "text/x-python",
   "name": "python",
   "nbconvert_exporter": "python",
   "pygments_lexer": "ipython3",
   "version": "3.8.3"
  }
 },
 "nbformat": 4,
 "nbformat_minor": 4
}

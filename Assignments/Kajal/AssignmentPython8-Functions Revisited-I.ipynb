{
 "cells": [
  {
   "cell_type": "code",
   "execution_count": 13,
   "metadata": {},
   "outputs": [
    {
     "name": "stdout",
     "output_type": "stream",
     "text": [
      "Enter a number:4\n",
      "Square of the entered number 4 is: 16\n",
      "Inverse of the entered number 4 is: 0.25\n",
      "Negate of the entered number 4 is: -4\n"
     ]
    }
   ],
   "source": [
    "# Write lambdas to:\n",
    "# a. Square a number x2\n",
    "# b. Inverse a number 1/x\n",
    "# c. Negate a number\n",
    "\n",
    "\n",
    "numsquare= lambda x:x*x\n",
    "\n",
    "numinverse= lambda x:1/x\n",
    "\n",
    "numnegate=lambda x:-x\n",
    "\n",
    "a = input('Enter a number:')\n",
    "if a.isdigit():\n",
    "    print(f'Square of the entered number {a} is:',numsquare(int(a)))\n",
    "    print(f'Inverse of the entered number {a} is:',numinverse(int(a)))\n",
    "    print(f'Negate of the entered number {a} is:', numnegate(int(a)))\n",
    "else:\n",
    "    print('Enter a valid number')\n",
    "    "
   ]
  },
  {
   "cell_type": "code",
   "execution_count": 14,
   "metadata": {},
   "outputs": [
    {
     "name": "stdout",
     "output_type": "stream",
     "text": [
      "The maximum element of the list is : 6\n"
     ]
    }
   ],
   "source": [
    "# Use reduce function and an appropriate lambda to find the maximum number in a list. \n",
    "\n",
    "from functools import reduce\n",
    "lis = [ 1 , 3, 5, 6, 2, ]\n",
    "print (\"The maximum element of the list is : \",end=\"\") \n",
    "print (reduce(lambda a,b : a if a > b else b,lis)) "
   ]
  },
  {
   "cell_type": "code",
   "execution_count": 16,
   "metadata": {},
   "outputs": [
    {
     "name": "stdout",
     "output_type": "stream",
     "text": [
      "[1, 4, 16]\n",
      "[1.0, 0.25, 0.0625]\n",
      "[-1.0, -0.25, -0.0625]\n"
     ]
    }
   ],
   "source": [
    "# Write a function map_multiple that takes a list of functions/lambdas as first argument and a sequence type as second argument.\n",
    "# The function picks first lambda from list, applies it to first element, then applies the second\n",
    "# function to the result of first one and ….\n",
    "# Similarly it does for each element and generates a mapping of input to output\n",
    "# def map_multiple(functs, sequence):\n",
    "#  # write definition here\n",
    "# Ex: let list of lambdas be from question 1 and the list on numbers be [1,2,4]\n",
    "#  So first function gives [1, 4, 16]\n",
    "#  Second gives [1, 0.25, 0.0625]\n",
    "#  Third gives [-1, -0.25, -0.0625]. Which is the final result. \n",
    "\n",
    "from functools import reduce\n",
    "\n",
    "def map_multiple(functs, sequence): \n",
    "    return list(map(functs,sequence))\n",
    "\n",
    "lis = [1,2,4]\n",
    "lst1=map_multiple(numsquare, lis)\n",
    "print(lst1)\n",
    "lst2=map_multiple(numinverse, lst1)\n",
    "print(lst2)\n",
    "lst3=map_multiple(numnegate, lst2)\n",
    "print(lst3)"
   ]
  },
  {
   "cell_type": "code",
   "execution_count": 17,
   "metadata": {},
   "outputs": [
    {
     "name": "stdout",
     "output_type": "stream",
     "text": [
      "50\n"
     ]
    }
   ],
   "source": [
    "# Predict the output of following code: \n",
    "from functools import reduce\n",
    "f=lambda x,y : x if x>y else y\n",
    "\n",
    "l=[10,30,50,30,10]\n",
    "num=reduce(f,l)\n",
    "print(num)"
   ]
  },
  {
   "cell_type": "code",
   "execution_count": 18,
   "metadata": {},
   "outputs": [
    {
     "name": "stdout",
     "output_type": "stream",
     "text": [
      "[1.0, 0.5, 0.25, 0.125]\n"
     ]
    }
   ],
   "source": [
    "#Find output of following: \n",
    "functs =[lambda x:x**0.5, lambda x:1/x]\n",
    "l=[1,4,16,64]\n",
    "ans=[]\n",
    "for num in l:\n",
    "    res=num\n",
    "    for funct in functs:\n",
    "        res = funct(res)\n",
    "    ans.append(res)\n",
    "print(ans)"
   ]
  },
  {
   "cell_type": "code",
   "execution_count": 30,
   "metadata": {},
   "outputs": [
    {
     "name": "stdout",
     "output_type": "stream",
     "text": [
      "['10', '22', '33']\n"
     ]
    }
   ],
   "source": [
    "# Use filter function to filter a list of numbers and strings such that the result contains only numbers. \n",
    "# (Hint : Use isinstance method)\n",
    "\n",
    "seq=['10','a','22','b','33','c']\n",
    "some_list = list(filter(lambda c: c.isdigit(), seq))\n",
    "print(some_list)\n"
   ]
  },
  {
   "cell_type": "code",
   "execution_count": 38,
   "metadata": {},
   "outputs": [
    {
     "name": "stdout",
     "output_type": "stream",
     "text": [
      "[1.778, 1.524, 1.8034]\n"
     ]
    }
   ],
   "source": [
    "# Assume a list containing heights ft and inches in the form of a list of string\n",
    "# Example : l = [‘5ft10in’, ‘5ft’, ….]\n",
    "# Write a function to convert the heights to meter. Use map function along with your function to\n",
    "# convert everything to m.\n",
    "def ft_to_meters(ht):\n",
    "    feet,inch=0,0\n",
    "    if 'ft' in ht:\n",
    "        str1=ht.split('ft')\n",
    "        feet=int(str1[0])\n",
    "        str1=str1[1]\n",
    "    else:\n",
    "        str1=ht\n",
    "    if 'in' in str1:\n",
    "        inch=int(str1.split('in')[0])\n",
    "    meters=(feet*0.3048)+(inch*0.0254)\n",
    "    return meters\n",
    "\n",
    "l = ['5ft10in', '5ft', '5ft11in']\n",
    "print(list(map(ft_to_meters,l)))"
   ]
  },
  {
   "cell_type": "code",
   "execution_count": 33,
   "metadata": {},
   "outputs": [
    {
     "name": "stdout",
     "output_type": "stream",
     "text": [
      "[4, 8, 13]\n"
     ]
    }
   ],
   "source": [
    "# Write the implementation for the map function yourself by the name my_map()\n",
    "\n",
    "def my_map(func, *sequences):\n",
    "    result = []\n",
    "    if len(sequences) > 0:\n",
    "        minl = min(len(subseq) for subseq in sequences)\n",
    "        for i in range(minl):\n",
    "            result.append(func(*[subseq[i] for subseq in sequences]))     \n",
    "    return result\n",
    "\n",
    "import operator\n",
    "print(my_map(operator.add, [1,2,4], [3,6,9]))"
   ]
  }
 ],
 "metadata": {
  "kernelspec": {
   "display_name": "Python 3",
   "language": "python",
   "name": "python3"
  },
  "language_info": {
   "codemirror_mode": {
    "name": "ipython",
    "version": 3
   },
   "file_extension": ".py",
   "mimetype": "text/x-python",
   "name": "python",
   "nbconvert_exporter": "python",
   "pygments_lexer": "ipython3",
   "version": "3.8.3"
  }
 },
 "nbformat": 4,
 "nbformat_minor": 4
}

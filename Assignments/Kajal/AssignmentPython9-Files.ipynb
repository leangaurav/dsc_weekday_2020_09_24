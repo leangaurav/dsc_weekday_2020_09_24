{
 "cells": [
  {
   "cell_type": "code",
   "execution_count": 8,
   "metadata": {},
   "outputs": [],
   "source": [
    "# Write a program in python that stores alphabets from a to z in a text file. \n",
    "fp=open(\"test1.txt\",\"w\")\n",
    "for i in range(97,123):\n",
    "    fp.write(chr(i)+' ')\n",
    "fp.close()"
   ]
  },
  {
   "cell_type": "code",
   "execution_count": 1,
   "metadata": {},
   "outputs": [
    {
     "name": "stdout",
     "output_type": "stream",
     "text": [
      "C:\\ProgramData\\Anaconda3\\lib\\site-packages\\ipykernel_launcher.py\n",
      "\"\"\"Entry point for launching an IPython kernel.\n",
      "\n",
      "This is separate from the ipykernel package so we can avoid doing imports until\n",
      "after removing the cwd from sys.path.\n",
      "\"\"\"\n",
      "\n",
      "import sys\n",
      "\n",
      "if __name__ == '__main__':\n",
      "    # Remove the CWD from sys.path while we load stuff.\n",
      "    # This is added back by InteractiveShellApp.init_path()\n",
      "    if sys.path[0] == '':\n",
      "        del sys.path[0]\n",
      "\n",
      "    from ipykernel import kernelapp as app\n",
      "    app.launch_new_instance()\n",
      "\n"
     ]
    }
   ],
   "source": [
    "# Write a program to read itself and print on the screen (Use Command Line Arguments). \n",
    "import sys\n",
    "name=sys.argv[0]\n",
    "print(name)\n",
    "f=open(name,\"r\")\n",
    "print(f.read())\n",
    "f.close()\n"
   ]
  },
  {
   "cell_type": "code",
   "execution_count": 4,
   "metadata": {},
   "outputs": [
    {
     "name": "stdout",
     "output_type": "stream",
     "text": [
      "0\n",
      "line\n",
      "4\n"
     ]
    }
   ],
   "source": [
    "#Predict output of the following piece of code: \n",
    "f=open('file','w')\n",
    "f.write('line with some characters')\n",
    "f.close()\n",
    "\n",
    "f=open('file','r')\n",
    "print(f.tell())\n",
    "print(f.read(4))\n",
    "print(f.tell())\n"
   ]
  },
  {
   "cell_type": "code",
   "execution_count": 9,
   "metadata": {},
   "outputs": [],
   "source": [
    "# Write a program to read a file and copy it into a new file. \n",
    "fp=open('test2.txt','w')\n",
    "with open('file','r') as f:\n",
    "    for line in f:\n",
    "        fp.write(line + '\\n')\n",
    "fp.close()"
   ]
  },
  {
   "cell_type": "code",
   "execution_count": 10,
   "metadata": {},
   "outputs": [],
   "source": [
    "# Write a program to read a file and copy the contents to a new file such that the case gets\n",
    "# reversed. i.e. upper case becomes lower case and vice versa.\n",
    "fp=open('test3.txt','w')\n",
    "with open('file','r') as f:\n",
    "    for line in f:\n",
    "        fp.write(line.swapcase() + '\\n')\n",
    "fp.close()"
   ]
  },
  {
   "cell_type": "code",
   "execution_count": 8,
   "metadata": {},
   "outputs": [
    {
     "name": "stdout",
     "output_type": "stream",
     "text": [
      "Total blank space found :  3\n"
     ]
    }
   ],
   "source": [
    "# Write a program that take a file name as command line argument, opens it and then counts\n",
    "# number of space characters in that file.\n",
    "\n",
    "#import sys\n",
    "space_count = 0\n",
    "\n",
    "#with open(sys.argv[1],'r') as f:\n",
    "with open(\"test3.txt\",'r') as f:\n",
    "    for line in f:\n",
    "        for letter in line:\n",
    "            if letter == ' ':\n",
    "                space_count = space_count + 1\n",
    "\n",
    "print(\"Total blank space found : \",space_count)"
   ]
  },
  {
   "cell_type": "code",
   "execution_count": 11,
   "metadata": {},
   "outputs": [
    {
     "name": "stdout",
     "output_type": "stream",
     "text": [
      "Counter({'E': 3,\n",
      "         ' ': 3,\n",
      "         'I': 2,\n",
      "         'T': 2,\n",
      "         'H': 2,\n",
      "         'S': 2,\n",
      "         'C': 2,\n",
      "         'A': 2,\n",
      "         'R': 2,\n",
      "         'L': 1,\n",
      "         'N': 1,\n",
      "         'W': 1,\n",
      "         'O': 1,\n",
      "         'M': 1,\n",
      "         '\\n': 1})\n"
     ]
    }
   ],
   "source": [
    "# Modify the above program to count the occurrence of each symbol i.e. count of alphabet ‘a’,\n",
    "# count of spaces, count of commas and so forth.\n",
    "\n",
    "#import sys\n",
    "import collections\n",
    "import pprint\n",
    "space_count = 0\n",
    "\n",
    "#with open(sys.argv[1],'r') as f:\n",
    "with open(\"test3.txt\",'r') as f:\n",
    "    count = collections.Counter(f.read().upper())\n",
    "    value = pprint.pformat(count)\n",
    "print(value)\n",
    "\n"
   ]
  },
  {
   "cell_type": "code",
   "execution_count": 14,
   "metadata": {},
   "outputs": [
    {
     "name": "stdout",
     "output_type": "stream",
     "text": [
      "Non-Match\n"
     ]
    }
   ],
   "source": [
    "# 8. Write a script called diff.py that take two file names as arguments and checks if the content of\n",
    "# both the files is same and prints true or false.\n",
    "f1=open(\"test2.txt\",\"r\") \n",
    "f2=open(\"test3.txt\",\"r\")\n",
    "same=1\n",
    "for line1 in f1: \n",
    "    for line2 in f2: \n",
    "        if line1!=line2: \n",
    "            same=0 \n",
    "        break \n",
    "f1.close() \n",
    "f2.close() \n",
    "if same==1:\n",
    "    print('Match')\n",
    "else:\n",
    "    print('Non-Match')"
   ]
  },
  {
   "cell_type": "code",
   "execution_count": 1,
   "metadata": {},
   "outputs": [
    {
     "name": "stdout",
     "output_type": "stream",
     "text": [
      "Number of words: 4\n"
     ]
    }
   ],
   "source": [
    "# 9. WAP to count the number of words in a file.\n",
    "num_words=0\n",
    "\n",
    "with open('file','r') as f:\n",
    "    for line in f:\n",
    "        words= line.split()\n",
    "        num_words+=len(words)\n",
    "\n",
    "print(f'Number of words: {num_words}')"
   ]
  },
  {
   "cell_type": "code",
   "execution_count": 4,
   "metadata": {},
   "outputs": [
    {
     "name": "stdout",
     "output_type": "stream",
     "text": [
      "Number of palindromes: 1\n"
     ]
    }
   ],
   "source": [
    "# 10. Update the above program to count the number of palindromes present in the file.\n",
    "num_words=0\n",
    "\n",
    "with open('file','r') as f:\n",
    "    for line in f:\n",
    "        words= line.split()\n",
    "        for wds in words:\n",
    "            if wds==wds[::-1]:\n",
    "                num_words+=1\n",
    "\n",
    "print(f'Number of palindromes: {num_words}')"
   ]
  },
  {
   "cell_type": "code",
   "execution_count": 9,
   "metadata": {},
   "outputs": [
    {
     "name": "stdout",
     "output_type": "stream",
     "text": [
      "Number of anagrams: 2\n"
     ]
    }
   ],
   "source": [
    "# 11. Update the program again to count and print number of anagrams in the file. \n",
    "num_words=0\n",
    "\n",
    "with open('file','r') as f:\n",
    "    for line in f:\n",
    "        words= line.split()\n",
    "        for wds in words:\n",
    "            for wds1 in words:\n",
    "                if wds!=wds1 and sorted(wds)==sorted(wds1):\n",
    "                    num_words+=1\n",
    "\n",
    "print(f'Number of anagrams: {num_words}')"
   ]
  }
 ],
 "metadata": {
  "kernelspec": {
   "display_name": "Python 3",
   "language": "python",
   "name": "python3"
  },
  "language_info": {
   "codemirror_mode": {
    "name": "ipython",
    "version": 3
   },
   "file_extension": ".py",
   "mimetype": "text/x-python",
   "name": "python",
   "nbconvert_exporter": "python",
   "pygments_lexer": "ipython3",
   "version": "3.8.3"
  }
 },
 "nbformat": 4,
 "nbformat_minor": 4
}

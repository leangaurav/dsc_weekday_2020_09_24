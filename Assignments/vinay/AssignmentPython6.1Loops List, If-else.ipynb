{
 "cells": [
  {
   "cell_type": "code",
   "execution_count": 2,
   "metadata": {},
   "outputs": [
    {
     "name": "stdin",
     "output_type": "stream",
     "text": [
      "enter a string this is a sentence\n"
     ]
    },
    {
     "name": "stdout",
     "output_type": "stream",
     "text": [
      "t\n",
      "h\n",
      "i\n",
      "s\n",
      " \n",
      "i\n",
      "s\n",
      " \n",
      "a\n",
      " \n",
      "s\n",
      "e\n",
      "n\n",
      "t\n",
      "e\n",
      "n\n",
      "c\n",
      "e\n"
     ]
    }
   ],
   "source": [
    "#1. WAP to input a string and print individual characters in the string using for loop. \n",
    "st = input(\"enter a string\")\n",
    "\n",
    "for i in st:\n",
    "    print(i)"
   ]
  },
  {
   "cell_type": "code",
   "execution_count": 5,
   "metadata": {},
   "outputs": [
    {
     "name": "stdin",
     "output_type": "stream",
     "text": [
      "enter a string this\n"
     ]
    },
    {
     "name": "stdout",
     "output_type": "stream",
     "text": [
      "116\n",
      "104\n",
      "105\n",
      "115\n"
     ]
    }
   ],
   "source": [
    "#2. WAP to input a string and print the ASCII value of each character in the string. \n",
    "st = input(\"enter a string\")\n",
    "\n",
    "for i in st:\n",
    "    print(ord(i))"
   ]
  },
  {
   "cell_type": "code",
   "execution_count": null,
   "metadata": {},
   "outputs": [],
   "source": []
  },
  {
   "cell_type": "code",
   "execution_count": 12,
   "metadata": {},
   "outputs": [
    {
     "name": "stdin",
     "output_type": "stream",
     "text": [
      "enter a list of numbers 1 2 3\n"
     ]
    },
    {
     "name": "stdout",
     "output_type": "stream",
     "text": [
      "4\n"
     ]
    }
   ],
   "source": [
    "#Write a function that takes a list of numbers from user as argument and returns the sum of only\n",
    "#odd numbers (Use only for loop. No need to use if statement). \n",
    "\n",
    "st = input(\"enter a list of numbers\")\n",
    "\n",
    "nums = st.split()\n",
    "total = 0\n",
    "for i in nums:\n",
    "    if((int(i))%2 != 0):\n",
    "        total = total + int(i)\n",
    "\n",
    "print(total)"
   ]
  },
  {
   "cell_type": "code",
   "execution_count": null,
   "metadata": {},
   "outputs": [],
   "source": []
  },
  {
   "cell_type": "code",
   "execution_count": 18,
   "metadata": {},
   "outputs": [
    {
     "name": "stdin",
     "output_type": "stream",
     "text": [
      "enter list of numbers 12345\n",
      "enter a number 5\n"
     ]
    },
    {
     "name": "stdout",
     "output_type": "stream",
     "text": [
      "('1', '2', '3', '4', '5')\n",
      "4\n"
     ]
    }
   ],
   "source": [
    "#WAP to input a list of numbers and store in a tuple. Now input another number and print the\n",
    "#index of this number in the tuple. [Use index function] \n",
    "nums = input(\"enter list of numbers\")\n",
    "n = input(\"enter a number\")\n",
    "\n",
    "tnums = tuple(nums)\n",
    "#print(list(nums))\n",
    "print(tnums)\n",
    "print(tnums.index(n))"
   ]
  },
  {
   "cell_type": "code",
   "execution_count": null,
   "metadata": {},
   "outputs": [],
   "source": []
  },
  {
   "cell_type": "code",
   "execution_count": null,
   "metadata": {},
   "outputs": [],
   "source": []
  },
  {
   "cell_type": "code",
   "execution_count": 27,
   "metadata": {},
   "outputs": [
    {
     "name": "stdout",
     "output_type": "stream",
     "text": [
      "[4626, 4204, 6188, 9180, 9772, 2763, 7521, 9099, 7774, 9287]\n",
      "sum 70414\n",
      "avg 7041.4\n",
      "4626\n",
      "6188\n",
      "9772\n",
      "7521\n",
      "7774\n"
     ]
    }
   ],
   "source": [
    "#Create a list of 10 random numbers and then print the list, sum of all numbers and average. Use\n",
    "#a for loop. Also print elements at only even indexes in the list. \n",
    "import random as rn\n",
    "nums=rn.sample(range(10000),10)\n",
    "print(nums)\n",
    "sum = 0\n",
    "for i in nums:\n",
    "    sum = sum+i\n",
    "\n",
    "print(\"sum\",sum)\n",
    "print(\"avg\",sum/10)\n",
    "\n",
    "for i in range(0,10,2):\n",
    "    print(nums[i])"
   ]
  },
  {
   "cell_type": "code",
   "execution_count": null,
   "metadata": {},
   "outputs": [],
   "source": []
  },
  {
   "cell_type": "code",
   "execution_count": 29,
   "metadata": {},
   "outputs": [
    {
     "name": "stdin",
     "output_type": "stream",
     "text": [
      "enter a number 1\n",
      "enter a number 2\n",
      "enter a number 3\n",
      "enter a number 4\n",
      "enter a number 5\n",
      "enter a number 6\n",
      "enter a number 7\n",
      "enter a number 8\n",
      "enter a number 9\n",
      "enter a number 0\n"
     ]
    },
    {
     "name": "stdout",
     "output_type": "stream",
     "text": [
      "['1', '2', '3', '4', '5', '6', '7', '8', '9', '0']\n",
      "45\n"
     ]
    }
   ],
   "source": [
    "#WAP to input 10 numbers repeatedly (using range based for loop) and store them in a list. Print\n",
    "#the list and sum of numbers in the list. \n",
    "lst = []\n",
    "sum= 0\n",
    "for i in range(10):\n",
    "    num =input(\"enter a number\")\n",
    "    lst.append(num)\n",
    "    sum = sum + int(num)\n",
    "\n",
    "print(lst)\n",
    "print(sum)\n",
    "    "
   ]
  },
  {
   "cell_type": "code",
   "execution_count": null,
   "metadata": {},
   "outputs": [],
   "source": []
  },
  {
   "cell_type": "code",
   "execution_count": 31,
   "metadata": {},
   "outputs": [
    {
     "name": "stdin",
     "output_type": "stream",
     "text": [
      "Enter a string: this is a string\n"
     ]
    },
    {
     "name": "stdout",
     "output_type": "stream",
     "text": [
      "Number of spaces in the string is: 3\n"
     ]
    }
   ],
   "source": [
    "#WAP to print total number of spaces in a string (Use for loop to iterate over the string. Don’t use\n",
    "#count function). \n",
    "st=input('Enter a string:')\n",
    "count=0\n",
    "for i in st:\n",
    "    if i == \" \":\n",
    "        count+=1\n",
    "        \n",
    "print('Number of spaces in the string is:',count)"
   ]
  },
  {
   "cell_type": "code",
   "execution_count": null,
   "metadata": {},
   "outputs": [],
   "source": []
  },
  {
   "cell_type": "code",
   "execution_count": 37,
   "metadata": {},
   "outputs": [
    {
     "name": "stdin",
     "output_type": "stream",
     "text": [
      "enter a string asdf gtahdaf\n"
     ]
    },
    {
     "name": "stdout",
     "output_type": "stream",
     "text": [
      "asdf gtahdaf\n",
      "_sdf gt_hd_f\n"
     ]
    }
   ],
   "source": [
    "#WAP to input a string and replace all vowels with ‘_’. \n",
    "st = input(\"enter a string\")\n",
    "print(st)\n",
    "\n",
    "lst = []\n",
    "for i in st:\n",
    "    if(i in \"aeiouAEIOU\"):\n",
    "        lst.append(\"_\")\n",
    "    else:\n",
    "        lst.append(i)\n",
    "        \n",
    "t = \"\".join(lst)\n",
    "print(t)"
   ]
  },
  {
   "cell_type": "code",
   "execution_count": null,
   "metadata": {},
   "outputs": [],
   "source": []
  },
  {
   "cell_type": "code",
   "execution_count": null,
   "metadata": {},
   "outputs": [],
   "source": []
  },
  {
   "cell_type": "code",
   "execution_count": null,
   "metadata": {},
   "outputs": [],
   "source": []
  },
  {
   "cell_type": "code",
   "execution_count": null,
   "metadata": {},
   "outputs": [],
   "source": []
  },
  {
   "cell_type": "code",
   "execution_count": null,
   "metadata": {},
   "outputs": [],
   "source": []
  },
  {
   "cell_type": "code",
   "execution_count": null,
   "metadata": {},
   "outputs": [],
   "source": []
  },
  {
   "cell_type": "code",
   "execution_count": null,
   "metadata": {},
   "outputs": [],
   "source": []
  },
  {
   "cell_type": "code",
   "execution_count": null,
   "metadata": {},
   "outputs": [],
   "source": []
  },
  {
   "cell_type": "code",
   "execution_count": null,
   "metadata": {},
   "outputs": [],
   "source": []
  },
  {
   "cell_type": "code",
   "execution_count": null,
   "metadata": {},
   "outputs": [],
   "source": []
  },
  {
   "cell_type": "code",
   "execution_count": null,
   "metadata": {},
   "outputs": [],
   "source": []
  },
  {
   "cell_type": "code",
   "execution_count": null,
   "metadata": {},
   "outputs": [],
   "source": []
  },
  {
   "cell_type": "code",
   "execution_count": null,
   "metadata": {},
   "outputs": [],
   "source": []
  },
  {
   "cell_type": "code",
   "execution_count": null,
   "metadata": {},
   "outputs": [],
   "source": []
  },
  {
   "cell_type": "code",
   "execution_count": null,
   "metadata": {},
   "outputs": [],
   "source": []
  },
  {
   "cell_type": "code",
   "execution_count": null,
   "metadata": {},
   "outputs": [],
   "source": []
  },
  {
   "cell_type": "code",
   "execution_count": null,
   "metadata": {},
   "outputs": [],
   "source": []
  },
  {
   "cell_type": "code",
   "execution_count": null,
   "metadata": {},
   "outputs": [],
   "source": []
  },
  {
   "cell_type": "code",
   "execution_count": null,
   "metadata": {},
   "outputs": [],
   "source": []
  },
  {
   "cell_type": "code",
   "execution_count": null,
   "metadata": {},
   "outputs": [],
   "source": []
  },
  {
   "cell_type": "code",
   "execution_count": null,
   "metadata": {},
   "outputs": [],
   "source": []
  },
  {
   "cell_type": "code",
   "execution_count": null,
   "metadata": {},
   "outputs": [],
   "source": []
  },
  {
   "cell_type": "code",
   "execution_count": null,
   "metadata": {},
   "outputs": [],
   "source": []
  },
  {
   "cell_type": "code",
   "execution_count": null,
   "metadata": {},
   "outputs": [],
   "source": []
  },
  {
   "cell_type": "code",
   "execution_count": null,
   "metadata": {},
   "outputs": [],
   "source": []
  },
  {
   "cell_type": "code",
   "execution_count": null,
   "metadata": {},
   "outputs": [],
   "source": []
  }
 ],
 "metadata": {
  "kernelspec": {
   "display_name": "Python 3",
   "language": "python",
   "name": "python3"
  },
  "language_info": {
   "codemirror_mode": {
    "name": "ipython",
    "version": 3
   },
   "file_extension": ".py",
   "mimetype": "text/x-python",
   "name": "python",
   "nbconvert_exporter": "python",
   "pygments_lexer": "ipython3",
   "version": "3.8.3"
  }
 },
 "nbformat": 4,
 "nbformat_minor": 4
}

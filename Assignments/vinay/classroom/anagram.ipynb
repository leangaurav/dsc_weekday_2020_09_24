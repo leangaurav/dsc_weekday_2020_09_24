{
 "cells": [
  {
   "cell_type": "markdown",
   "metadata": {},
   "source": [
    "<h1>Reverse a String</h1>"
   ]
  },
  {
   "cell_type": "code",
   "execution_count": 45,
   "metadata": {},
   "outputs": [
    {
     "name": "stdout",
     "output_type": "stream",
     "text": [
      "gnirts si siht\n",
      "this is string\n",
      "ti ssrn\n",
      "hsi tig\n",
      "hsi t\n"
     ]
    }
   ],
   "source": [
    "#python trick slicing\n",
    "s =\"this is string\"\n",
    "\n",
    "print(s[::-1])\n",
    "print(s[0::])\n",
    "print(s[0::2])\n",
    "print(s[1::2])\n",
    "print(s[1:10:2])"
   ]
  },
  {
   "cell_type": "code",
   "execution_count": null,
   "metadata": {},
   "outputs": [],
   "source": []
  },
  {
   "cell_type": "markdown",
   "metadata": {},
   "source": [
    "<h1>Anagram check</h1>"
   ]
  },
  {
   "cell_type": "code",
   "execution_count": null,
   "metadata": {},
   "outputs": [],
   "source": [
    "# using python techniques"
   ]
  },
  {
   "cell_type": "code",
   "execution_count": 55,
   "metadata": {},
   "outputs": [
    {
     "name": "stdin",
     "output_type": "stream",
     "text": [
      "enter a string hello\n",
      "enter another string to verify anagram ohell\n"
     ]
    },
    {
     "name": "stdout",
     "output_type": "stream",
     "text": [
      "Anagram\n"
     ]
    }
   ],
   "source": [
    "s = input(\"enter a string\")\n",
    "s2= input(\"enter another string to verify anagram\")\n",
    "\n",
    "\n",
    "if(sorted(s) == sorted(s2)):\n",
    "    print(\"Anagram\")\n",
    "else:\n",
    "    print(\"not anagram\")\n",
    "\n",
    "\n",
    "\n"
   ]
  },
  {
   "cell_type": "markdown",
   "metadata": {},
   "source": [
    "<h1>this is example does not cover spaces and capital letter, there will be slight logic required for handling spaces and letter case</h1>"
   ]
  },
  {
   "cell_type": "code",
   "execution_count": 79,
   "metadata": {},
   "outputs": [],
   "source": [
    "\n",
    "\n",
    "def anagramcheck(s,s2):\n",
    "    count ={}\n",
    "\n",
    "    for i in s:\n",
    "        if(i in count):\n",
    "            count[i] = count[i] + 1\n",
    "        else:\n",
    "            count[i] = 1\n",
    "\n",
    "    for i in s2:\n",
    "        if(i in count):\n",
    "            count[i] = count[i] - 1\n",
    "        else:\n",
    "            count[i] = 1\n",
    "\n",
    "    for i in count:\n",
    "        if(count[i] > 0):\n",
    "            return False\n",
    "        \n",
    "    return True"
   ]
  },
  {
   "cell_type": "code",
   "execution_count": 80,
   "metadata": {},
   "outputs": [
    {
     "data": {
      "text/plain": [
       "True"
      ]
     },
     "execution_count": 80,
     "metadata": {},
     "output_type": "execute_result"
    }
   ],
   "source": [
    "anagramcheck(\"this\", \"this\")"
   ]
  },
  {
   "cell_type": "code",
   "execution_count": 81,
   "metadata": {},
   "outputs": [
    {
     "data": {
      "text/plain": [
       "True"
      ]
     },
     "execution_count": 81,
     "metadata": {},
     "output_type": "execute_result"
    }
   ],
   "source": [
    "anagramcheck(\"this\", \"hits\")"
   ]
  },
  {
   "cell_type": "code",
   "execution_count": 82,
   "metadata": {},
   "outputs": [
    {
     "data": {
      "text/plain": [
       "False"
      ]
     },
     "execution_count": 82,
     "metadata": {},
     "output_type": "execute_result"
    }
   ],
   "source": [
    "anagramcheck(\"this\", \"hits \")"
   ]
  }
 ],
 "metadata": {
  "kernelspec": {
   "display_name": "Python 3",
   "language": "python",
   "name": "python3"
  },
  "language_info": {
   "codemirror_mode": {
    "name": "ipython",
    "version": 3
   },
   "file_extension": ".py",
   "mimetype": "text/x-python",
   "name": "python",
   "nbconvert_exporter": "python",
   "pygments_lexer": "ipython3",
   "version": "3.8.3"
  }
 },
 "nbformat": 4,
 "nbformat_minor": 4
}

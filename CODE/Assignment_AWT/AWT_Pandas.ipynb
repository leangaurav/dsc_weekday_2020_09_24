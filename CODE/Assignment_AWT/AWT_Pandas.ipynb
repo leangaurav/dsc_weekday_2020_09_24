{
 "cells": [
  {
   "cell_type": "markdown",
   "metadata": {},
   "source": [
    "### Description\n",
    "\n",
    "**Airport**: The IATA airport code of the selected airport.  \n",
    "**Terminal**: Terminal(s) associated with the airport selected.  \n",
    "**Date**: Arrival Date(s) of flights associated with the airport/terminal/date range selected.  \n",
    "**Hour**: Hour(s) of arriving flights during a 24 hour time period for the airport/terminal selected/date range selected.  \n",
    "**U.S. Citizen Wait Times**:\n",
    "\n",
    "    Average:The average wait time for all U.S. Citizen passengers on flights arriving in the one hour increment.\n",
    "    Max:The highest wait time for all U.S. Citizen passengers on a flight arriving in the one hour increment.\n",
    "\n",
    "**Non U.S. Citizen Wait Times**:\n",
    "\n",
    "    Average:The average wait time for all Non U.S. Citizen passengers on flights arriving in the one hour increment.\n",
    "    Max:The highest wait time for all Non U.S. Citizen passengers on a flight arriving in the one hour increment.\n",
    "\n",
    "**Wait Times**:\n",
    "\n",
    "    Average:The average wait time for all passengers on flights arriving in the one hour increment.\n",
    "    Max:The highest wait time for any passenger on a flight arriving in the one hour increment.\n",
    "\n",
    "**Number of Passengers Time Interval**:\n",
    "\n",
    "    0-15:The actual number of passengers on flights which arrived in the selected hour who were processed in (0-15) minutes.\n",
    "    16-30:The actual number of passengers on flights which arrived in the selected hour who were processed in (16-30) minutes.\n",
    "    31-45:The actual number of passengers on flights which arrived in the selected hour who were processed in (31-45) minutes.\n",
    "    46-60:The actual number of passengers on flights which arrived in the selected hour who were processed in (46-60) minutes.\n",
    "    61-90:The actual number of passengers on flights which arrived in the selected hour who were processed in (61-90) minutes.\n",
    "    91-120:The actual number of passengers on flights which arrived in the selected hour who were processed in (91-120) minutes.\n",
    "    121Plus:The actual number of passengers on flights which arrived in the selected hour who were processed in (121 Plus) minutes.\n",
    "\n",
    "**Excluded**:The actual number of passengers on flights which arrived in the selected hour who were excluded from wait time reporting.  \n",
    "**Total**:Total number of passengers aboard arriving flights during the one hour increment.  \n",
    "**Flights**:Number of flights arriving during the time period.  \n",
    "**Booths**:Number of staffed primary inspection booths open to process flights which arrived during the selected hour.   \n"
   ]
  },
  {
   "cell_type": "markdown",
   "metadata": {},
   "source": [
    "### Problems\n",
    "- read dataset and convert column headers to correct format (the first  4 rows are headers, but not all rows contain column names)\n",
    "- check datatype of each column\n",
    "- find out columns which have na values\n",
    "- check if there are any unique values in first two columns\n",
    "- based on above, are these two columns userful ?   \n",
    "  \n",
    "  \n",
    "- check if all hour values are present or not\n",
    "- drop the upper bound of  hour column\n",
    "  Ex: replace  0100 - 0200 with 0100 ...\n",
    "- check that hour values lie in range 0-2300 or not\n",
    "- convert hour column from string type to datetime type. (If this doesn't work out easily, then first solve next problem)\n",
    "- check that length of each hour value is 4, if  not, check why and fix it and then check again   \n",
    "  \n",
    "  \n",
    "- convert Date column to datetime type\n",
    "- check data types now\n",
    "- replace Hours with only time part and Date column with only date part (both should  be converted to datetime type before this)\n",
    "- check data types again\n",
    "- merge date and hour column into a new column date_time (type of date_time should be datetime not str)\n",
    "                                                          "
   ]
  },
  {
   "cell_type": "code",
   "execution_count": null,
   "metadata": {},
   "outputs": [],
   "source": [
    "# read dataset and convert column headers to correct format (the first 4 rows are headers, but not all rows contain column names)\n",
    "\n",
    "df=pd.read_excel('AWT.xls',header=[0,1,2,3])\n",
    "col_list=[]\n",
    "for col in df.columns:\n",
    "    col=list(col)\n",
    "    for i in range(len(col)): # col is a tuple\n",
    "        if col[i].startswith('Unnamed'):\n",
    "            col[i]=\"\"\n",
    "    col_list.append(\"\".join(col))\n",
    "df.columns=col_list\n",
    "print(df.columns)\n",
    "df.head()\n",
    "\n",
    "\n",
    "df = pd.read_excel(r'AWT.xls', header=[0,1,2,3])\n",
    "df.columns = df.columns.map(','.join)\n",
    "df.columns = ['Airport', 'Terminal', 'Date', 'Hour', 'US AWT', 'US MWT', 'Non AWT', 'Non MWT', 'AWT', 'MWT', '0-15', '16-30', '31-45', '46-60', '61-90', '91-120', '120 Plus', 'Ex cluded', 'Total', 'Flights', 'Booths']\n",
    "\n",
    "\n"
   ]
  },
  {
   "cell_type": "code",
   "execution_count": 3,
   "metadata": {},
   "outputs": [],
   "source": [
    "import pandas as pd\n",
    "import numpy as np"
   ]
  },
  {
   "cell_type": "code",
   "execution_count": 4,
   "metadata": {
    "scrolled": true
   },
   "outputs": [
    {
     "data": {
      "text/html": [
       "<div>\n",
       "<style scoped>\n",
       "    .dataframe tbody tr th:only-of-type {\n",
       "        vertical-align: middle;\n",
       "    }\n",
       "\n",
       "    .dataframe tbody tr th {\n",
       "        vertical-align: top;\n",
       "    }\n",
       "\n",
       "    .dataframe thead th {\n",
       "        text-align: right;\n",
       "    }\n",
       "</style>\n",
       "<table border=\"1\" class=\"dataframe\">\n",
       "  <thead>\n",
       "    <tr style=\"text-align: right;\">\n",
       "      <th></th>\n",
       "      <th>Airport</th>\n",
       "      <th>Terminal</th>\n",
       "      <th>Date</th>\n",
       "      <th>Hour</th>\n",
       "      <th>U.S. Citizen</th>\n",
       "      <th>Unnamed: 5</th>\n",
       "      <th>Non U.S. Citizen</th>\n",
       "      <th>Unnamed: 7</th>\n",
       "      <th>All</th>\n",
       "      <th>Unnamed: 9</th>\n",
       "      <th>...</th>\n",
       "      <th>Unnamed: 11</th>\n",
       "      <th>Unnamed: 12</th>\n",
       "      <th>Unnamed: 13</th>\n",
       "      <th>Unnamed: 14</th>\n",
       "      <th>Unnamed: 15</th>\n",
       "      <th>Unnamed: 16</th>\n",
       "      <th>Unnamed: 17</th>\n",
       "      <th>Unnamed: 18</th>\n",
       "      <th>Unnamed: 19</th>\n",
       "      <th>Unnamed: 20</th>\n",
       "    </tr>\n",
       "  </thead>\n",
       "  <tbody>\n",
       "    <tr>\n",
       "      <td>0</td>\n",
       "      <td></td>\n",
       "      <td></td>\n",
       "      <td></td>\n",
       "      <td></td>\n",
       "      <td></td>\n",
       "      <td></td>\n",
       "      <td></td>\n",
       "      <td></td>\n",
       "      <td>Wait Times</td>\n",
       "      <td></td>\n",
       "      <td>...</td>\n",
       "      <td></td>\n",
       "      <td></td>\n",
       "      <td></td>\n",
       "      <td></td>\n",
       "      <td></td>\n",
       "      <td></td>\n",
       "      <td></td>\n",
       "      <td></td>\n",
       "      <td></td>\n",
       "      <td></td>\n",
       "    </tr>\n",
       "    <tr>\n",
       "      <td>1</td>\n",
       "      <td></td>\n",
       "      <td></td>\n",
       "      <td></td>\n",
       "      <td></td>\n",
       "      <td>Average Wait</td>\n",
       "      <td>Max Wait</td>\n",
       "      <td>Average Wait</td>\n",
       "      <td>Max Wait</td>\n",
       "      <td>Average Wait</td>\n",
       "      <td>Max Wait</td>\n",
       "      <td>...</td>\n",
       "      <td>16-30</td>\n",
       "      <td>31-45</td>\n",
       "      <td>46-60</td>\n",
       "      <td>61-90</td>\n",
       "      <td>91-120</td>\n",
       "      <td>120 plus</td>\n",
       "      <td>Excluded</td>\n",
       "      <td>Total</td>\n",
       "      <td>Flights</td>\n",
       "      <td>Booths</td>\n",
       "    </tr>\n",
       "    <tr>\n",
       "      <td>2</td>\n",
       "      <td></td>\n",
       "      <td></td>\n",
       "      <td></td>\n",
       "      <td></td>\n",
       "      <td>Time</td>\n",
       "      <td>Time</td>\n",
       "      <td>Time</td>\n",
       "      <td>Time</td>\n",
       "      <td>Time</td>\n",
       "      <td>Time</td>\n",
       "      <td>...</td>\n",
       "      <td></td>\n",
       "      <td></td>\n",
       "      <td></td>\n",
       "      <td></td>\n",
       "      <td></td>\n",
       "      <td></td>\n",
       "      <td></td>\n",
       "      <td></td>\n",
       "      <td></td>\n",
       "      <td></td>\n",
       "    </tr>\n",
       "  </tbody>\n",
       "</table>\n",
       "<p>3 rows × 21 columns</p>\n",
       "</div>"
      ],
      "text/plain": [
       "  Airport Terminal Date Hour  U.S. Citizen Unnamed: 5 Non U.S. Citizen  \\\n",
       "0                                                                        \n",
       "1                             Average Wait   Max Wait     Average Wait   \n",
       "2                                     Time       Time             Time   \n",
       "\n",
       "  Unnamed: 7           All Unnamed: 9  ... Unnamed: 11 Unnamed: 12  \\\n",
       "0               Wait Times             ...                           \n",
       "1   Max Wait  Average Wait   Max Wait  ...       16-30       31-45   \n",
       "2       Time          Time       Time  ...                           \n",
       "\n",
       "  Unnamed: 13 Unnamed: 14 Unnamed: 15 Unnamed: 16 Unnamed: 17 Unnamed: 18  \\\n",
       "0                                                                           \n",
       "1       46-60       61-90      91-120    120 plus    Excluded       Total   \n",
       "2                                                                           \n",
       "\n",
       "  Unnamed: 19 Unnamed: 20  \n",
       "0                          \n",
       "1     Flights      Booths  \n",
       "2                          \n",
       "\n",
       "[3 rows x 21 columns]"
      ]
     },
     "execution_count": 4,
     "metadata": {},
     "output_type": "execute_result"
    }
   ],
   "source": [
    "pd.read_excel(\"AWT.xls\").iloc[0:3].replace(np.nan, \" \")"
   ]
  },
  {
   "cell_type": "code",
   "execution_count": null,
   "metadata": {},
   "outputs": [],
   "source": [
    "df.columns\n",
    "df1=df.groupby(['gender','survived']).size()\n",
    "df1.plot(kind='bar')\n",
    "\n",
    "lstindex=df1.index.tolist()\n",
    "print(lstindex)\n",
    "print(df1.pclass.values)\n",
    "\n",
    "data_in_array = np.array(lstindex)\n",
    "print(data_in_array)\n",
    "\n",
    "for i in range(4):\n",
    "    plt.bar(\"({},{})\".format(data_in_array[i][0],data_in_array[i][1]),df1.pclass.values[i])\n",
    "plt.show()\n",
    "\n",
    "\n"
   ]
  },
  {
   "cell_type": "code",
   "execution_count": null,
   "metadata": {},
   "outputs": [],
   "source": [
    "\n",
    "df1=df.groupby(['gender','survived']).size()  # series with multi index\n",
    "x = df1.index # bar labes\n",
    "h = df1.values # bar height\n",
    "# x = df1.index.to_flat_index()\n",
    "plt.bar(x, h)"
   ]
  },
  {
   "cell_type": "code",
   "execution_count": 5,
   "metadata": {},
   "outputs": [],
   "source": [
    "import pandas as pd"
   ]
  },
  {
   "cell_type": "code",
   "execution_count": 130,
   "metadata": {},
   "outputs": [
    {
     "name": "stdout",
     "output_type": "stream",
     "text": [
      "Index(['Airport', 'Terminal', 'Date', 'Hour', 'U.S. CitizenAverage WaitTime',\n",
      "       'U.S. CitizenMax WaitTime', 'Non U.S. CitizenAverage WaitTime',\n",
      "       'Non U.S. CitizenMax WaitTime', 'Wait TimesAverage WaitTime',\n",
      "       'Wait TimesMax WaitTime', '0-15', '16-30', '31-45', '46-60', '61-90',\n",
      "       '91-120', '120 plus', 'Excluded', 'Total', 'Flights', 'Booths'],\n",
      "      dtype='object')\n"
     ]
    },
    {
     "data": {
      "text/html": [
       "<div>\n",
       "<style scoped>\n",
       "    .dataframe tbody tr th:only-of-type {\n",
       "        vertical-align: middle;\n",
       "    }\n",
       "\n",
       "    .dataframe tbody tr th {\n",
       "        vertical-align: top;\n",
       "    }\n",
       "\n",
       "    .dataframe thead th {\n",
       "        text-align: right;\n",
       "    }\n",
       "</style>\n",
       "<table border=\"1\" class=\"dataframe\">\n",
       "  <thead>\n",
       "    <tr style=\"text-align: right;\">\n",
       "      <th></th>\n",
       "      <th>Airport</th>\n",
       "      <th>Terminal</th>\n",
       "      <th>Date</th>\n",
       "      <th>Hour</th>\n",
       "      <th>U.S. CitizenAverage WaitTime</th>\n",
       "      <th>U.S. CitizenMax WaitTime</th>\n",
       "      <th>Non U.S. CitizenAverage WaitTime</th>\n",
       "      <th>Non U.S. CitizenMax WaitTime</th>\n",
       "      <th>Wait TimesAverage WaitTime</th>\n",
       "      <th>Wait TimesMax WaitTime</th>\n",
       "      <th>...</th>\n",
       "      <th>16-30</th>\n",
       "      <th>31-45</th>\n",
       "      <th>46-60</th>\n",
       "      <th>61-90</th>\n",
       "      <th>91-120</th>\n",
       "      <th>120 plus</th>\n",
       "      <th>Excluded</th>\n",
       "      <th>Total</th>\n",
       "      <th>Flights</th>\n",
       "      <th>Booths</th>\n",
       "    </tr>\n",
       "  </thead>\n",
       "  <tbody>\n",
       "    <tr>\n",
       "      <td>0</td>\n",
       "      <td>ORD</td>\n",
       "      <td>Terminal 5</td>\n",
       "      <td>2017-01-01 00:00:00</td>\n",
       "      <td>0300 - 0400</td>\n",
       "      <td>0</td>\n",
       "      <td>0</td>\n",
       "      <td>0</td>\n",
       "      <td>0</td>\n",
       "      <td>0</td>\n",
       "      <td>0</td>\n",
       "      <td>...</td>\n",
       "      <td>0</td>\n",
       "      <td>0</td>\n",
       "      <td>0</td>\n",
       "      <td>0</td>\n",
       "      <td>0</td>\n",
       "      <td>0</td>\n",
       "      <td>7</td>\n",
       "      <td>7</td>\n",
       "      <td>1</td>\n",
       "      <td>0</td>\n",
       "    </tr>\n",
       "    <tr>\n",
       "      <td>1</td>\n",
       "      <td>ORD</td>\n",
       "      <td>Terminal 5</td>\n",
       "      <td>2017-01-01 00:00:00</td>\n",
       "      <td>0400 - 0500</td>\n",
       "      <td>18</td>\n",
       "      <td>51</td>\n",
       "      <td>28</td>\n",
       "      <td>51</td>\n",
       "      <td>20</td>\n",
       "      <td>51</td>\n",
       "      <td>...</td>\n",
       "      <td>160</td>\n",
       "      <td>60</td>\n",
       "      <td>8</td>\n",
       "      <td>0</td>\n",
       "      <td>0</td>\n",
       "      <td>0</td>\n",
       "      <td>13</td>\n",
       "      <td>362</td>\n",
       "      <td>3</td>\n",
       "      <td>10</td>\n",
       "    </tr>\n",
       "    <tr>\n",
       "      <td>2</td>\n",
       "      <td>ORD</td>\n",
       "      <td>Terminal 5</td>\n",
       "      <td>2017-01-01 00:00:00</td>\n",
       "      <td>0600 - 0700</td>\n",
       "      <td>11</td>\n",
       "      <td>49</td>\n",
       "      <td>27</td>\n",
       "      <td>49</td>\n",
       "      <td>20</td>\n",
       "      <td>49</td>\n",
       "      <td>...</td>\n",
       "      <td>81</td>\n",
       "      <td>64</td>\n",
       "      <td>19</td>\n",
       "      <td>0</td>\n",
       "      <td>0</td>\n",
       "      <td>0</td>\n",
       "      <td>10</td>\n",
       "      <td>328</td>\n",
       "      <td>1</td>\n",
       "      <td>10</td>\n",
       "    </tr>\n",
       "    <tr>\n",
       "      <td>3</td>\n",
       "      <td>ORD</td>\n",
       "      <td>Terminal 5</td>\n",
       "      <td>2017-01-01 00:00:00</td>\n",
       "      <td>0700 - 0800</td>\n",
       "      <td>7</td>\n",
       "      <td>24</td>\n",
       "      <td>12</td>\n",
       "      <td>26</td>\n",
       "      <td>10</td>\n",
       "      <td>26</td>\n",
       "      <td>...</td>\n",
       "      <td>88</td>\n",
       "      <td>0</td>\n",
       "      <td>0</td>\n",
       "      <td>0</td>\n",
       "      <td>0</td>\n",
       "      <td>0</td>\n",
       "      <td>10</td>\n",
       "      <td>370</td>\n",
       "      <td>2</td>\n",
       "      <td>12</td>\n",
       "    </tr>\n",
       "    <tr>\n",
       "      <td>4</td>\n",
       "      <td>ORD</td>\n",
       "      <td>Terminal 5</td>\n",
       "      <td>2017-01-01 00:00:00</td>\n",
       "      <td>0800 - 0900</td>\n",
       "      <td>5</td>\n",
       "      <td>25</td>\n",
       "      <td>13</td>\n",
       "      <td>37</td>\n",
       "      <td>10</td>\n",
       "      <td>37</td>\n",
       "      <td>...</td>\n",
       "      <td>121</td>\n",
       "      <td>16</td>\n",
       "      <td>0</td>\n",
       "      <td>0</td>\n",
       "      <td>0</td>\n",
       "      <td>0</td>\n",
       "      <td>11</td>\n",
       "      <td>446</td>\n",
       "      <td>2</td>\n",
       "      <td>12</td>\n",
       "    </tr>\n",
       "  </tbody>\n",
       "</table>\n",
       "<p>5 rows × 21 columns</p>\n",
       "</div>"
      ],
      "text/plain": [
       "  Airport    Terminal                 Date         Hour  \\\n",
       "0     ORD  Terminal 5  2017-01-01 00:00:00  0300 - 0400   \n",
       "1     ORD  Terminal 5  2017-01-01 00:00:00  0400 - 0500   \n",
       "2     ORD  Terminal 5  2017-01-01 00:00:00  0600 - 0700   \n",
       "3     ORD  Terminal 5  2017-01-01 00:00:00  0700 - 0800   \n",
       "4     ORD  Terminal 5  2017-01-01 00:00:00  0800 - 0900   \n",
       "\n",
       "   U.S. CitizenAverage WaitTime  U.S. CitizenMax WaitTime  \\\n",
       "0                             0                         0   \n",
       "1                            18                        51   \n",
       "2                            11                        49   \n",
       "3                             7                        24   \n",
       "4                             5                        25   \n",
       "\n",
       "   Non U.S. CitizenAverage WaitTime  Non U.S. CitizenMax WaitTime  \\\n",
       "0                                 0                             0   \n",
       "1                                28                            51   \n",
       "2                                27                            49   \n",
       "3                                12                            26   \n",
       "4                                13                            37   \n",
       "\n",
       "   Wait TimesAverage WaitTime  Wait TimesMax WaitTime  ...  16-30  31-45  \\\n",
       "0                           0                       0  ...      0      0   \n",
       "1                          20                      51  ...    160     60   \n",
       "2                          20                      49  ...     81     64   \n",
       "3                          10                      26  ...     88      0   \n",
       "4                          10                      37  ...    121     16   \n",
       "\n",
       "   46-60  61-90  91-120  120 plus  Excluded  Total  Flights  Booths  \n",
       "0      0      0       0         0         7      7        1       0  \n",
       "1      8      0       0         0        13    362        3      10  \n",
       "2     19      0       0         0        10    328        1      10  \n",
       "3      0      0       0         0        10    370        2      12  \n",
       "4      0      0       0         0        11    446        2      12  \n",
       "\n",
       "[5 rows x 21 columns]"
      ]
     },
     "execution_count": 130,
     "metadata": {},
     "output_type": "execute_result"
    }
   ],
   "source": [
    "\n",
    "df=pd.read_excel('AWT.xls',header=[0,1,2,3], parse_dates=False)\n",
    "col_list=[]\n",
    "for col in df.columns:\n",
    "    col=list(col)\n",
    "    col_list.append(\"\".join(filter(lambda x: not x.startswith('Unnamed') and not x.startswith(\"All\") and not x.startswith(\"Number\"),  col)))\n",
    "df.columns=col_list\n",
    "print(df.columns)\n",
    "df.head()"
   ]
  },
  {
   "cell_type": "code",
   "execution_count": 79,
   "metadata": {},
   "outputs": [
    {
     "data": {
      "text/plain": [
       "datetime.datetime(2017, 2, 1, 0, 0)"
      ]
     },
     "execution_count": 79,
     "metadata": {},
     "output_type": "execute_result"
    }
   ],
   "source": [
    "df.Date[30]"
   ]
  },
  {
   "cell_type": "code",
   "execution_count": 7,
   "metadata": {},
   "outputs": [
    {
     "data": {
      "text/html": [
       "<div>\n",
       "<style scoped>\n",
       "    .dataframe tbody tr th:only-of-type {\n",
       "        vertical-align: middle;\n",
       "    }\n",
       "\n",
       "    .dataframe tbody tr th {\n",
       "        vertical-align: top;\n",
       "    }\n",
       "\n",
       "    .dataframe thead th {\n",
       "        text-align: right;\n",
       "    }\n",
       "</style>\n",
       "<table border=\"1\" class=\"dataframe\">\n",
       "  <thead>\n",
       "    <tr style=\"text-align: right;\">\n",
       "      <th></th>\n",
       "      <th>Airport</th>\n",
       "      <th>Terminal</th>\n",
       "      <th>Date</th>\n",
       "      <th>Hour</th>\n",
       "      <th>U.S. CitizenAverage WaitTime</th>\n",
       "      <th>U.S. CitizenMax WaitTime</th>\n",
       "      <th>Non U.S. CitizenAverage WaitTime</th>\n",
       "      <th>Non U.S. CitizenMax WaitTime</th>\n",
       "      <th>AllWait TimesAverage WaitTime</th>\n",
       "      <th>AllWait TimesMax WaitTime</th>\n",
       "      <th>...</th>\n",
       "      <th>AllNumber Of Passengers Time Interval16-30</th>\n",
       "      <th>AllNumber Of Passengers Time Interval31-45</th>\n",
       "      <th>AllNumber Of Passengers Time Interval46-60</th>\n",
       "      <th>AllNumber Of Passengers Time Interval61-90</th>\n",
       "      <th>AllNumber Of Passengers Time Interval91-120</th>\n",
       "      <th>AllNumber Of Passengers Time Interval120 plus</th>\n",
       "      <th>AllNumber Of Passengers Time IntervalExcluded</th>\n",
       "      <th>AllNumber Of Passengers Time IntervalTotal</th>\n",
       "      <th>AllNumber Of Passengers Time IntervalFlights</th>\n",
       "      <th>AllNumber Of Passengers Time IntervalBooths</th>\n",
       "    </tr>\n",
       "  </thead>\n",
       "  <tbody>\n",
       "    <tr>\n",
       "      <td>0</td>\n",
       "      <td>ORD</td>\n",
       "      <td>Terminal 5</td>\n",
       "      <td>2017-01-01 00:00:00</td>\n",
       "      <td>0300 - 0400</td>\n",
       "      <td>0</td>\n",
       "      <td>0</td>\n",
       "      <td>0</td>\n",
       "      <td>0</td>\n",
       "      <td>0</td>\n",
       "      <td>0</td>\n",
       "      <td>...</td>\n",
       "      <td>0</td>\n",
       "      <td>0</td>\n",
       "      <td>0</td>\n",
       "      <td>0</td>\n",
       "      <td>0</td>\n",
       "      <td>0</td>\n",
       "      <td>7</td>\n",
       "      <td>7</td>\n",
       "      <td>1</td>\n",
       "      <td>0</td>\n",
       "    </tr>\n",
       "    <tr>\n",
       "      <td>1</td>\n",
       "      <td>ORD</td>\n",
       "      <td>Terminal 5</td>\n",
       "      <td>2017-01-01 00:00:00</td>\n",
       "      <td>0400 - 0500</td>\n",
       "      <td>18</td>\n",
       "      <td>51</td>\n",
       "      <td>28</td>\n",
       "      <td>51</td>\n",
       "      <td>20</td>\n",
       "      <td>51</td>\n",
       "      <td>...</td>\n",
       "      <td>160</td>\n",
       "      <td>60</td>\n",
       "      <td>8</td>\n",
       "      <td>0</td>\n",
       "      <td>0</td>\n",
       "      <td>0</td>\n",
       "      <td>13</td>\n",
       "      <td>362</td>\n",
       "      <td>3</td>\n",
       "      <td>10</td>\n",
       "    </tr>\n",
       "    <tr>\n",
       "      <td>2</td>\n",
       "      <td>ORD</td>\n",
       "      <td>Terminal 5</td>\n",
       "      <td>2017-01-01 00:00:00</td>\n",
       "      <td>0600 - 0700</td>\n",
       "      <td>11</td>\n",
       "      <td>49</td>\n",
       "      <td>27</td>\n",
       "      <td>49</td>\n",
       "      <td>20</td>\n",
       "      <td>49</td>\n",
       "      <td>...</td>\n",
       "      <td>81</td>\n",
       "      <td>64</td>\n",
       "      <td>19</td>\n",
       "      <td>0</td>\n",
       "      <td>0</td>\n",
       "      <td>0</td>\n",
       "      <td>10</td>\n",
       "      <td>328</td>\n",
       "      <td>1</td>\n",
       "      <td>10</td>\n",
       "    </tr>\n",
       "    <tr>\n",
       "      <td>3</td>\n",
       "      <td>ORD</td>\n",
       "      <td>Terminal 5</td>\n",
       "      <td>2017-01-01 00:00:00</td>\n",
       "      <td>0700 - 0800</td>\n",
       "      <td>7</td>\n",
       "      <td>24</td>\n",
       "      <td>12</td>\n",
       "      <td>26</td>\n",
       "      <td>10</td>\n",
       "      <td>26</td>\n",
       "      <td>...</td>\n",
       "      <td>88</td>\n",
       "      <td>0</td>\n",
       "      <td>0</td>\n",
       "      <td>0</td>\n",
       "      <td>0</td>\n",
       "      <td>0</td>\n",
       "      <td>10</td>\n",
       "      <td>370</td>\n",
       "      <td>2</td>\n",
       "      <td>12</td>\n",
       "    </tr>\n",
       "    <tr>\n",
       "      <td>4</td>\n",
       "      <td>ORD</td>\n",
       "      <td>Terminal 5</td>\n",
       "      <td>2017-01-01 00:00:00</td>\n",
       "      <td>0800 - 0900</td>\n",
       "      <td>5</td>\n",
       "      <td>25</td>\n",
       "      <td>13</td>\n",
       "      <td>37</td>\n",
       "      <td>10</td>\n",
       "      <td>37</td>\n",
       "      <td>...</td>\n",
       "      <td>121</td>\n",
       "      <td>16</td>\n",
       "      <td>0</td>\n",
       "      <td>0</td>\n",
       "      <td>0</td>\n",
       "      <td>0</td>\n",
       "      <td>11</td>\n",
       "      <td>446</td>\n",
       "      <td>2</td>\n",
       "      <td>12</td>\n",
       "    </tr>\n",
       "    <tr>\n",
       "      <td>...</td>\n",
       "      <td>...</td>\n",
       "      <td>...</td>\n",
       "      <td>...</td>\n",
       "      <td>...</td>\n",
       "      <td>...</td>\n",
       "      <td>...</td>\n",
       "      <td>...</td>\n",
       "      <td>...</td>\n",
       "      <td>...</td>\n",
       "      <td>...</td>\n",
       "      <td>...</td>\n",
       "      <td>...</td>\n",
       "      <td>...</td>\n",
       "      <td>...</td>\n",
       "      <td>...</td>\n",
       "      <td>...</td>\n",
       "      <td>...</td>\n",
       "      <td>...</td>\n",
       "      <td>...</td>\n",
       "      <td>...</td>\n",
       "      <td>...</td>\n",
       "    </tr>\n",
       "    <tr>\n",
       "      <td>6699</td>\n",
       "      <td>ORD</td>\n",
       "      <td>Terminal 5</td>\n",
       "      <td>12/31/2017</td>\n",
       "      <td>1800 - 1900</td>\n",
       "      <td>16</td>\n",
       "      <td>47</td>\n",
       "      <td>16</td>\n",
       "      <td>48</td>\n",
       "      <td>16</td>\n",
       "      <td>48</td>\n",
       "      <td>...</td>\n",
       "      <td>506</td>\n",
       "      <td>148</td>\n",
       "      <td>9</td>\n",
       "      <td>0</td>\n",
       "      <td>0</td>\n",
       "      <td>0</td>\n",
       "      <td>56</td>\n",
       "      <td>1405</td>\n",
       "      <td>9</td>\n",
       "      <td>17</td>\n",
       "    </tr>\n",
       "    <tr>\n",
       "      <td>6700</td>\n",
       "      <td>ORD</td>\n",
       "      <td>Terminal 5</td>\n",
       "      <td>12/31/2017</td>\n",
       "      <td>1900 - 2000</td>\n",
       "      <td>7</td>\n",
       "      <td>23</td>\n",
       "      <td>9</td>\n",
       "      <td>23</td>\n",
       "      <td>7</td>\n",
       "      <td>23</td>\n",
       "      <td>...</td>\n",
       "      <td>21</td>\n",
       "      <td>0</td>\n",
       "      <td>0</td>\n",
       "      <td>0</td>\n",
       "      <td>0</td>\n",
       "      <td>0</td>\n",
       "      <td>10</td>\n",
       "      <td>284</td>\n",
       "      <td>1</td>\n",
       "      <td>19</td>\n",
       "    </tr>\n",
       "    <tr>\n",
       "      <td>6701</td>\n",
       "      <td>ORD</td>\n",
       "      <td>Terminal 5</td>\n",
       "      <td>12/31/2017</td>\n",
       "      <td>2000 - 2100</td>\n",
       "      <td>7</td>\n",
       "      <td>18</td>\n",
       "      <td>8</td>\n",
       "      <td>18</td>\n",
       "      <td>7</td>\n",
       "      <td>18</td>\n",
       "      <td>...</td>\n",
       "      <td>25</td>\n",
       "      <td>0</td>\n",
       "      <td>0</td>\n",
       "      <td>0</td>\n",
       "      <td>0</td>\n",
       "      <td>0</td>\n",
       "      <td>15</td>\n",
       "      <td>427</td>\n",
       "      <td>2</td>\n",
       "      <td>14</td>\n",
       "    </tr>\n",
       "    <tr>\n",
       "      <td>6702</td>\n",
       "      <td>ORD</td>\n",
       "      <td>Terminal 5</td>\n",
       "      <td>12/31/2017</td>\n",
       "      <td>2100 - 2200</td>\n",
       "      <td>28</td>\n",
       "      <td>39</td>\n",
       "      <td>31</td>\n",
       "      <td>39</td>\n",
       "      <td>28</td>\n",
       "      <td>39</td>\n",
       "      <td>...</td>\n",
       "      <td>119</td>\n",
       "      <td>38</td>\n",
       "      <td>0</td>\n",
       "      <td>0</td>\n",
       "      <td>0</td>\n",
       "      <td>0</td>\n",
       "      <td>6</td>\n",
       "      <td>167</td>\n",
       "      <td>1</td>\n",
       "      <td>3</td>\n",
       "    </tr>\n",
       "    <tr>\n",
       "      <td>6703</td>\n",
       "      <td>ORD</td>\n",
       "      <td>Terminal 5</td>\n",
       "      <td>12/31/2017</td>\n",
       "      <td>2300 - 0000</td>\n",
       "      <td>7</td>\n",
       "      <td>25</td>\n",
       "      <td>11</td>\n",
       "      <td>25</td>\n",
       "      <td>8</td>\n",
       "      <td>25</td>\n",
       "      <td>...</td>\n",
       "      <td>66</td>\n",
       "      <td>0</td>\n",
       "      <td>0</td>\n",
       "      <td>0</td>\n",
       "      <td>0</td>\n",
       "      <td>0</td>\n",
       "      <td>18</td>\n",
       "      <td>451</td>\n",
       "      <td>3</td>\n",
       "      <td>8</td>\n",
       "    </tr>\n",
       "  </tbody>\n",
       "</table>\n",
       "<p>6704 rows × 21 columns</p>\n",
       "</div>"
      ],
      "text/plain": [
       "     Airport    Terminal                 Date         Hour  \\\n",
       "0        ORD  Terminal 5  2017-01-01 00:00:00  0300 - 0400   \n",
       "1        ORD  Terminal 5  2017-01-01 00:00:00  0400 - 0500   \n",
       "2        ORD  Terminal 5  2017-01-01 00:00:00  0600 - 0700   \n",
       "3        ORD  Terminal 5  2017-01-01 00:00:00  0700 - 0800   \n",
       "4        ORD  Terminal 5  2017-01-01 00:00:00  0800 - 0900   \n",
       "...      ...         ...                  ...          ...   \n",
       "6699     ORD  Terminal 5           12/31/2017  1800 - 1900   \n",
       "6700     ORD  Terminal 5           12/31/2017  1900 - 2000   \n",
       "6701     ORD  Terminal 5           12/31/2017  2000 - 2100   \n",
       "6702     ORD  Terminal 5           12/31/2017  2100 - 2200   \n",
       "6703     ORD  Terminal 5           12/31/2017  2300 - 0000   \n",
       "\n",
       "      U.S. CitizenAverage WaitTime  U.S. CitizenMax WaitTime  \\\n",
       "0                                0                         0   \n",
       "1                               18                        51   \n",
       "2                               11                        49   \n",
       "3                                7                        24   \n",
       "4                                5                        25   \n",
       "...                            ...                       ...   \n",
       "6699                            16                        47   \n",
       "6700                             7                        23   \n",
       "6701                             7                        18   \n",
       "6702                            28                        39   \n",
       "6703                             7                        25   \n",
       "\n",
       "      Non U.S. CitizenAverage WaitTime  Non U.S. CitizenMax WaitTime  \\\n",
       "0                                    0                             0   \n",
       "1                                   28                            51   \n",
       "2                                   27                            49   \n",
       "3                                   12                            26   \n",
       "4                                   13                            37   \n",
       "...                                ...                           ...   \n",
       "6699                                16                            48   \n",
       "6700                                 9                            23   \n",
       "6701                                 8                            18   \n",
       "6702                                31                            39   \n",
       "6703                                11                            25   \n",
       "\n",
       "      AllWait TimesAverage WaitTime  AllWait TimesMax WaitTime  ...  \\\n",
       "0                                 0                          0  ...   \n",
       "1                                20                         51  ...   \n",
       "2                                20                         49  ...   \n",
       "3                                10                         26  ...   \n",
       "4                                10                         37  ...   \n",
       "...                             ...                        ...  ...   \n",
       "6699                             16                         48  ...   \n",
       "6700                              7                         23  ...   \n",
       "6701                              7                         18  ...   \n",
       "6702                             28                         39  ...   \n",
       "6703                              8                         25  ...   \n",
       "\n",
       "      AllNumber Of Passengers Time Interval16-30  \\\n",
       "0                                              0   \n",
       "1                                            160   \n",
       "2                                             81   \n",
       "3                                             88   \n",
       "4                                            121   \n",
       "...                                          ...   \n",
       "6699                                         506   \n",
       "6700                                          21   \n",
       "6701                                          25   \n",
       "6702                                         119   \n",
       "6703                                          66   \n",
       "\n",
       "      AllNumber Of Passengers Time Interval31-45  \\\n",
       "0                                              0   \n",
       "1                                             60   \n",
       "2                                             64   \n",
       "3                                              0   \n",
       "4                                             16   \n",
       "...                                          ...   \n",
       "6699                                         148   \n",
       "6700                                           0   \n",
       "6701                                           0   \n",
       "6702                                          38   \n",
       "6703                                           0   \n",
       "\n",
       "      AllNumber Of Passengers Time Interval46-60  \\\n",
       "0                                              0   \n",
       "1                                              8   \n",
       "2                                             19   \n",
       "3                                              0   \n",
       "4                                              0   \n",
       "...                                          ...   \n",
       "6699                                           9   \n",
       "6700                                           0   \n",
       "6701                                           0   \n",
       "6702                                           0   \n",
       "6703                                           0   \n",
       "\n",
       "      AllNumber Of Passengers Time Interval61-90  \\\n",
       "0                                              0   \n",
       "1                                              0   \n",
       "2                                              0   \n",
       "3                                              0   \n",
       "4                                              0   \n",
       "...                                          ...   \n",
       "6699                                           0   \n",
       "6700                                           0   \n",
       "6701                                           0   \n",
       "6702                                           0   \n",
       "6703                                           0   \n",
       "\n",
       "      AllNumber Of Passengers Time Interval91-120  \\\n",
       "0                                               0   \n",
       "1                                               0   \n",
       "2                                               0   \n",
       "3                                               0   \n",
       "4                                               0   \n",
       "...                                           ...   \n",
       "6699                                            0   \n",
       "6700                                            0   \n",
       "6701                                            0   \n",
       "6702                                            0   \n",
       "6703                                            0   \n",
       "\n",
       "      AllNumber Of Passengers Time Interval120 plus  \\\n",
       "0                                                 0   \n",
       "1                                                 0   \n",
       "2                                                 0   \n",
       "3                                                 0   \n",
       "4                                                 0   \n",
       "...                                             ...   \n",
       "6699                                              0   \n",
       "6700                                              0   \n",
       "6701                                              0   \n",
       "6702                                              0   \n",
       "6703                                              0   \n",
       "\n",
       "      AllNumber Of Passengers Time IntervalExcluded  \\\n",
       "0                                                 7   \n",
       "1                                                13   \n",
       "2                                                10   \n",
       "3                                                10   \n",
       "4                                                11   \n",
       "...                                             ...   \n",
       "6699                                             56   \n",
       "6700                                             10   \n",
       "6701                                             15   \n",
       "6702                                              6   \n",
       "6703                                             18   \n",
       "\n",
       "      AllNumber Of Passengers Time IntervalTotal  \\\n",
       "0                                              7   \n",
       "1                                            362   \n",
       "2                                            328   \n",
       "3                                            370   \n",
       "4                                            446   \n",
       "...                                          ...   \n",
       "6699                                        1405   \n",
       "6700                                         284   \n",
       "6701                                         427   \n",
       "6702                                         167   \n",
       "6703                                         451   \n",
       "\n",
       "      AllNumber Of Passengers Time IntervalFlights  \\\n",
       "0                                                1   \n",
       "1                                                3   \n",
       "2                                                1   \n",
       "3                                                2   \n",
       "4                                                2   \n",
       "...                                            ...   \n",
       "6699                                             9   \n",
       "6700                                             1   \n",
       "6701                                             2   \n",
       "6702                                             1   \n",
       "6703                                             3   \n",
       "\n",
       "      AllNumber Of Passengers Time IntervalBooths  \n",
       "0                                               0  \n",
       "1                                              10  \n",
       "2                                              10  \n",
       "3                                              12  \n",
       "4                                              12  \n",
       "...                                           ...  \n",
       "6699                                           17  \n",
       "6700                                           19  \n",
       "6701                                           14  \n",
       "6702                                            3  \n",
       "6703                                            8  \n",
       "\n",
       "[6704 rows x 21 columns]"
      ]
     },
     "execution_count": 7,
     "metadata": {},
     "output_type": "execute_result"
    }
   ],
   "source": [
    "df"
   ]
  },
  {
   "cell_type": "code",
   "execution_count": 10,
   "metadata": {},
   "outputs": [
    {
     "data": {
      "text/plain": [
       "Airport                             object\n",
       "Terminal                            object\n",
       "Date                                object\n",
       "Hour                                object\n",
       "U.S. CitizenAverage WaitTime         int64\n",
       "U.S. CitizenMax WaitTime             int64\n",
       "Non U.S. CitizenAverage WaitTime     int64\n",
       "Non U.S. CitizenMax WaitTime         int64\n",
       "Wait TimesAverage WaitTime           int64\n",
       "Wait TimesMax WaitTime               int64\n",
       "0-15                                 int64\n",
       "16-30                                int64\n",
       "31-45                                int64\n",
       "46-60                                int64\n",
       "61-90                                int64\n",
       "91-120                               int64\n",
       "120 plus                             int64\n",
       "Excluded                             int64\n",
       "Total                                int64\n",
       "Flights                              int64\n",
       "Booths                               int64\n",
       "dtype: object"
      ]
     },
     "execution_count": 10,
     "metadata": {},
     "output_type": "execute_result"
    }
   ],
   "source": [
    "# check datatype of each column\n",
    "df.dtypes"
   ]
  },
  {
   "cell_type": "code",
   "execution_count": 65,
   "metadata": {},
   "outputs": [
    {
     "data": {
      "text/plain": [
       "0       2017-01-01 00:00:00\n",
       "1       2017-01-01 00:00:00\n",
       "2       2017-01-01 00:00:00\n",
       "3       2017-01-01 00:00:00\n",
       "4       2017-01-01 00:00:00\n",
       "               ...         \n",
       "6699             12/31/2017\n",
       "6700             12/31/2017\n",
       "6701             12/31/2017\n",
       "6702             12/31/2017\n",
       "6703             12/31/2017\n",
       "Name: Date, Length: 6704, dtype: object"
      ]
     },
     "execution_count": 65,
     "metadata": {},
     "output_type": "execute_result"
    }
   ],
   "source": [
    "df.Date"
   ]
  },
  {
   "cell_type": "code",
   "execution_count": 12,
   "metadata": {},
   "outputs": [
    {
     "data": {
      "text/plain": [
       "Airport                             False\n",
       "Terminal                            False\n",
       "Date                                False\n",
       "Hour                                False\n",
       "U.S. CitizenAverage WaitTime        False\n",
       "U.S. CitizenMax WaitTime            False\n",
       "Non U.S. CitizenAverage WaitTime    False\n",
       "Non U.S. CitizenMax WaitTime        False\n",
       "Wait TimesAverage WaitTime          False\n",
       "Wait TimesMax WaitTime              False\n",
       "0-15                                False\n",
       "16-30                               False\n",
       "31-45                               False\n",
       "46-60                               False\n",
       "61-90                               False\n",
       "91-120                              False\n",
       "120 plus                            False\n",
       "Excluded                            False\n",
       "Total                               False\n",
       "Flights                             False\n",
       "Booths                              False\n",
       "dtype: bool"
      ]
     },
     "execution_count": 12,
     "metadata": {},
     "output_type": "execute_result"
    }
   ],
   "source": [
    "# find out columns which have na values\n",
    "df.isna().any()"
   ]
  },
  {
   "cell_type": "code",
   "execution_count": 13,
   "metadata": {},
   "outputs": [
    {
     "data": {
      "text/plain": [
       "array(['ORD'], dtype=object)"
      ]
     },
     "execution_count": 13,
     "metadata": {},
     "output_type": "execute_result"
    }
   ],
   "source": [
    "# check if there are any unique values in first two columns\n",
    "df.Airport.unique()"
   ]
  },
  {
   "cell_type": "code",
   "execution_count": 15,
   "metadata": {},
   "outputs": [
    {
     "data": {
      "text/plain": [
       "array(['Terminal 5'], dtype=object)"
      ]
     },
     "execution_count": 15,
     "metadata": {},
     "output_type": "execute_result"
    }
   ],
   "source": [
    "df.Terminal.unique()"
   ]
  },
  {
   "cell_type": "code",
   "execution_count": null,
   "metadata": {},
   "outputs": [],
   "source": [
    "# based on above, are these two columns userful ?\n"
   ]
  },
  {
   "cell_type": "code",
   "execution_count": 16,
   "metadata": {},
   "outputs": [
    {
     "data": {
      "text/plain": [
       "array(['0300 - 0400', '0400 - 0500', '0600 - 0700', '0700 - 0800',\n",
       "       '0800 - 0900', '0900 - 1000', '1000 - 1100', '1100 - 1200',\n",
       "       '1200 - 1300', '1300 - 1400', '1400 - 1500', '1500 - 1600',\n",
       "       '1600 - 1700', '1700 - 1800', '1800 - 1900', '1900 - 2000',\n",
       "       '2000 - 2100', '2100 - 2200', '2200 - 2300', '2300 - 0000',\n",
       "       '0000 - 0100', '0100 - 0200', '0500 - 0600', '0200 - 0300'],\n",
       "      dtype=object)"
      ]
     },
     "execution_count": 16,
     "metadata": {},
     "output_type": "execute_result"
    }
   ],
   "source": [
    "# check if all hour values are present or not\n",
    "df.Hour.unique()"
   ]
  },
  {
   "cell_type": "code",
   "execution_count": 26,
   "metadata": {},
   "outputs": [
    {
     "data": {
      "text/html": [
       "<div>\n",
       "<style scoped>\n",
       "    .dataframe tbody tr th:only-of-type {\n",
       "        vertical-align: middle;\n",
       "    }\n",
       "\n",
       "    .dataframe tbody tr th {\n",
       "        vertical-align: top;\n",
       "    }\n",
       "\n",
       "    .dataframe thead th {\n",
       "        text-align: right;\n",
       "    }\n",
       "</style>\n",
       "<table border=\"1\" class=\"dataframe\">\n",
       "  <thead>\n",
       "    <tr style=\"text-align: right;\">\n",
       "      <th></th>\n",
       "      <th>0</th>\n",
       "    </tr>\n",
       "  </thead>\n",
       "  <tbody>\n",
       "    <tr>\n",
       "      <td>0</td>\n",
       "      <td>0300</td>\n",
       "    </tr>\n",
       "    <tr>\n",
       "      <td>1</td>\n",
       "      <td>0400</td>\n",
       "    </tr>\n",
       "    <tr>\n",
       "      <td>2</td>\n",
       "      <td>0600</td>\n",
       "    </tr>\n",
       "    <tr>\n",
       "      <td>3</td>\n",
       "      <td>0700</td>\n",
       "    </tr>\n",
       "    <tr>\n",
       "      <td>4</td>\n",
       "      <td>0800</td>\n",
       "    </tr>\n",
       "    <tr>\n",
       "      <td>...</td>\n",
       "      <td>...</td>\n",
       "    </tr>\n",
       "    <tr>\n",
       "      <td>6699</td>\n",
       "      <td>1800</td>\n",
       "    </tr>\n",
       "    <tr>\n",
       "      <td>6700</td>\n",
       "      <td>1900</td>\n",
       "    </tr>\n",
       "    <tr>\n",
       "      <td>6701</td>\n",
       "      <td>2000</td>\n",
       "    </tr>\n",
       "    <tr>\n",
       "      <td>6702</td>\n",
       "      <td>2100</td>\n",
       "    </tr>\n",
       "    <tr>\n",
       "      <td>6703</td>\n",
       "      <td>2300</td>\n",
       "    </tr>\n",
       "  </tbody>\n",
       "</table>\n",
       "<p>6704 rows × 1 columns</p>\n",
       "</div>"
      ],
      "text/plain": [
       "         0\n",
       "0     0300\n",
       "1     0400\n",
       "2     0600\n",
       "3     0700\n",
       "4     0800\n",
       "...    ...\n",
       "6699  1800\n",
       "6700  1900\n",
       "6701  2000\n",
       "6702  2100\n",
       "6703  2300\n",
       "\n",
       "[6704 rows x 1 columns]"
      ]
     },
     "execution_count": 26,
     "metadata": {},
     "output_type": "execute_result"
    }
   ],
   "source": [
    "# drop the upper bound of hour column Ex: replace 0100 - 0200 with 0100 ...\n",
    "df.Hour.str.extract('(\\d+)')"
   ]
  },
  {
   "cell_type": "code",
   "execution_count": 24,
   "metadata": {},
   "outputs": [
    {
     "data": {
      "text/html": [
       "<div>\n",
       "<style scoped>\n",
       "    .dataframe tbody tr th:only-of-type {\n",
       "        vertical-align: middle;\n",
       "    }\n",
       "\n",
       "    .dataframe tbody tr th {\n",
       "        vertical-align: top;\n",
       "    }\n",
       "\n",
       "    .dataframe thead th {\n",
       "        text-align: right;\n",
       "    }\n",
       "</style>\n",
       "<table border=\"1\" class=\"dataframe\">\n",
       "  <thead>\n",
       "    <tr style=\"text-align: right;\">\n",
       "      <th></th>\n",
       "      <th>0</th>\n",
       "    </tr>\n",
       "  </thead>\n",
       "  <tbody>\n",
       "    <tr>\n",
       "      <td>0</td>\n",
       "      <td>0300</td>\n",
       "    </tr>\n",
       "    <tr>\n",
       "      <td>1</td>\n",
       "      <td>0400</td>\n",
       "    </tr>\n",
       "    <tr>\n",
       "      <td>2</td>\n",
       "      <td>0600</td>\n",
       "    </tr>\n",
       "    <tr>\n",
       "      <td>3</td>\n",
       "      <td>0700</td>\n",
       "    </tr>\n",
       "    <tr>\n",
       "      <td>4</td>\n",
       "      <td>0800</td>\n",
       "    </tr>\n",
       "    <tr>\n",
       "      <td>...</td>\n",
       "      <td>...</td>\n",
       "    </tr>\n",
       "    <tr>\n",
       "      <td>6699</td>\n",
       "      <td>1800</td>\n",
       "    </tr>\n",
       "    <tr>\n",
       "      <td>6700</td>\n",
       "      <td>1900</td>\n",
       "    </tr>\n",
       "    <tr>\n",
       "      <td>6701</td>\n",
       "      <td>2000</td>\n",
       "    </tr>\n",
       "    <tr>\n",
       "      <td>6702</td>\n",
       "      <td>2100</td>\n",
       "    </tr>\n",
       "    <tr>\n",
       "      <td>6703</td>\n",
       "      <td>2300</td>\n",
       "    </tr>\n",
       "  </tbody>\n",
       "</table>\n",
       "<p>6704 rows × 1 columns</p>\n",
       "</div>"
      ],
      "text/plain": [
       "         0\n",
       "0     0300\n",
       "1     0400\n",
       "2     0600\n",
       "3     0700\n",
       "4     0800\n",
       "...    ...\n",
       "6699  1800\n",
       "6700  1900\n",
       "6701  2000\n",
       "6702  2100\n",
       "6703  2300\n",
       "\n",
       "[6704 rows x 1 columns]"
      ]
     },
     "execution_count": 24,
     "metadata": {},
     "output_type": "execute_result"
    }
   ],
   "source": [
    "df.Hour.apply(lambda x : pd.Series(str(x).split('-')[0].strip()))"
   ]
  },
  {
   "cell_type": "code",
   "execution_count": 22,
   "metadata": {},
   "outputs": [
    {
     "data": {
      "text/plain": [
       "0       0300\n",
       "1       0400\n",
       "2       0600\n",
       "3       0700\n",
       "4       0800\n",
       "        ... \n",
       "6699    1800\n",
       "6700    1900\n",
       "6701    2000\n",
       "6702    2100\n",
       "6703    2300\n",
       "Name: Hour, Length: 6704, dtype: object"
      ]
     },
     "execution_count": 22,
     "metadata": {},
     "output_type": "execute_result"
    }
   ],
   "source": [
    "#Ankit\n",
    "df.Hour.str[0:4].astype('str')"
   ]
  },
  {
   "cell_type": "code",
   "execution_count": 101,
   "metadata": {},
   "outputs": [],
   "source": [
    "df.Hour = df.Hour.str.split('-').str[0].str.strip()"
   ]
  },
  {
   "cell_type": "code",
   "execution_count": 39,
   "metadata": {},
   "outputs": [
    {
     "data": {
      "text/plain": [
       "0       0300\n",
       "1       0400\n",
       "2       0600\n",
       "3       0700\n",
       "4       0800\n",
       "        ... \n",
       "6699    1800\n",
       "6700    1900\n",
       "6701    2000\n",
       "6702    2100\n",
       "6703    2300\n",
       "Name: Hour, Length: 6704, dtype: object"
      ]
     },
     "execution_count": 39,
     "metadata": {},
     "output_type": "execute_result"
    }
   ],
   "source": [
    "df.Hour"
   ]
  },
  {
   "cell_type": "code",
   "execution_count": 31,
   "metadata": {},
   "outputs": [
    {
     "data": {
      "text/plain": [
       "True"
      ]
     },
     "execution_count": 31,
     "metadata": {},
     "output_type": "execute_result"
    }
   ],
   "source": [
    "# check that hour values lie in range 0-2300 or not\n",
    "h = pd.to_numeric(df[\"Hour\"])\n",
    "h.between(0,2300).all()"
   ]
  },
  {
   "cell_type": "code",
   "execution_count": null,
   "metadata": {},
   "outputs": [],
   "source": [
    "# convert hour column from string type to datetime type. (If this doesn't work out easily, then first solve next problem)\n"
   ]
  },
  {
   "cell_type": "code",
   "execution_count": 36,
   "metadata": {},
   "outputs": [
    {
     "data": {
      "text/plain": [
       "0       0300 \n",
       "1       0400 \n",
       "2       0600 \n",
       "3       0700 \n",
       "4       0800 \n",
       "        ...  \n",
       "6699    1800 \n",
       "6700    1900 \n",
       "6701    2000 \n",
       "6702    2100 \n",
       "6703    2300 \n",
       "Name: Hour, Length: 6704, dtype: object"
      ]
     },
     "execution_count": 36,
     "metadata": {},
     "output_type": "execute_result"
    }
   ],
   "source": [
    "df.Hour"
   ]
  },
  {
   "cell_type": "code",
   "execution_count": 41,
   "metadata": {},
   "outputs": [
    {
     "data": {
      "text/plain": [
       "True"
      ]
     },
     "execution_count": 41,
     "metadata": {},
     "output_type": "execute_result"
    }
   ],
   "source": [
    "# check that length of each hour value is 4, if not, check why and fix it and then check again\n",
    "(df.Hour.str.len()==4).all()"
   ]
  },
  {
   "cell_type": "code",
   "execution_count": 89,
   "metadata": {},
   "outputs": [
    {
     "data": {
      "text/plain": [
       "0     1\n",
       "1     1\n",
       "2     1\n",
       "3     1\n",
       "4     1\n",
       "5     1\n",
       "6     1\n",
       "7     1\n",
       "8     1\n",
       "9     1\n",
       "10    1\n",
       "11    1\n",
       "12    1\n",
       "13    1\n",
       "14    1\n",
       "15    1\n",
       "16    1\n",
       "17    1\n",
       "18    1\n",
       "19    1\n",
       "20    1\n",
       "21    1\n",
       "22    1\n",
       "23    1\n",
       "24    1\n",
       "25    1\n",
       "26    1\n",
       "27    1\n",
       "28    1\n",
       "29    1\n",
       "Name: Date, dtype: int64"
      ]
     },
     "execution_count": 89,
     "metadata": {},
     "output_type": "execute_result"
    }
   ],
   "source": [
    "# convert Date column to datetime type\n",
    "pd.to_datetime(df.Date).head(30).dt.day"
   ]
  },
  {
   "cell_type": "code",
   "execution_count": 54,
   "metadata": {},
   "outputs": [
    {
     "data": {
      "text/plain": [
       "0       2017-01-01 00:00:00\n",
       "1       2017-01-01 00:00:00\n",
       "2       2017-01-01 00:00:00\n",
       "3       2017-01-01 00:00:00\n",
       "4       2017-01-01 00:00:00\n",
       "               ...         \n",
       "6699             12/31/2017\n",
       "6700             12/31/2017\n",
       "6701             12/31/2017\n",
       "6702             12/31/2017\n",
       "6703             12/31/2017\n",
       "Name: Date, Length: 6704, dtype: object"
      ]
     },
     "execution_count": 54,
     "metadata": {},
     "output_type": "execute_result"
    }
   ],
   "source": [
    "df.Date"
   ]
  },
  {
   "cell_type": "code",
   "execution_count": 87,
   "metadata": {},
   "outputs": [],
   "source": [
    "df = pd.read_excel(r'AWT.xls', header=[0,1,2,3])\n",
    "df.columns = df.columns.map(','.join)\n",
    "df.columns = ['Airport', 'Terminal', 'Date', 'Hour', 'US AWT', 'US MWT', 'Non AWT', 'Non MWT', 'AWT', 'MWT', '0-15', '16-30', '31-45', '46-60', '61-90', '91-120', '120 Plus', 'Ex cluded', 'Total', 'Flights', 'Booths']"
   ]
  },
  {
   "cell_type": "code",
   "execution_count": 132,
   "metadata": {},
   "outputs": [
    {
     "ename": "ValueError",
     "evalue": "unconverted data remains:  00:00:00",
     "output_type": "error",
     "traceback": [
      "\u001b[1;31m---------------------------------------------------------------------------\u001b[0m",
      "\u001b[1;31mTypeError\u001b[0m                                 Traceback (most recent call last)",
      "\u001b[1;32mC:\\ProgramData\\Anaconda3\\lib\\site-packages\\pandas\\core\\tools\\datetimes.py\u001b[0m in \u001b[0;36m_convert_listlike_datetimes\u001b[1;34m(arg, box, format, name, tz, unit, errors, infer_datetime_format, dayfirst, yearfirst, exact)\u001b[0m\n\u001b[0;32m    447\u001b[0m             \u001b[1;32mtry\u001b[0m\u001b[1;33m:\u001b[0m\u001b[1;33m\u001b[0m\u001b[1;33m\u001b[0m\u001b[0m\n\u001b[1;32m--> 448\u001b[1;33m                 \u001b[0mvalues\u001b[0m\u001b[1;33m,\u001b[0m \u001b[0mtz\u001b[0m \u001b[1;33m=\u001b[0m \u001b[0mconversion\u001b[0m\u001b[1;33m.\u001b[0m\u001b[0mdatetime_to_datetime64\u001b[0m\u001b[1;33m(\u001b[0m\u001b[0marg\u001b[0m\u001b[1;33m)\u001b[0m\u001b[1;33m\u001b[0m\u001b[1;33m\u001b[0m\u001b[0m\n\u001b[0m\u001b[0;32m    449\u001b[0m                 \u001b[1;32mreturn\u001b[0m \u001b[0mDatetimeIndex\u001b[0m\u001b[1;33m.\u001b[0m\u001b[0m_simple_new\u001b[0m\u001b[1;33m(\u001b[0m\u001b[0mvalues\u001b[0m\u001b[1;33m,\u001b[0m \u001b[0mname\u001b[0m\u001b[1;33m=\u001b[0m\u001b[0mname\u001b[0m\u001b[1;33m,\u001b[0m \u001b[0mtz\u001b[0m\u001b[1;33m=\u001b[0m\u001b[0mtz\u001b[0m\u001b[1;33m)\u001b[0m\u001b[1;33m\u001b[0m\u001b[1;33m\u001b[0m\u001b[0m\n",
      "\u001b[1;32mpandas\\_libs\\tslibs\\conversion.pyx\u001b[0m in \u001b[0;36mpandas._libs.tslibs.conversion.datetime_to_datetime64\u001b[1;34m()\u001b[0m\n",
      "\u001b[1;31mTypeError\u001b[0m: Unrecognized value type: <class 'str'>",
      "\nDuring handling of the above exception, another exception occurred:\n",
      "\u001b[1;31mValueError\u001b[0m                                Traceback (most recent call last)",
      "\u001b[1;32m<ipython-input-132-da72348e8326>\u001b[0m in \u001b[0;36m<module>\u001b[1;34m\u001b[0m\n\u001b[0;32m      1\u001b[0m \u001b[0md\u001b[0m \u001b[1;33m=\u001b[0m \u001b[0mdf\u001b[0m\u001b[1;33m.\u001b[0m\u001b[0mDate\u001b[0m\u001b[1;33m.\u001b[0m\u001b[0mapply\u001b[0m\u001b[1;33m(\u001b[0m\u001b[1;32mlambda\u001b[0m \u001b[0mx\u001b[0m\u001b[1;33m:\u001b[0m \u001b[0mpd\u001b[0m\u001b[1;33m.\u001b[0m\u001b[0mto_datetime\u001b[0m\u001b[1;33m(\u001b[0m\u001b[0mx\u001b[0m\u001b[1;33m)\u001b[0m\u001b[1;33m.\u001b[0m\u001b[0mstrftime\u001b[0m\u001b[1;33m(\u001b[0m\u001b[1;34m'%Y-%d-%m %H:%M:%S'\u001b[0m\u001b[1;33m)\u001b[0m\u001b[1;33m)\u001b[0m\u001b[1;33m\u001b[0m\u001b[1;33m\u001b[0m\u001b[0m\n\u001b[1;32m----> 2\u001b[1;33m \u001b[0md\u001b[0m \u001b[1;33m=\u001b[0m \u001b[0mpd\u001b[0m\u001b[1;33m.\u001b[0m\u001b[0mto_datetime\u001b[0m\u001b[1;33m(\u001b[0m\u001b[0mpd\u001b[0m\u001b[1;33m.\u001b[0m\u001b[0mSeries\u001b[0m\u001b[1;33m(\u001b[0m\u001b[0md\u001b[0m\u001b[1;33m)\u001b[0m\u001b[1;33m,\u001b[0m \u001b[0mformat\u001b[0m\u001b[1;33m=\u001b[0m\u001b[1;34m\"%Y-%d-%m\"\u001b[0m\u001b[1;33m)\u001b[0m\u001b[1;33m\u001b[0m\u001b[1;33m\u001b[0m\u001b[0m\n\u001b[0m\u001b[0;32m      3\u001b[0m \u001b[0md\u001b[0m\u001b[1;33m.\u001b[0m\u001b[0mhead\u001b[0m\u001b[1;33m(\u001b[0m\u001b[1;36m30\u001b[0m\u001b[1;33m)\u001b[0m\u001b[1;33m.\u001b[0m\u001b[0mdt\u001b[0m\u001b[1;33m.\u001b[0m\u001b[0mday\u001b[0m\u001b[1;33m\u001b[0m\u001b[1;33m\u001b[0m\u001b[0m\n",
      "\u001b[1;32mC:\\ProgramData\\Anaconda3\\lib\\site-packages\\pandas\\util\\_decorators.py\u001b[0m in \u001b[0;36mwrapper\u001b[1;34m(*args, **kwargs)\u001b[0m\n\u001b[0;32m    206\u001b[0m                 \u001b[1;32melse\u001b[0m\u001b[1;33m:\u001b[0m\u001b[1;33m\u001b[0m\u001b[1;33m\u001b[0m\u001b[0m\n\u001b[0;32m    207\u001b[0m                     \u001b[0mkwargs\u001b[0m\u001b[1;33m[\u001b[0m\u001b[0mnew_arg_name\u001b[0m\u001b[1;33m]\u001b[0m \u001b[1;33m=\u001b[0m \u001b[0mnew_arg_value\u001b[0m\u001b[1;33m\u001b[0m\u001b[1;33m\u001b[0m\u001b[0m\n\u001b[1;32m--> 208\u001b[1;33m             \u001b[1;32mreturn\u001b[0m \u001b[0mfunc\u001b[0m\u001b[1;33m(\u001b[0m\u001b[1;33m*\u001b[0m\u001b[0margs\u001b[0m\u001b[1;33m,\u001b[0m \u001b[1;33m**\u001b[0m\u001b[0mkwargs\u001b[0m\u001b[1;33m)\u001b[0m\u001b[1;33m\u001b[0m\u001b[1;33m\u001b[0m\u001b[0m\n\u001b[0m\u001b[0;32m    209\u001b[0m \u001b[1;33m\u001b[0m\u001b[0m\n\u001b[0;32m    210\u001b[0m         \u001b[1;32mreturn\u001b[0m \u001b[0mwrapper\u001b[0m\u001b[1;33m\u001b[0m\u001b[1;33m\u001b[0m\u001b[0m\n",
      "\u001b[1;32mC:\\ProgramData\\Anaconda3\\lib\\site-packages\\pandas\\core\\tools\\datetimes.py\u001b[0m in \u001b[0;36mto_datetime\u001b[1;34m(arg, errors, dayfirst, yearfirst, utc, box, format, exact, unit, infer_datetime_format, origin, cache)\u001b[0m\n\u001b[0;32m    772\u001b[0m                 \u001b[0mresult\u001b[0m \u001b[1;33m=\u001b[0m \u001b[0mresult\u001b[0m\u001b[1;33m.\u001b[0m\u001b[0mtz_localize\u001b[0m\u001b[1;33m(\u001b[0m\u001b[0mtz\u001b[0m\u001b[1;33m)\u001b[0m\u001b[1;33m\u001b[0m\u001b[1;33m\u001b[0m\u001b[0m\n\u001b[0;32m    773\u001b[0m     \u001b[1;32melif\u001b[0m \u001b[0misinstance\u001b[0m\u001b[1;33m(\u001b[0m\u001b[0marg\u001b[0m\u001b[1;33m,\u001b[0m \u001b[0mABCSeries\u001b[0m\u001b[1;33m)\u001b[0m\u001b[1;33m:\u001b[0m\u001b[1;33m\u001b[0m\u001b[1;33m\u001b[0m\u001b[0m\n\u001b[1;32m--> 774\u001b[1;33m         \u001b[0mcache_array\u001b[0m \u001b[1;33m=\u001b[0m \u001b[0m_maybe_cache\u001b[0m\u001b[1;33m(\u001b[0m\u001b[0marg\u001b[0m\u001b[1;33m,\u001b[0m \u001b[0mformat\u001b[0m\u001b[1;33m,\u001b[0m \u001b[0mcache\u001b[0m\u001b[1;33m,\u001b[0m \u001b[0mconvert_listlike\u001b[0m\u001b[1;33m)\u001b[0m\u001b[1;33m\u001b[0m\u001b[1;33m\u001b[0m\u001b[0m\n\u001b[0m\u001b[0;32m    775\u001b[0m         \u001b[1;32mif\u001b[0m \u001b[1;32mnot\u001b[0m \u001b[0mcache_array\u001b[0m\u001b[1;33m.\u001b[0m\u001b[0mempty\u001b[0m\u001b[1;33m:\u001b[0m\u001b[1;33m\u001b[0m\u001b[1;33m\u001b[0m\u001b[0m\n\u001b[0;32m    776\u001b[0m             \u001b[0mresult\u001b[0m \u001b[1;33m=\u001b[0m \u001b[0marg\u001b[0m\u001b[1;33m.\u001b[0m\u001b[0mmap\u001b[0m\u001b[1;33m(\u001b[0m\u001b[0mcache_array\u001b[0m\u001b[1;33m)\u001b[0m\u001b[1;33m\u001b[0m\u001b[1;33m\u001b[0m\u001b[0m\n",
      "\u001b[1;32mC:\\ProgramData\\Anaconda3\\lib\\site-packages\\pandas\\core\\tools\\datetimes.py\u001b[0m in \u001b[0;36m_maybe_cache\u001b[1;34m(arg, format, cache, convert_listlike)\u001b[0m\n\u001b[0;32m    154\u001b[0m         \u001b[0munique_dates\u001b[0m \u001b[1;33m=\u001b[0m \u001b[0munique\u001b[0m\u001b[1;33m(\u001b[0m\u001b[0marg\u001b[0m\u001b[1;33m)\u001b[0m\u001b[1;33m\u001b[0m\u001b[1;33m\u001b[0m\u001b[0m\n\u001b[0;32m    155\u001b[0m         \u001b[1;32mif\u001b[0m \u001b[0mlen\u001b[0m\u001b[1;33m(\u001b[0m\u001b[0munique_dates\u001b[0m\u001b[1;33m)\u001b[0m \u001b[1;33m<\u001b[0m \u001b[0mlen\u001b[0m\u001b[1;33m(\u001b[0m\u001b[0marg\u001b[0m\u001b[1;33m)\u001b[0m\u001b[1;33m:\u001b[0m\u001b[1;33m\u001b[0m\u001b[1;33m\u001b[0m\u001b[0m\n\u001b[1;32m--> 156\u001b[1;33m             \u001b[0mcache_dates\u001b[0m \u001b[1;33m=\u001b[0m \u001b[0mconvert_listlike\u001b[0m\u001b[1;33m(\u001b[0m\u001b[0munique_dates\u001b[0m\u001b[1;33m,\u001b[0m \u001b[1;32mTrue\u001b[0m\u001b[1;33m,\u001b[0m \u001b[0mformat\u001b[0m\u001b[1;33m)\u001b[0m\u001b[1;33m\u001b[0m\u001b[1;33m\u001b[0m\u001b[0m\n\u001b[0m\u001b[0;32m    157\u001b[0m             \u001b[0mcache_array\u001b[0m \u001b[1;33m=\u001b[0m \u001b[0mSeries\u001b[0m\u001b[1;33m(\u001b[0m\u001b[0mcache_dates\u001b[0m\u001b[1;33m,\u001b[0m \u001b[0mindex\u001b[0m\u001b[1;33m=\u001b[0m\u001b[0munique_dates\u001b[0m\u001b[1;33m)\u001b[0m\u001b[1;33m\u001b[0m\u001b[1;33m\u001b[0m\u001b[0m\n\u001b[0;32m    158\u001b[0m     \u001b[1;32mreturn\u001b[0m \u001b[0mcache_array\u001b[0m\u001b[1;33m\u001b[0m\u001b[1;33m\u001b[0m\u001b[0m\n",
      "\u001b[1;32mC:\\ProgramData\\Anaconda3\\lib\\site-packages\\pandas\\core\\tools\\datetimes.py\u001b[0m in \u001b[0;36m_convert_listlike_datetimes\u001b[1;34m(arg, box, format, name, tz, unit, errors, infer_datetime_format, dayfirst, yearfirst, exact)\u001b[0m\n\u001b[0;32m    449\u001b[0m                 \u001b[1;32mreturn\u001b[0m \u001b[0mDatetimeIndex\u001b[0m\u001b[1;33m.\u001b[0m\u001b[0m_simple_new\u001b[0m\u001b[1;33m(\u001b[0m\u001b[0mvalues\u001b[0m\u001b[1;33m,\u001b[0m \u001b[0mname\u001b[0m\u001b[1;33m=\u001b[0m\u001b[0mname\u001b[0m\u001b[1;33m,\u001b[0m \u001b[0mtz\u001b[0m\u001b[1;33m=\u001b[0m\u001b[0mtz\u001b[0m\u001b[1;33m)\u001b[0m\u001b[1;33m\u001b[0m\u001b[1;33m\u001b[0m\u001b[0m\n\u001b[0;32m    450\u001b[0m             \u001b[1;32mexcept\u001b[0m \u001b[1;33m(\u001b[0m\u001b[0mValueError\u001b[0m\u001b[1;33m,\u001b[0m \u001b[0mTypeError\u001b[0m\u001b[1;33m)\u001b[0m\u001b[1;33m:\u001b[0m\u001b[1;33m\u001b[0m\u001b[1;33m\u001b[0m\u001b[0m\n\u001b[1;32m--> 451\u001b[1;33m                 \u001b[1;32mraise\u001b[0m \u001b[0me\u001b[0m\u001b[1;33m\u001b[0m\u001b[1;33m\u001b[0m\u001b[0m\n\u001b[0m\u001b[0;32m    452\u001b[0m \u001b[1;33m\u001b[0m\u001b[0m\n\u001b[0;32m    453\u001b[0m     \u001b[1;32mif\u001b[0m \u001b[0mresult\u001b[0m \u001b[1;32mis\u001b[0m \u001b[1;32mNone\u001b[0m\u001b[1;33m:\u001b[0m\u001b[1;33m\u001b[0m\u001b[1;33m\u001b[0m\u001b[0m\n",
      "\u001b[1;32mC:\\ProgramData\\Anaconda3\\lib\\site-packages\\pandas\\core\\tools\\datetimes.py\u001b[0m in \u001b[0;36m_convert_listlike_datetimes\u001b[1;34m(arg, box, format, name, tz, unit, errors, infer_datetime_format, dayfirst, yearfirst, exact)\u001b[0m\n\u001b[0;32m    414\u001b[0m                 \u001b[1;32mtry\u001b[0m\u001b[1;33m:\u001b[0m\u001b[1;33m\u001b[0m\u001b[1;33m\u001b[0m\u001b[0m\n\u001b[0;32m    415\u001b[0m                     result, timezones = array_strptime(\n\u001b[1;32m--> 416\u001b[1;33m                         \u001b[0marg\u001b[0m\u001b[1;33m,\u001b[0m \u001b[0mformat\u001b[0m\u001b[1;33m,\u001b[0m \u001b[0mexact\u001b[0m\u001b[1;33m=\u001b[0m\u001b[0mexact\u001b[0m\u001b[1;33m,\u001b[0m \u001b[0merrors\u001b[0m\u001b[1;33m=\u001b[0m\u001b[0merrors\u001b[0m\u001b[1;33m\u001b[0m\u001b[1;33m\u001b[0m\u001b[0m\n\u001b[0m\u001b[0;32m    417\u001b[0m                     )\n\u001b[0;32m    418\u001b[0m                     \u001b[1;32mif\u001b[0m \u001b[1;34m\"%Z\"\u001b[0m \u001b[1;32min\u001b[0m \u001b[0mformat\u001b[0m \u001b[1;32mor\u001b[0m \u001b[1;34m\"%z\"\u001b[0m \u001b[1;32min\u001b[0m \u001b[0mformat\u001b[0m\u001b[1;33m:\u001b[0m\u001b[1;33m\u001b[0m\u001b[1;33m\u001b[0m\u001b[0m\n",
      "\u001b[1;32mpandas\\_libs\\tslibs\\strptime.pyx\u001b[0m in \u001b[0;36mpandas._libs.tslibs.strptime.array_strptime\u001b[1;34m()\u001b[0m\n",
      "\u001b[1;31mValueError\u001b[0m: unconverted data remains:  00:00:00"
     ]
    }
   ],
   "source": [
    "d = df.Date.apply(lambda x: pd.to_datetime(x).strftime('%Y-%d-%m %H:%M:%S'))\n",
    "d = pd.to_datetime(pd.Series(d), format=\"%Y-%d-%m\")\n",
    "d.head(30).dt.day"
   ]
  },
  {
   "cell_type": "code",
   "execution_count": 97,
   "metadata": {},
   "outputs": [
    {
     "data": {
      "text/plain": [
       "0              NaN\n",
       "1              NaN\n",
       "2              NaN\n",
       "3              NaN\n",
       "4              NaN\n",
       "           ...    \n",
       "6699    12/31/2017\n",
       "6700    12/31/2017\n",
       "6701    12/31/2017\n",
       "6702    12/31/2017\n",
       "6703    12/31/2017\n",
       "Name: Date, Length: 6704, dtype: object"
      ]
     },
     "execution_count": 97,
     "metadata": {},
     "output_type": "execute_result"
    }
   ],
   "source": [
    "df.Date.str.replace('-','/')"
   ]
  },
  {
   "cell_type": "code",
   "execution_count": 64,
   "metadata": {},
   "outputs": [
    {
     "data": {
      "text/plain": [
       "0       2017-01-01 00:00:00\n",
       "1       2017-01-01 00:00:00\n",
       "2       2017-01-01 00:00:00\n",
       "3       2017-01-01 00:00:00\n",
       "4       2017-01-01 00:00:00\n",
       "               ...         \n",
       "6699             12/31/2017\n",
       "6700             12/31/2017\n",
       "6701             12/31/2017\n",
       "6702             12/31/2017\n",
       "6703             12/31/2017\n",
       "Name: Date, Length: 6704, dtype: object"
      ]
     },
     "execution_count": 64,
     "metadata": {},
     "output_type": "execute_result"
    }
   ],
   "source": [
    "df.Date"
   ]
  },
  {
   "cell_type": "code",
   "execution_count": 98,
   "metadata": {},
   "outputs": [],
   "source": [
    "df.Date = pd.to_datetime(df.Date)"
   ]
  },
  {
   "cell_type": "code",
   "execution_count": 99,
   "metadata": {},
   "outputs": [
    {
     "data": {
      "text/plain": [
       "Airport              object\n",
       "Terminal             object\n",
       "Date         datetime64[ns]\n",
       "Hour                 object\n",
       "US AWT                int64\n",
       "US MWT                int64\n",
       "Non AWT               int64\n",
       "Non MWT               int64\n",
       "AWT                   int64\n",
       "MWT                   int64\n",
       "0-15                  int64\n",
       "16-30                 int64\n",
       "31-45                 int64\n",
       "46-60                 int64\n",
       "61-90                 int64\n",
       "91-120                int64\n",
       "120 Plus              int64\n",
       "Ex cluded             int64\n",
       "Total                 int64\n",
       "Flights               int64\n",
       "Booths                int64\n",
       "dtype: object"
      ]
     },
     "execution_count": 99,
     "metadata": {},
     "output_type": "execute_result"
    }
   ],
   "source": [
    "# check data types now\n",
    "df.dtypes"
   ]
  },
  {
   "cell_type": "code",
   "execution_count": 102,
   "metadata": {},
   "outputs": [],
   "source": [
    "df.Hour = pd.to_datetime(df.Hour, format=\"%H%M\")"
   ]
  },
  {
   "cell_type": "code",
   "execution_count": 103,
   "metadata": {},
   "outputs": [
    {
     "ename": "AttributeError",
     "evalue": "'DataFrame' object has no attribute 'dtype'",
     "output_type": "error",
     "traceback": [
      "\u001b[1;31m---------------------------------------------------------------------------\u001b[0m",
      "\u001b[1;31mAttributeError\u001b[0m                            Traceback (most recent call last)",
      "\u001b[1;32m<ipython-input-103-9ec80c761d6e>\u001b[0m in \u001b[0;36m<module>\u001b[1;34m\u001b[0m\n\u001b[0;32m      2\u001b[0m \u001b[0mdf\u001b[0m\u001b[1;33m.\u001b[0m\u001b[0mDate\u001b[0m \u001b[1;33m=\u001b[0m \u001b[0mdf\u001b[0m\u001b[1;33m.\u001b[0m\u001b[0mDate\u001b[0m\u001b[1;33m.\u001b[0m\u001b[0mdt\u001b[0m\u001b[1;33m.\u001b[0m\u001b[0mdate\u001b[0m\u001b[1;33m\u001b[0m\u001b[1;33m\u001b[0m\u001b[0m\n\u001b[0;32m      3\u001b[0m \u001b[0mdf\u001b[0m\u001b[1;33m.\u001b[0m\u001b[0mHour\u001b[0m \u001b[1;33m=\u001b[0m \u001b[0mdf\u001b[0m\u001b[1;33m.\u001b[0m\u001b[0mHour\u001b[0m\u001b[1;33m.\u001b[0m\u001b[0mdt\u001b[0m\u001b[1;33m.\u001b[0m\u001b[0mtime\u001b[0m\u001b[1;33m\u001b[0m\u001b[1;33m\u001b[0m\u001b[0m\n\u001b[1;32m----> 4\u001b[1;33m \u001b[0mdf\u001b[0m\u001b[1;33m.\u001b[0m\u001b[0mdtype\u001b[0m\u001b[1;33m\u001b[0m\u001b[1;33m\u001b[0m\u001b[0m\n\u001b[0m",
      "\u001b[1;32mC:\\ProgramData\\Anaconda3\\lib\\site-packages\\pandas\\core\\generic.py\u001b[0m in \u001b[0;36m__getattr__\u001b[1;34m(self, name)\u001b[0m\n\u001b[0;32m   5177\u001b[0m             \u001b[1;32mif\u001b[0m \u001b[0mself\u001b[0m\u001b[1;33m.\u001b[0m\u001b[0m_info_axis\u001b[0m\u001b[1;33m.\u001b[0m\u001b[0m_can_hold_identifiers_and_holds_name\u001b[0m\u001b[1;33m(\u001b[0m\u001b[0mname\u001b[0m\u001b[1;33m)\u001b[0m\u001b[1;33m:\u001b[0m\u001b[1;33m\u001b[0m\u001b[1;33m\u001b[0m\u001b[0m\n\u001b[0;32m   5178\u001b[0m                 \u001b[1;32mreturn\u001b[0m \u001b[0mself\u001b[0m\u001b[1;33m[\u001b[0m\u001b[0mname\u001b[0m\u001b[1;33m]\u001b[0m\u001b[1;33m\u001b[0m\u001b[1;33m\u001b[0m\u001b[0m\n\u001b[1;32m-> 5179\u001b[1;33m             \u001b[1;32mreturn\u001b[0m \u001b[0mobject\u001b[0m\u001b[1;33m.\u001b[0m\u001b[0m__getattribute__\u001b[0m\u001b[1;33m(\u001b[0m\u001b[0mself\u001b[0m\u001b[1;33m,\u001b[0m \u001b[0mname\u001b[0m\u001b[1;33m)\u001b[0m\u001b[1;33m\u001b[0m\u001b[1;33m\u001b[0m\u001b[0m\n\u001b[0m\u001b[0;32m   5180\u001b[0m \u001b[1;33m\u001b[0m\u001b[0m\n\u001b[0;32m   5181\u001b[0m     \u001b[1;32mdef\u001b[0m \u001b[0m__setattr__\u001b[0m\u001b[1;33m(\u001b[0m\u001b[0mself\u001b[0m\u001b[1;33m,\u001b[0m \u001b[0mname\u001b[0m\u001b[1;33m,\u001b[0m \u001b[0mvalue\u001b[0m\u001b[1;33m)\u001b[0m\u001b[1;33m:\u001b[0m\u001b[1;33m\u001b[0m\u001b[1;33m\u001b[0m\u001b[0m\n",
      "\u001b[1;31mAttributeError\u001b[0m: 'DataFrame' object has no attribute 'dtype'"
     ]
    }
   ],
   "source": [
    "# replace Hours with only time part and Date column with only date part (both should be converted to datetime type before this)\n",
    "df.Date = df.Date.dt.date\n",
    "df.Hour = df.Hour.dt.time\n"
   ]
  },
  {
   "cell_type": "code",
   "execution_count": 104,
   "metadata": {},
   "outputs": [
    {
     "data": {
      "text/plain": [
       "Airport      object\n",
       "Terminal     object\n",
       "Date         object\n",
       "Hour         object\n",
       "US AWT        int64\n",
       "US MWT        int64\n",
       "Non AWT       int64\n",
       "Non MWT       int64\n",
       "AWT           int64\n",
       "MWT           int64\n",
       "0-15          int64\n",
       "16-30         int64\n",
       "31-45         int64\n",
       "46-60         int64\n",
       "61-90         int64\n",
       "91-120        int64\n",
       "120 Plus      int64\n",
       "Ex cluded     int64\n",
       "Total         int64\n",
       "Flights       int64\n",
       "Booths        int64\n",
       "dtype: object"
      ]
     },
     "execution_count": 104,
     "metadata": {},
     "output_type": "execute_result"
    }
   ],
   "source": [
    "df.dtypes"
   ]
  },
  {
   "cell_type": "code",
   "execution_count": 108,
   "metadata": {},
   "outputs": [
    {
     "data": {
      "text/plain": [
       "datetime.date(2017, 1, 1)"
      ]
     },
     "execution_count": 108,
     "metadata": {},
     "output_type": "execute_result"
    }
   ],
   "source": [
    "df.Date.head()[0]"
   ]
  },
  {
   "cell_type": "code",
   "execution_count": 106,
   "metadata": {},
   "outputs": [
    {
     "data": {
      "text/plain": [
       "0    03:00:00\n",
       "1    04:00:00\n",
       "2    06:00:00\n",
       "3    07:00:00\n",
       "4    08:00:00\n",
       "Name: Hour, dtype: object"
      ]
     },
     "execution_count": 106,
     "metadata": {},
     "output_type": "execute_result"
    }
   ],
   "source": [
    "df.Hour.head()"
   ]
  },
  {
   "cell_type": "code",
   "execution_count": null,
   "metadata": {},
   "outputs": [],
   "source": [
    "# check data types again\n"
   ]
  },
  {
   "cell_type": "code",
   "execution_count": 115,
   "metadata": {},
   "outputs": [
    {
     "data": {
      "text/plain": [
       "0       2017-01-01 03:00:00\n",
       "1       2017-01-01 04:00:00\n",
       "2       2017-01-01 06:00:00\n",
       "3       2017-01-01 07:00:00\n",
       "4       2017-01-01 08:00:00\n",
       "               ...         \n",
       "6699    2017-12-31 18:00:00\n",
       "6700    2017-12-31 19:00:00\n",
       "6701    2017-12-31 20:00:00\n",
       "6702    2017-12-31 21:00:00\n",
       "6703    2017-12-31 23:00:00\n",
       "Length: 6704, dtype: object"
      ]
     },
     "execution_count": 115,
     "metadata": {},
     "output_type": "execute_result"
    }
   ],
   "source": [
    "df['Date'].astype('str') + \" \" + df['Hour'].astype('str')"
   ]
  },
  {
   "cell_type": "code",
   "execution_count": 116,
   "metadata": {},
   "outputs": [],
   "source": [
    "# merge date and hour column into a new column date_time (type of date_time should be datetime not str)\n",
    "df['date_time']=pd.to_datetime(df['Date'].astype('str') + \" \" + df['Hour'].astype('str'), format=\"%Y-%m-%d %H:%M:%S\")"
   ]
  },
  {
   "cell_type": "code",
   "execution_count": 110,
   "metadata": {},
   "outputs": [
    {
     "name": "stdout",
     "output_type": "stream",
     "text": [
      "['T', '_AXIS_ALIASES', '_AXIS_IALIASES', '_AXIS_LEN', '_AXIS_NAMES', '_AXIS_NUMBERS', '_AXIS_ORDERS', '_AXIS_REVERSED', '_HANDLED_TYPES', '__abs__', '__add__', '__and__', '__array__', '__array_priority__', '__array_ufunc__', '__array_wrap__', '__bool__', '__class__', '__contains__', '__copy__', '__deepcopy__', '__delattr__', '__delitem__', '__dict__', '__dir__', '__div__', '__divmod__', '__doc__', '__eq__', '__finalize__', '__float__', '__floordiv__', '__format__', '__ge__', '__getattr__', '__getattribute__', '__getitem__', '__getstate__', '__gt__', '__hash__', '__iadd__', '__iand__', '__ifloordiv__', '__imod__', '__imul__', '__init__', '__init_subclass__', '__int__', '__invert__', '__ior__', '__ipow__', '__isub__', '__iter__', '__itruediv__', '__ixor__', '__le__', '__len__', '__long__', '__lt__', '__matmul__', '__mod__', '__module__', '__mul__', '__ne__', '__neg__', '__new__', '__nonzero__', '__or__', '__pos__', '__pow__', '__radd__', '__rand__', '__rdiv__', '__rdivmod__', '__reduce__', '__reduce_ex__', '__repr__', '__rfloordiv__', '__rmatmul__', '__rmod__', '__rmul__', '__ror__', '__round__', '__rpow__', '__rsub__', '__rtruediv__', '__rxor__', '__setattr__', '__setitem__', '__setstate__', '__sizeof__', '__str__', '__sub__', '__subclasshook__', '__truediv__', '__weakref__', '__xor__', '_accessors', '_add_numeric_operations', '_add_series_only_operations', '_add_series_or_dataframe_operations', '_agg_by_level', '_agg_examples_doc', '_agg_see_also_doc', '_aggregate', '_aggregate_multiple_funcs', '_align_frame', '_align_series', '_binop', '_box_item_values', '_builtin_table', '_can_hold_na', '_check_inplace_setting', '_check_is_chained_assignment_possible', '_check_label_or_level_ambiguity', '_check_percentile', '_check_setitem_copy', '_clear_item_cache', '_clip_with_one_bound', '_clip_with_scalar', '_consolidate', '_consolidate_inplace', '_construct_axes_dict', '_construct_axes_dict_from', '_construct_axes_from_arguments', '_constructor', '_constructor_expanddim', '_constructor_sliced', '_convert', '_create_indexer', '_cython_table', '_data', '_deprecations', '_dir_additions', '_dir_deletions', '_drop_axis', '_drop_labels_or_levels', '_find_valid_index', '_formatting_values', '_from_axes', '_get_axis', '_get_axis_name', '_get_axis_number', '_get_axis_resolvers', '_get_block_manager_axis', '_get_bool_data', '_get_cacher', '_get_index_resolvers', '_get_item_cache', '_get_label_or_level_values', '_get_numeric_data', '_get_space_character_free_column_resolvers', '_get_value', '_get_values', '_get_values_tuple', '_get_with', '_gotitem', '_iget_item_cache', '_index', '_indexed_same', '_info_axis', '_info_axis_name', '_info_axis_number', '_init_dict', '_init_mgr', '_internal_get_values', '_internal_names', '_internal_names_set', '_is_builtin_func', '_is_cached', '_is_copy', '_is_cython_func', '_is_datelike_mixed_type', '_is_homogeneous_type', '_is_label_or_level_reference', '_is_label_reference', '_is_level_reference', '_is_mixed_type', '_is_numeric_mixed_type', '_is_view', '_ix', '_ixs', '_map_values', '_maybe_cache_changed', '_maybe_update_cacher', '_metadata', '_ndarray_values', '_needs_reindex_multi', '_obj_with_exclusions', '_protect_consolidate', '_reduce', '_reindex_axes', '_reindex_indexer', '_reindex_multi', '_reindex_with_indexers', '_repr_data_resource_', '_repr_latex_', '_reset_cache', '_reset_cacher', '_selected_obj', '_selection', '_selection_list', '_selection_name', '_set_as_cached', '_set_axis', '_set_axis_name', '_set_is_copy', '_set_item', '_set_labels', '_set_name', '_set_subtyp', '_set_value', '_set_values', '_set_with', '_set_with_engine', '_setup_axes', '_shallow_copy', '_slice', '_stat_axis', '_stat_axis_name', '_stat_axis_number', '_to_dict_of_blocks', '_try_aggregate_string_function', '_typ', '_unpickle_series_compat', '_update_inplace', '_validate_dtype', '_values', '_where', '_xs', 'abs', 'add', 'add_prefix', 'add_suffix', 'agg', 'aggregate', 'align', 'all', 'any', 'append', 'apply', 'argmax', 'argmin', 'argsort', 'array', 'as_matrix', 'asfreq', 'asof', 'astype', 'at', 'at_time', 'autocorr', 'axes', 'base', 'between', 'between_time', 'bfill', 'bool', 'clip', 'clip_lower', 'clip_upper', 'combine', 'combine_first', 'compound', 'compress', 'copy', 'corr', 'count', 'cov', 'cummax', 'cummin', 'cumprod', 'cumsum', 'data', 'describe', 'diff', 'div', 'divide', 'divmod', 'dot', 'drop', 'drop_duplicates', 'droplevel', 'dropna', 'dtype', 'dtypes', 'duplicated', 'empty', 'eq', 'equals', 'ewm', 'expanding', 'explode', 'factorize', 'ffill', 'fillna', 'filter', 'first', 'first_valid_index', 'flags', 'floordiv', 'from_array', 'ftype', 'ftypes', 'ge', 'get', 'get_dtype_counts', 'get_ftype_counts', 'get_values', 'groupby', 'gt', 'hasnans', 'head', 'hist', 'iat', 'idxmax', 'idxmin', 'iloc', 'imag', 'index', 'infer_objects', 'interpolate', 'is_monotonic', 'is_monotonic_decreasing', 'is_monotonic_increasing', 'is_unique', 'isin', 'isna', 'isnull', 'item', 'items', 'itemsize', 'iteritems', 'ix', 'keys', 'kurt', 'kurtosis', 'last', 'last_valid_index', 'le', 'loc', 'lt', 'mad', 'map', 'mask', 'max', 'mean', 'median', 'memory_usage', 'min', 'mod', 'mode', 'mul', 'multiply', 'name', 'nbytes', 'ndim', 'ne', 'nlargest', 'nonzero', 'notna', 'notnull', 'nsmallest', 'nunique', 'pct_change', 'pipe', 'plot', 'pop', 'pow', 'prod', 'product', 'ptp', 'put', 'quantile', 'radd', 'rank', 'ravel', 'rdiv', 'rdivmod', 'real', 'reindex', 'reindex_like', 'rename', 'rename_axis', 'reorder_levels', 'repeat', 'replace', 'resample', 'reset_index', 'rfloordiv', 'rmod', 'rmul', 'rolling', 'round', 'rpow', 'rsub', 'rtruediv', 'sample', 'searchsorted', 'sem', 'set_axis', 'shape', 'shift', 'size', 'skew', 'slice_shift', 'sort_index', 'sort_values', 'squeeze', 'std', 'strides', 'sub', 'subtract', 'sum', 'swapaxes', 'swaplevel', 'tail', 'take', 'to_clipboard', 'to_csv', 'to_dense', 'to_dict', 'to_excel', 'to_frame', 'to_hdf', 'to_json', 'to_latex', 'to_list', 'to_msgpack', 'to_numpy', 'to_period', 'to_pickle', 'to_sparse', 'to_sql', 'to_string', 'to_timestamp', 'to_xarray', 'transform', 'transpose', 'truediv', 'truncate', 'tshift', 'tz_convert', 'tz_localize', 'unique', 'unstack', 'update', 'value_counts', 'values', 'var', 'view', 'where', 'xs']\n"
     ]
    }
   ],
   "source": [
    "print(dir(df['Date']))"
   ]
  },
  {
   "cell_type": "code",
   "execution_count": 117,
   "metadata": {},
   "outputs": [
    {
     "data": {
      "text/plain": [
       "0      2017-01-01 03:00:00\n",
       "1      2017-01-01 04:00:00\n",
       "2      2017-01-01 06:00:00\n",
       "3      2017-01-01 07:00:00\n",
       "4      2017-01-01 08:00:00\n",
       "               ...        \n",
       "6699   2017-12-31 18:00:00\n",
       "6700   2017-12-31 19:00:00\n",
       "6701   2017-12-31 20:00:00\n",
       "6702   2017-12-31 21:00:00\n",
       "6703   2017-12-31 23:00:00\n",
       "Name: date_time, Length: 6704, dtype: datetime64[ns]"
      ]
     },
     "execution_count": 117,
     "metadata": {},
     "output_type": "execute_result"
    }
   ],
   "source": [
    "df.date_time"
   ]
  },
  {
   "cell_type": "code",
   "execution_count": 124,
   "metadata": {},
   "outputs": [],
   "source": [
    "\n",
    "\n",
    "df = pd.read_excel(r'AWT.xls', dtype={\"Date\": str},  header=[0])\n",
    "\n"
   ]
  },
  {
   "cell_type": "code",
   "execution_count": 126,
   "metadata": {},
   "outputs": [
    {
     "data": {
      "text/plain": [
       "'2017-01-01 00:00:00'"
      ]
     },
     "execution_count": 126,
     "metadata": {},
     "output_type": "execute_result"
    }
   ],
   "source": [
    "df.Date[4]"
   ]
  },
  {
   "cell_type": "code",
   "execution_count": 128,
   "metadata": {},
   "outputs": [],
   "source": [
    "import dateutil"
   ]
  },
  {
   "cell_type": "code",
   "execution_count": 129,
   "metadata": {},
   "outputs": [
    {
     "data": {
      "text/plain": [
       "<module 'dateutil.parser' from 'C:\\\\ProgramData\\\\Anaconda3\\\\lib\\\\site-packages\\\\dateutil\\\\parser\\\\__init__.py'>"
      ]
     },
     "execution_count": 129,
     "metadata": {},
     "output_type": "execute_result"
    }
   ],
   "source": [
    "dateutil.parser.parse()"
   ]
  },
  {
   "cell_type": "code",
   "execution_count": 141,
   "metadata": {},
   "outputs": [],
   "source": [
    "\n",
    "df = pd.read_excel(r'AWT.xls', header=[0,1,2,3])\n",
    "df.columns = df.columns.map(','.join)\n",
    "df.columns = ['Airport', 'Terminal', 'Date', 'Hour', 'US AWT', 'US MWT', 'Non AWT', 'Non MWT', 'AWT', 'MWT', '0-15', '16-30', '31-45', '46-60', '61-90', '91-120', '120 Plus', 'Ex cluded', 'Total', 'Flights', 'Booths']\n",
    "\n"
   ]
  },
  {
   "cell_type": "code",
   "execution_count": 146,
   "metadata": {},
   "outputs": [],
   "source": [
    "# 1\n",
    "df.Date = df.Date.apply(lambda x: pd.to_datetime(x).strftime('%Y-%m-%d %H:%M:%S'))\n"
   ]
  },
  {
   "cell_type": "code",
   "execution_count": 147,
   "metadata": {},
   "outputs": [],
   "source": [
    "df.Date = pd.to_datetime(pd.Series(df.Date), format=\"%Y-%m-%d\")\n"
   ]
  },
  {
   "cell_type": "code",
   "execution_count": 148,
   "metadata": {},
   "outputs": [
    {
     "data": {
      "text/plain": [
       "0     1\n",
       "1     1\n",
       "2     1\n",
       "3     1\n",
       "4     1\n",
       "5     1\n",
       "6     1\n",
       "7     1\n",
       "8     1\n",
       "9     1\n",
       "10    1\n",
       "11    1\n",
       "12    1\n",
       "13    1\n",
       "14    1\n",
       "15    1\n",
       "16    1\n",
       "17    1\n",
       "18    1\n",
       "19    1\n",
       "20    1\n",
       "21    1\n",
       "22    1\n",
       "23    1\n",
       "24    1\n",
       "25    1\n",
       "26    1\n",
       "27    1\n",
       "28    1\n",
       "29    1\n",
       "Name: Date, dtype: int64"
      ]
     },
     "execution_count": 148,
     "metadata": {},
     "output_type": "execute_result"
    }
   ],
   "source": [
    "df.Date.head(30).dt.day"
   ]
  },
  {
   "cell_type": "code",
   "execution_count": 139,
   "metadata": {},
   "outputs": [
    {
     "data": {
      "text/plain": [
       "'1/16/2017'"
      ]
     },
     "execution_count": 139,
     "metadata": {},
     "output_type": "execute_result"
    }
   ],
   "source": [
    "df.Date[300]"
   ]
  },
  {
   "cell_type": "code",
   "execution_count": 140,
   "metadata": {},
   "outputs": [
    {
     "data": {
      "text/plain": [
       "datetime.datetime(2017, 1, 1, 0, 0)"
      ]
     },
     "execution_count": 140,
     "metadata": {},
     "output_type": "execute_result"
    }
   ],
   "source": [
    "df.Date[0]"
   ]
  },
  {
   "cell_type": "code",
   "execution_count": 133,
   "metadata": {},
   "outputs": [
    {
     "data": {
      "text/plain": [
       "Airport                                     object\n",
       "Terminal                                    object\n",
       "Date                                datetime64[ns]\n",
       "Hour                                        object\n",
       "U.S. CitizenAverage WaitTime                 int64\n",
       "U.S. CitizenMax WaitTime                     int64\n",
       "Non U.S. CitizenAverage WaitTime             int64\n",
       "Non U.S. CitizenMax WaitTime                 int64\n",
       "Wait TimesAverage WaitTime                   int64\n",
       "Wait TimesMax WaitTime                       int64\n",
       "0-15                                         int64\n",
       "16-30                                        int64\n",
       "31-45                                        int64\n",
       "46-60                                        int64\n",
       "61-90                                        int64\n",
       "91-120                                       int64\n",
       "120 plus                                     int64\n",
       "Excluded                                     int64\n",
       "Total                                        int64\n",
       "Flights                                      int64\n",
       "Booths                                       int64\n",
       "dtype: object"
      ]
     },
     "execution_count": 133,
     "metadata": {},
     "output_type": "execute_result"
    }
   ],
   "source": [
    "awt = df\n",
    "\n",
    "a1= awt[\"Date\"].apply(lambda x: pd.to_datetime(x) if isinstance(x,str) else pd.to_datetime(x,format='%Y-%d-%m %H:%M:%S'))\n",
    "awt[\"Date\"]=a1\n",
    "awt.dtypes\n"
   ]
  },
  {
   "cell_type": "code",
   "execution_count": 137,
   "metadata": {},
   "outputs": [
    {
     "data": {
      "text/plain": [
       "0    2017-01-01\n",
       "1    2017-01-01\n",
       "2    2017-01-01\n",
       "3    2017-01-01\n",
       "4    2017-01-01\n",
       "5    2017-01-01\n",
       "6    2017-01-01\n",
       "7    2017-01-01\n",
       "8    2017-01-01\n",
       "9    2017-01-01\n",
       "10   2017-01-01\n",
       "11   2017-01-01\n",
       "12   2017-01-01\n",
       "13   2017-01-01\n",
       "14   2017-01-01\n",
       "15   2017-01-01\n",
       "16   2017-01-01\n",
       "17   2017-01-01\n",
       "18   2017-01-01\n",
       "19   2017-01-01\n",
       "20   2017-01-02\n",
       "21   2017-01-02\n",
       "22   2017-01-02\n",
       "23   2017-01-02\n",
       "24   2017-01-02\n",
       "25   2017-01-02\n",
       "26   2017-01-02\n",
       "27   2017-01-02\n",
       "28   2017-01-02\n",
       "29   2017-01-02\n",
       "Name: Date, dtype: datetime64[ns]"
      ]
     },
     "execution_count": 137,
     "metadata": {},
     "output_type": "execute_result"
    }
   ],
   "source": [
    "a1.head(30)"
   ]
  },
  {
   "cell_type": "code",
   "execution_count": 136,
   "metadata": {},
   "outputs": [
    {
     "data": {
      "text/plain": [
       "231   2017-01-13\n",
       "232   2017-01-13\n",
       "233   2017-01-13\n",
       "234   2017-01-13\n",
       "235   2017-01-13\n",
       "Name: Date, dtype: datetime64[ns]"
      ]
     },
     "execution_count": 136,
     "metadata": {},
     "output_type": "execute_result"
    }
   ],
   "source": [
    "a1.head(236).tail()"
   ]
  }
 ],
 "metadata": {
  "kernelspec": {
   "display_name": "Python 3",
   "language": "python",
   "name": "python3"
  },
  "language_info": {
   "codemirror_mode": {
    "name": "ipython",
    "version": 3
   },
   "file_extension": ".py",
   "mimetype": "text/x-python",
   "name": "python",
   "nbconvert_exporter": "python",
   "pygments_lexer": "ipython3",
   "version": "3.7.4"
  }
 },
 "nbformat": 4,
 "nbformat_minor": 2
}

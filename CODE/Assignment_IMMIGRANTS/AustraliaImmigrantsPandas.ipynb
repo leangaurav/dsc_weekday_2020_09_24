{
 "cells": [
  {
   "cell_type": "markdown",
   "metadata": {},
   "source": [
    "- Read sheet \"Australia by Residence\" from Australia.xlsx\n",
    "- Ignore the first 20 rows.\n",
    "- List all Column and Row indexes(Print their names)\n",
    "\n",
    "Dataset Analysis\n",
    "- Describe the dataset\n",
    "- Use values and index attributes on both Row and Column Indexes\n",
    "- Check Shape, Datatypes and other attributes and observe the datatype of each columns' data\n",
    "  \n",
    "\n",
    "Drop\n",
    "- Delete all Data where the Type = \"Emigrants\" or Type is not \"Immigrants\" (Row Deletion)\n",
    "- Find columns for which more than 50% data is missing and drop them (Column Deletion)\n",
    "- Drop Unnessary Columns: Type, Coverage, Area, Reg, Dev (Column deletion)\n",
    "    Your columns should now look like \"OdName,AreaName,RegName,DevName,1980 ... 2008\"\n",
    "\n",
    "Rename\n",
    "- Rename columns :OdName -> Country; RegName -> Region\n",
    "- Convert Column Names with Int type to Strings to avoid index errors with string indexing \"1980, 1981 etc.\" => \" '1980', '1981' ... \" (Use rename)\n",
    "- Find Total number of immigrants for all years, and create a new column Total in data Frame\n",
    "\n",
    "Head Tail Sort\n",
    "- Sort Data by the new column Total in descending order and analyze the fist few rows. (get first few rows using head)\n",
    "    - find something weird in the dataset ? Delete that row 'world'\n",
    "- Analyze last few rows also in the sorted result (Don't sort inplace)\n",
    "\n",
    "- Check if these have all unique values or not:\n",
    "    - countries\n",
    "    - continents (AreaName)\n",
    "    - country continent pairs\n",
    "\n",
    "\n",
    "- Find countries for which no of immigrants for all years is 0\n",
    "- Find count of above countries\n",
    "- Find countries for which no of immigrants is 0 for any year\n",
    "\n",
    "Save Data\n",
    "- Drop the row where AreaName is 'World'\n",
    "- Save the dataset to a new file AustraliaFiltered.xlsx"
   ]
  },
  {
   "cell_type": "code",
   "execution_count": null,
   "metadata": {},
   "outputs": [],
   "source": []
  },
  {
   "cell_type": "code",
   "execution_count": null,
   "metadata": {},
   "outputs": [],
   "source": [
    "\n",
    "# Delete all Data where the Type = \"Emigrants\" or Type is not \"Immigrants\" (Row Deletion)\n",
    "df.columns=df.iloc[0]\n",
    "df=df[1:]\n",
    "dele=df[(df['Type']=='Emigrants') | (df['Type']!='Immigrants')]\n",
    "df=df.drop(index=dele.index)\n",
    "print(df)\n",
    "\n",
    "#Ankit\n",
    "r = df.loc[df['Type']==\"Emigrants\"]\n",
    "df.drop(r.index, inplace=True)\n",
    "\n",
    "df.drop(df[(df[\"Type\"]==\"Emigrants\")|(df[\"Type\"]!=\"Immigrants\")].index,inplace=True)\n",
    "\n",
    "#bhavesh\n",
    "data = data.set_index(\"Type\")\n",
    "data = data.drop(\"Emigrants\", axis=0)\n",
    "\n",
    "# vaidehi\n",
    "df1=df[df.Type != 'Emigrants']\n"
   ]
  },
  {
   "cell_type": "code",
   "execution_count": null,
   "metadata": {},
   "outputs": [],
   "source": [
    "# Find columns for which more than 50% data is missing and drop them (Column Deletion)\n",
    "df.isna.sum()\n",
    "\n",
    "df1.dropna(thresh=0.5*df1.shape[0], axis=1, inplace=True)"
   ]
  },
  {
   "cell_type": "code",
   "execution_count": null,
   "metadata": {},
   "outputs": [],
   "source": [
    "aus.replace('..', np.nan, inplace=True) # as columns from 2009 to 2013 don't have values, these have .., so replacing with NaN\n",
    "aus\n",
    "\n",
    "\n",
    "df.drop(labels=[2009,2010,2011,2012,2013],axis=1,inplace=True)"
   ]
  },
  {
   "cell_type": "code",
   "execution_count": null,
   "metadata": {},
   "outputs": [],
   "source": [
    "# Drop Unnessary Columns: Type, Coverage, Area, Reg, Dev (Column deletion) Your columns should now look like \"OdName,AreaName,RegName,DevName,1980 ... 2008\""
   ]
  },
  {
   "cell_type": "code",
   "execution_count": null,
   "metadata": {},
   "outputs": [],
   "source": [
    "# Rename columns :OdName -> Country; RegName -> Region\n",
    "df.rename({\"OdName\":\"Country\",\"RegName\":\"Region\"},axis=1,inplace=True)\n",
    "df.rename(columns={'OdName':'Country','RegName':'Region'},inplace=True)\n",
    "ds1.rename(columns={\"OdName\": \"Country\", \"RegName\": \"Region\"}, inplace=True)"
   ]
  },
  {
   "cell_type": "code",
   "execution_count": null,
   "metadata": {},
   "outputs": [],
   "source": [
    "# Convert Column Names with Int type to Strings to avoid index errors with string indexing \"1980, 1981 etc.\" => \" '1980', '1981' ... \" (Use rename)\n",
    "def conv_str(col_name):\n",
    "    return(str(col_name))\n",
    "df.rename(mapper=conv_str,axis=1,inplace=True)\n",
    "\n",
    "#Ankit\n",
    "df.rename(lambda x: str(x),inplace=True,axis=1)\n",
    "\n",
    "\n",
    "#vineet\n",
    "df.columns = list(map(str, df.columns))\n",
    "\n",
    "\n",
    "r.rename(index=str)"
   ]
  },
  {
   "cell_type": "code",
   "execution_count": 1,
   "metadata": {},
   "outputs": [],
   "source": [
    "import pandas as pd"
   ]
  },
  {
   "cell_type": "code",
   "execution_count": 6,
   "metadata": {},
   "outputs": [
    {
     "name": "stdout",
     "output_type": "stream",
     "text": [
      "0      []\n",
      "1    abcd\n",
      "dtype: object\n",
      "<class 'list'>\n",
      "<class 'str'>\n"
     ]
    }
   ],
   "source": [
    "s = pd.Series([[], 'abcd'])\n",
    "print(s)\n",
    "print(type(s[0]))\n",
    "print(type(s[1]))"
   ]
  },
  {
   "cell_type": "code",
   "execution_count": null,
   "metadata": {},
   "outputs": [],
   "source": [
    "#  Find Total number of immigrants for all years, and create a new column Total in data Frame\n",
    "a=aus.columns[4:33]\n",
    "aus['Total']=aus[a].sum(axis=1)\n",
    "\n",
    "df['Total'] = df[df.columns[4:]].sum(axis=1)\n",
    "\n",
    "r['Total']=r.sum(numeric_only=True, axis=1)"
   ]
  },
  {
   "cell_type": "code",
   "execution_count": null,
   "metadata": {},
   "outputs": [],
   "source": [
    "# Sort Data by the new column Total in descending order and analyze the fist few rows. (get first few rows using head)\n",
    "df=df.sort_values('Total',ascending=False)\n",
    "df.head()\n"
   ]
  },
  {
   "cell_type": "code",
   "execution_count": null,
   "metadata": {},
   "outputs": [],
   "source": [
    "# Check if these have all unique values or not:\n",
    "\n",
    "# countries\n",
    "# continents (AreaName)\n",
    "# country continent pairs\n",
    "\n",
    "df.head()\n",
    "df.DevName.unique()\n",
    "df.Country.unique()\n",
    "df.AreaName.unique()\n",
    "df.Region.unique()\n",
    "\n",
    "df.set_index(['Country','AreaName']).index.is_unique \n",
    "\n",
    "(aus[\"Country\"].append(aus[\"AreaName\"])).unique()\n",
    "\n",
    "(df.Country + df.AreaName).unique()\n"
   ]
  },
  {
   "cell_type": "code",
   "execution_count": null,
   "metadata": {},
   "outputs": [],
   "source": [
    "#  Find countries for which no of immigrants for all years is 0"
   ]
  },
  {
   "cell_type": "code",
   "execution_count": null,
   "metadata": {},
   "outputs": [],
   "source": [
    "# Find count of above countries\n",
    "df1.Country[df.Total==0].shape[0]\n",
    "\n",
    "b=a.query('Total==0')['Country']\n",
    "print(b)\n",
    "b.count()\n",
    "\n",
    "\n",
    "b=a.query(\"Country == 'abcd' & AreaName == 'pqr'\")['Country']\n",
    "print(b)\n",
    "b.count()"
   ]
  },
  {
   "cell_type": "code",
   "execution_count": null,
   "metadata": {},
   "outputs": [],
   "source": [
    "# Find countries for which no of immigrants is 0 for any year\n",
    "df.Country[(df.loc[:,'1980.0':]==0.0).any(axis=1)]\n",
    "(df.loc[:,'1980.0':]==0.0).any(axis=1).sum()\n",
    "# 104\n",
    "# 121\n",
    "# 121\n"
   ]
  },
  {
   "cell_type": "code",
   "execution_count": null,
   "metadata": {},
   "outputs": [],
   "source": [
    "# Drop the row where AreaName is 'World'\n",
    "aus.drop(aus.loc[aus['AreaName']=='World'].index, inplace=True)\n",
    "a=aus[aus.AreaName!='World']"
   ]
  },
  {
   "cell_type": "code",
   "execution_count": null,
   "metadata": {},
   "outputs": [],
   "source": [
    "# Save the dataset to a new file AustraliaFiltered.xlsx"
   ]
  },
  {
   "cell_type": "code",
   "execution_count": null,
   "metadata": {},
   "outputs": [],
   "source": []
  }
 ],
 "metadata": {
  "kernelspec": {
   "display_name": "Python 3",
   "language": "python",
   "name": "python3"
  },
  "language_info": {
   "codemirror_mode": {
    "name": "ipython",
    "version": 3
   },
   "file_extension": ".py",
   "mimetype": "text/x-python",
   "name": "python",
   "nbconvert_exporter": "python",
   "pygments_lexer": "ipython3",
   "version": "3.7.4"
  }
 },
 "nbformat": 4,
 "nbformat_minor": 2
}
